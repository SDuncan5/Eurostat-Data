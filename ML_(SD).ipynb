{
  "nbformat": 4,
  "nbformat_minor": 0,
  "metadata": {
    "colab": {
      "provenance": []
    },
    "kernelspec": {
      "name": "python3",
      "display_name": "Python 3"
    },
    "language_info": {
      "name": "python"
    }
  },
  "cells": [
    {
      "cell_type": "markdown",
      "source": [
        "The goal of this notebook is to predict GDP in general.\n",
        "I'm training models on all data instead of splitting into training and test because the end goal is to predict the future.\n",
        "\n",
        "Testing:\n",
        "- With and without Year label\n",
        "- For all values versus predicting in the new year, 2021"
      ],
      "metadata": {
        "id": "0xCx9jRwGOL1"
      }
    },
    {
      "cell_type": "code",
      "source": [
        "import pandas as pd\n",
        "import numpy as np\n",
        "import matplotlib.pyplot as plt"
      ],
      "metadata": {
        "id": "zUeIZC96FrPk"
      },
      "execution_count": 1,
      "outputs": []
    },
    {
      "cell_type": "code",
      "execution_count": 4,
      "metadata": {
        "colab": {
          "base_uri": "https://localhost:8080/",
          "height": 461
        },
        "id": "6z75J8i0FmIm",
        "outputId": "36ebaf9f-e7b1-4937-e671-942064859d36"
      },
      "outputs": [
        {
          "output_type": "execute_result",
          "data": {
            "text/plain": [
              "          geo  Year     CPI  Immigrants  Population  Housing Index       GDP  \\\n",
              "0     Austria  2011   93.35     82230.0   8391643.0          81.60  310128.7   \n",
              "1     Austria  2012   95.75     91557.0   8429991.0          87.57  318653.0   \n",
              "2     Austria  2013   97.77    101866.0   8479823.0          92.10  323910.2   \n",
              "3     Austria  2014   99.20    116262.0   8546356.0          95.33  333146.1   \n",
              "4     Austria  2015  100.00    166323.0   8642699.0         100.00  344269.2   \n",
              "..        ...   ...     ...         ...         ...            ...       ...   \n",
              "280  Slovakia  2017  100.90      7188.0   5439232.0         112.99   84669.9   \n",
              "281  Slovakia  2018  103.46      7253.0   5446771.0         121.32   89874.7   \n",
              "282  Slovakia  2019  106.33      7016.0   5454147.0         132.39   94429.7   \n",
              "283  Slovakia  2020  108.47      6775.0   5458827.0         145.06   93444.1   \n",
              "284  Slovakia  2021  111.53      5733.0   5447247.0         154.33  100255.7   \n",
              "\n",
              "     emigration  unemployment  total_deaths   Exports   Imports  \\\n",
              "0       51197.0           3.3       76479.0  127462.4  137512.5   \n",
              "1       51812.0           3.5       79436.0  129678.5  138942.4   \n",
              "2       54071.0           3.8       79526.0  131884.6  137999.8   \n",
              "3       53491.0           4.0       78252.0  134172.5  137001.2   \n",
              "4       56689.0           4.1       83073.0  137756.8  140699.2   \n",
              "..          ...           ...           ...       ...       ...   \n",
              "280      3466.0           5.4       53914.0   73790.1   72191.9   \n",
              "281      3298.0           4.3       54293.0   79136.9   78727.4   \n",
              "282      3384.0           3.8       53234.0   79962.0   80407.4   \n",
              "283      2428.0           4.4       59089.0   75586.2   73700.2   \n",
              "284      3395.0           4.5       73461.0   87868.1   87904.7   \n",
              "\n",
              "     Immigrants_pcap      GDP_pcap  Emigrants_pcap  Deaths_pcap  Exports_pcap  \\\n",
              "0           0.009799  36956.851000        0.006101     0.009114      0.015189   \n",
              "1           0.010861  37799.921732        0.006146     0.009423      0.015383   \n",
              "2           0.012013  38197.754835        0.006376     0.009378      0.015553   \n",
              "3           0.013604  38981.069827        0.006259     0.009156      0.015699   \n",
              "4           0.019244  39833.528855        0.006559     0.009612      0.015939   \n",
              "..               ...           ...             ...          ...           ...   \n",
              "280         0.001322  15566.517479        0.000637     0.009912      0.013566   \n",
              "281         0.001332  16500.546838        0.000605     0.009968      0.014529   \n",
              "282         0.001286  17313.376409        0.000620     0.009760      0.014661   \n",
              "283         0.001241  17117.981574        0.000445     0.010824      0.013847   \n",
              "284         0.001052  18404.838261        0.000623     0.013486      0.016131   \n",
              "\n",
              "     Imports_pcap  \n",
              "0        0.016387  \n",
              "1        0.016482  \n",
              "2        0.016274  \n",
              "3        0.016030  \n",
              "4        0.016280  \n",
              "..            ...  \n",
              "280      0.013272  \n",
              "281      0.014454  \n",
              "282      0.014742  \n",
              "283      0.013501  \n",
              "284      0.016137  \n",
              "\n",
              "[285 rows x 18 columns]"
            ],
            "text/html": [
              "\n",
              "  <div id=\"df-660393d0-3370-48b6-9a2f-7c0e1fc95d31\" class=\"colab-df-container\">\n",
              "    <div>\n",
              "<style scoped>\n",
              "    .dataframe tbody tr th:only-of-type {\n",
              "        vertical-align: middle;\n",
              "    }\n",
              "\n",
              "    .dataframe tbody tr th {\n",
              "        vertical-align: top;\n",
              "    }\n",
              "\n",
              "    .dataframe thead th {\n",
              "        text-align: right;\n",
              "    }\n",
              "</style>\n",
              "<table border=\"1\" class=\"dataframe\">\n",
              "  <thead>\n",
              "    <tr style=\"text-align: right;\">\n",
              "      <th></th>\n",
              "      <th>geo</th>\n",
              "      <th>Year</th>\n",
              "      <th>CPI</th>\n",
              "      <th>Immigrants</th>\n",
              "      <th>Population</th>\n",
              "      <th>Housing Index</th>\n",
              "      <th>GDP</th>\n",
              "      <th>emigration</th>\n",
              "      <th>unemployment</th>\n",
              "      <th>total_deaths</th>\n",
              "      <th>Exports</th>\n",
              "      <th>Imports</th>\n",
              "      <th>Immigrants_pcap</th>\n",
              "      <th>GDP_pcap</th>\n",
              "      <th>Emigrants_pcap</th>\n",
              "      <th>Deaths_pcap</th>\n",
              "      <th>Exports_pcap</th>\n",
              "      <th>Imports_pcap</th>\n",
              "    </tr>\n",
              "  </thead>\n",
              "  <tbody>\n",
              "    <tr>\n",
              "      <th>0</th>\n",
              "      <td>Austria</td>\n",
              "      <td>2011</td>\n",
              "      <td>93.35</td>\n",
              "      <td>82230.0</td>\n",
              "      <td>8391643.0</td>\n",
              "      <td>81.60</td>\n",
              "      <td>310128.7</td>\n",
              "      <td>51197.0</td>\n",
              "      <td>3.3</td>\n",
              "      <td>76479.0</td>\n",
              "      <td>127462.4</td>\n",
              "      <td>137512.5</td>\n",
              "      <td>0.009799</td>\n",
              "      <td>36956.851000</td>\n",
              "      <td>0.006101</td>\n",
              "      <td>0.009114</td>\n",
              "      <td>0.015189</td>\n",
              "      <td>0.016387</td>\n",
              "    </tr>\n",
              "    <tr>\n",
              "      <th>1</th>\n",
              "      <td>Austria</td>\n",
              "      <td>2012</td>\n",
              "      <td>95.75</td>\n",
              "      <td>91557.0</td>\n",
              "      <td>8429991.0</td>\n",
              "      <td>87.57</td>\n",
              "      <td>318653.0</td>\n",
              "      <td>51812.0</td>\n",
              "      <td>3.5</td>\n",
              "      <td>79436.0</td>\n",
              "      <td>129678.5</td>\n",
              "      <td>138942.4</td>\n",
              "      <td>0.010861</td>\n",
              "      <td>37799.921732</td>\n",
              "      <td>0.006146</td>\n",
              "      <td>0.009423</td>\n",
              "      <td>0.015383</td>\n",
              "      <td>0.016482</td>\n",
              "    </tr>\n",
              "    <tr>\n",
              "      <th>2</th>\n",
              "      <td>Austria</td>\n",
              "      <td>2013</td>\n",
              "      <td>97.77</td>\n",
              "      <td>101866.0</td>\n",
              "      <td>8479823.0</td>\n",
              "      <td>92.10</td>\n",
              "      <td>323910.2</td>\n",
              "      <td>54071.0</td>\n",
              "      <td>3.8</td>\n",
              "      <td>79526.0</td>\n",
              "      <td>131884.6</td>\n",
              "      <td>137999.8</td>\n",
              "      <td>0.012013</td>\n",
              "      <td>38197.754835</td>\n",
              "      <td>0.006376</td>\n",
              "      <td>0.009378</td>\n",
              "      <td>0.015553</td>\n",
              "      <td>0.016274</td>\n",
              "    </tr>\n",
              "    <tr>\n",
              "      <th>3</th>\n",
              "      <td>Austria</td>\n",
              "      <td>2014</td>\n",
              "      <td>99.20</td>\n",
              "      <td>116262.0</td>\n",
              "      <td>8546356.0</td>\n",
              "      <td>95.33</td>\n",
              "      <td>333146.1</td>\n",
              "      <td>53491.0</td>\n",
              "      <td>4.0</td>\n",
              "      <td>78252.0</td>\n",
              "      <td>134172.5</td>\n",
              "      <td>137001.2</td>\n",
              "      <td>0.013604</td>\n",
              "      <td>38981.069827</td>\n",
              "      <td>0.006259</td>\n",
              "      <td>0.009156</td>\n",
              "      <td>0.015699</td>\n",
              "      <td>0.016030</td>\n",
              "    </tr>\n",
              "    <tr>\n",
              "      <th>4</th>\n",
              "      <td>Austria</td>\n",
              "      <td>2015</td>\n",
              "      <td>100.00</td>\n",
              "      <td>166323.0</td>\n",
              "      <td>8642699.0</td>\n",
              "      <td>100.00</td>\n",
              "      <td>344269.2</td>\n",
              "      <td>56689.0</td>\n",
              "      <td>4.1</td>\n",
              "      <td>83073.0</td>\n",
              "      <td>137756.8</td>\n",
              "      <td>140699.2</td>\n",
              "      <td>0.019244</td>\n",
              "      <td>39833.528855</td>\n",
              "      <td>0.006559</td>\n",
              "      <td>0.009612</td>\n",
              "      <td>0.015939</td>\n",
              "      <td>0.016280</td>\n",
              "    </tr>\n",
              "    <tr>\n",
              "      <th>...</th>\n",
              "      <td>...</td>\n",
              "      <td>...</td>\n",
              "      <td>...</td>\n",
              "      <td>...</td>\n",
              "      <td>...</td>\n",
              "      <td>...</td>\n",
              "      <td>...</td>\n",
              "      <td>...</td>\n",
              "      <td>...</td>\n",
              "      <td>...</td>\n",
              "      <td>...</td>\n",
              "      <td>...</td>\n",
              "      <td>...</td>\n",
              "      <td>...</td>\n",
              "      <td>...</td>\n",
              "      <td>...</td>\n",
              "      <td>...</td>\n",
              "      <td>...</td>\n",
              "    </tr>\n",
              "    <tr>\n",
              "      <th>280</th>\n",
              "      <td>Slovakia</td>\n",
              "      <td>2017</td>\n",
              "      <td>100.90</td>\n",
              "      <td>7188.0</td>\n",
              "      <td>5439232.0</td>\n",
              "      <td>112.99</td>\n",
              "      <td>84669.9</td>\n",
              "      <td>3466.0</td>\n",
              "      <td>5.4</td>\n",
              "      <td>53914.0</td>\n",
              "      <td>73790.1</td>\n",
              "      <td>72191.9</td>\n",
              "      <td>0.001322</td>\n",
              "      <td>15566.517479</td>\n",
              "      <td>0.000637</td>\n",
              "      <td>0.009912</td>\n",
              "      <td>0.013566</td>\n",
              "      <td>0.013272</td>\n",
              "    </tr>\n",
              "    <tr>\n",
              "      <th>281</th>\n",
              "      <td>Slovakia</td>\n",
              "      <td>2018</td>\n",
              "      <td>103.46</td>\n",
              "      <td>7253.0</td>\n",
              "      <td>5446771.0</td>\n",
              "      <td>121.32</td>\n",
              "      <td>89874.7</td>\n",
              "      <td>3298.0</td>\n",
              "      <td>4.3</td>\n",
              "      <td>54293.0</td>\n",
              "      <td>79136.9</td>\n",
              "      <td>78727.4</td>\n",
              "      <td>0.001332</td>\n",
              "      <td>16500.546838</td>\n",
              "      <td>0.000605</td>\n",
              "      <td>0.009968</td>\n",
              "      <td>0.014529</td>\n",
              "      <td>0.014454</td>\n",
              "    </tr>\n",
              "    <tr>\n",
              "      <th>282</th>\n",
              "      <td>Slovakia</td>\n",
              "      <td>2019</td>\n",
              "      <td>106.33</td>\n",
              "      <td>7016.0</td>\n",
              "      <td>5454147.0</td>\n",
              "      <td>132.39</td>\n",
              "      <td>94429.7</td>\n",
              "      <td>3384.0</td>\n",
              "      <td>3.8</td>\n",
              "      <td>53234.0</td>\n",
              "      <td>79962.0</td>\n",
              "      <td>80407.4</td>\n",
              "      <td>0.001286</td>\n",
              "      <td>17313.376409</td>\n",
              "      <td>0.000620</td>\n",
              "      <td>0.009760</td>\n",
              "      <td>0.014661</td>\n",
              "      <td>0.014742</td>\n",
              "    </tr>\n",
              "    <tr>\n",
              "      <th>283</th>\n",
              "      <td>Slovakia</td>\n",
              "      <td>2020</td>\n",
              "      <td>108.47</td>\n",
              "      <td>6775.0</td>\n",
              "      <td>5458827.0</td>\n",
              "      <td>145.06</td>\n",
              "      <td>93444.1</td>\n",
              "      <td>2428.0</td>\n",
              "      <td>4.4</td>\n",
              "      <td>59089.0</td>\n",
              "      <td>75586.2</td>\n",
              "      <td>73700.2</td>\n",
              "      <td>0.001241</td>\n",
              "      <td>17117.981574</td>\n",
              "      <td>0.000445</td>\n",
              "      <td>0.010824</td>\n",
              "      <td>0.013847</td>\n",
              "      <td>0.013501</td>\n",
              "    </tr>\n",
              "    <tr>\n",
              "      <th>284</th>\n",
              "      <td>Slovakia</td>\n",
              "      <td>2021</td>\n",
              "      <td>111.53</td>\n",
              "      <td>5733.0</td>\n",
              "      <td>5447247.0</td>\n",
              "      <td>154.33</td>\n",
              "      <td>100255.7</td>\n",
              "      <td>3395.0</td>\n",
              "      <td>4.5</td>\n",
              "      <td>73461.0</td>\n",
              "      <td>87868.1</td>\n",
              "      <td>87904.7</td>\n",
              "      <td>0.001052</td>\n",
              "      <td>18404.838261</td>\n",
              "      <td>0.000623</td>\n",
              "      <td>0.013486</td>\n",
              "      <td>0.016131</td>\n",
              "      <td>0.016137</td>\n",
              "    </tr>\n",
              "  </tbody>\n",
              "</table>\n",
              "<p>285 rows × 18 columns</p>\n",
              "</div>\n",
              "    <div class=\"colab-df-buttons\">\n",
              "\n",
              "  <div class=\"colab-df-container\">\n",
              "    <button class=\"colab-df-convert\" onclick=\"convertToInteractive('df-660393d0-3370-48b6-9a2f-7c0e1fc95d31')\"\n",
              "            title=\"Convert this dataframe to an interactive table.\"\n",
              "            style=\"display:none;\">\n",
              "\n",
              "  <svg xmlns=\"http://www.w3.org/2000/svg\" height=\"24px\" viewBox=\"0 -960 960 960\">\n",
              "    <path d=\"M120-120v-720h720v720H120Zm60-500h600v-160H180v160Zm220 220h160v-160H400v160Zm0 220h160v-160H400v160ZM180-400h160v-160H180v160Zm440 0h160v-160H620v160ZM180-180h160v-160H180v160Zm440 0h160v-160H620v160Z\"/>\n",
              "  </svg>\n",
              "    </button>\n",
              "\n",
              "  <style>\n",
              "    .colab-df-container {\n",
              "      display:flex;\n",
              "      gap: 12px;\n",
              "    }\n",
              "\n",
              "    .colab-df-convert {\n",
              "      background-color: #E8F0FE;\n",
              "      border: none;\n",
              "      border-radius: 50%;\n",
              "      cursor: pointer;\n",
              "      display: none;\n",
              "      fill: #1967D2;\n",
              "      height: 32px;\n",
              "      padding: 0 0 0 0;\n",
              "      width: 32px;\n",
              "    }\n",
              "\n",
              "    .colab-df-convert:hover {\n",
              "      background-color: #E2EBFA;\n",
              "      box-shadow: 0px 1px 2px rgba(60, 64, 67, 0.3), 0px 1px 3px 1px rgba(60, 64, 67, 0.15);\n",
              "      fill: #174EA6;\n",
              "    }\n",
              "\n",
              "    .colab-df-buttons div {\n",
              "      margin-bottom: 4px;\n",
              "    }\n",
              "\n",
              "    [theme=dark] .colab-df-convert {\n",
              "      background-color: #3B4455;\n",
              "      fill: #D2E3FC;\n",
              "    }\n",
              "\n",
              "    [theme=dark] .colab-df-convert:hover {\n",
              "      background-color: #434B5C;\n",
              "      box-shadow: 0px 1px 3px 1px rgba(0, 0, 0, 0.15);\n",
              "      filter: drop-shadow(0px 1px 2px rgba(0, 0, 0, 0.3));\n",
              "      fill: #FFFFFF;\n",
              "    }\n",
              "  </style>\n",
              "\n",
              "    <script>\n",
              "      const buttonEl =\n",
              "        document.querySelector('#df-660393d0-3370-48b6-9a2f-7c0e1fc95d31 button.colab-df-convert');\n",
              "      buttonEl.style.display =\n",
              "        google.colab.kernel.accessAllowed ? 'block' : 'none';\n",
              "\n",
              "      async function convertToInteractive(key) {\n",
              "        const element = document.querySelector('#df-660393d0-3370-48b6-9a2f-7c0e1fc95d31');\n",
              "        const dataTable =\n",
              "          await google.colab.kernel.invokeFunction('convertToInteractive',\n",
              "                                                    [key], {});\n",
              "        if (!dataTable) return;\n",
              "\n",
              "        const docLinkHtml = 'Like what you see? Visit the ' +\n",
              "          '<a target=\"_blank\" href=https://colab.research.google.com/notebooks/data_table.ipynb>data table notebook</a>'\n",
              "          + ' to learn more about interactive tables.';\n",
              "        element.innerHTML = '';\n",
              "        dataTable['output_type'] = 'display_data';\n",
              "        await google.colab.output.renderOutput(dataTable, element);\n",
              "        const docLink = document.createElement('div');\n",
              "        docLink.innerHTML = docLinkHtml;\n",
              "        element.appendChild(docLink);\n",
              "      }\n",
              "    </script>\n",
              "  </div>\n",
              "\n",
              "\n",
              "<div id=\"df-41bc03e7-974b-485b-808f-1ccfc6b25765\">\n",
              "  <button class=\"colab-df-quickchart\" onclick=\"quickchart('df-41bc03e7-974b-485b-808f-1ccfc6b25765')\"\n",
              "            title=\"Suggest charts\"\n",
              "            style=\"display:none;\">\n",
              "\n",
              "<svg xmlns=\"http://www.w3.org/2000/svg\" height=\"24px\"viewBox=\"0 0 24 24\"\n",
              "     width=\"24px\">\n",
              "    <g>\n",
              "        <path d=\"M19 3H5c-1.1 0-2 .9-2 2v14c0 1.1.9 2 2 2h14c1.1 0 2-.9 2-2V5c0-1.1-.9-2-2-2zM9 17H7v-7h2v7zm4 0h-2V7h2v10zm4 0h-2v-4h2v4z\"/>\n",
              "    </g>\n",
              "</svg>\n",
              "  </button>\n",
              "\n",
              "<style>\n",
              "  .colab-df-quickchart {\n",
              "      --bg-color: #E8F0FE;\n",
              "      --fill-color: #1967D2;\n",
              "      --hover-bg-color: #E2EBFA;\n",
              "      --hover-fill-color: #174EA6;\n",
              "      --disabled-fill-color: #AAA;\n",
              "      --disabled-bg-color: #DDD;\n",
              "  }\n",
              "\n",
              "  [theme=dark] .colab-df-quickchart {\n",
              "      --bg-color: #3B4455;\n",
              "      --fill-color: #D2E3FC;\n",
              "      --hover-bg-color: #434B5C;\n",
              "      --hover-fill-color: #FFFFFF;\n",
              "      --disabled-bg-color: #3B4455;\n",
              "      --disabled-fill-color: #666;\n",
              "  }\n",
              "\n",
              "  .colab-df-quickchart {\n",
              "    background-color: var(--bg-color);\n",
              "    border: none;\n",
              "    border-radius: 50%;\n",
              "    cursor: pointer;\n",
              "    display: none;\n",
              "    fill: var(--fill-color);\n",
              "    height: 32px;\n",
              "    padding: 0;\n",
              "    width: 32px;\n",
              "  }\n",
              "\n",
              "  .colab-df-quickchart:hover {\n",
              "    background-color: var(--hover-bg-color);\n",
              "    box-shadow: 0 1px 2px rgba(60, 64, 67, 0.3), 0 1px 3px 1px rgba(60, 64, 67, 0.15);\n",
              "    fill: var(--button-hover-fill-color);\n",
              "  }\n",
              "\n",
              "  .colab-df-quickchart-complete:disabled,\n",
              "  .colab-df-quickchart-complete:disabled:hover {\n",
              "    background-color: var(--disabled-bg-color);\n",
              "    fill: var(--disabled-fill-color);\n",
              "    box-shadow: none;\n",
              "  }\n",
              "\n",
              "  .colab-df-spinner {\n",
              "    border: 2px solid var(--fill-color);\n",
              "    border-color: transparent;\n",
              "    border-bottom-color: var(--fill-color);\n",
              "    animation:\n",
              "      spin 1s steps(1) infinite;\n",
              "  }\n",
              "\n",
              "  @keyframes spin {\n",
              "    0% {\n",
              "      border-color: transparent;\n",
              "      border-bottom-color: var(--fill-color);\n",
              "      border-left-color: var(--fill-color);\n",
              "    }\n",
              "    20% {\n",
              "      border-color: transparent;\n",
              "      border-left-color: var(--fill-color);\n",
              "      border-top-color: var(--fill-color);\n",
              "    }\n",
              "    30% {\n",
              "      border-color: transparent;\n",
              "      border-left-color: var(--fill-color);\n",
              "      border-top-color: var(--fill-color);\n",
              "      border-right-color: var(--fill-color);\n",
              "    }\n",
              "    40% {\n",
              "      border-color: transparent;\n",
              "      border-right-color: var(--fill-color);\n",
              "      border-top-color: var(--fill-color);\n",
              "    }\n",
              "    60% {\n",
              "      border-color: transparent;\n",
              "      border-right-color: var(--fill-color);\n",
              "    }\n",
              "    80% {\n",
              "      border-color: transparent;\n",
              "      border-right-color: var(--fill-color);\n",
              "      border-bottom-color: var(--fill-color);\n",
              "    }\n",
              "    90% {\n",
              "      border-color: transparent;\n",
              "      border-bottom-color: var(--fill-color);\n",
              "    }\n",
              "  }\n",
              "</style>\n",
              "\n",
              "  <script>\n",
              "    async function quickchart(key) {\n",
              "      const quickchartButtonEl =\n",
              "        document.querySelector('#' + key + ' button');\n",
              "      quickchartButtonEl.disabled = true;  // To prevent multiple clicks.\n",
              "      quickchartButtonEl.classList.add('colab-df-spinner');\n",
              "      try {\n",
              "        const charts = await google.colab.kernel.invokeFunction(\n",
              "            'suggestCharts', [key], {});\n",
              "      } catch (error) {\n",
              "        console.error('Error during call to suggestCharts:', error);\n",
              "      }\n",
              "      quickchartButtonEl.classList.remove('colab-df-spinner');\n",
              "      quickchartButtonEl.classList.add('colab-df-quickchart-complete');\n",
              "    }\n",
              "    (() => {\n",
              "      let quickchartButtonEl =\n",
              "        document.querySelector('#df-41bc03e7-974b-485b-808f-1ccfc6b25765 button');\n",
              "      quickchartButtonEl.style.display =\n",
              "        google.colab.kernel.accessAllowed ? 'block' : 'none';\n",
              "    })();\n",
              "  </script>\n",
              "</div>\n",
              "    </div>\n",
              "  </div>\n"
            ]
          },
          "metadata": {},
          "execution_count": 4
        }
      ],
      "source": [
        "df_eurostat = pd.read_csv(\"https://raw.githubusercontent.com/SDuncan5/Eurostat-Data/main/eurostat_pcap_no_nans.csv\")\n",
        "df_eurostat = df_eurostat.drop(columns=[\"Unnamed: 0\"])\n",
        "df_eurostat"
      ]
    },
    {
      "cell_type": "code",
      "source": [
        "# not per_capita data\n",
        "X_reg = df_eurostat[[\"geo\", \"Year\", \"CPI\", \"Immigrants\", \"Population\", \"Housing Index\", \"emigration\", \"unemployment\", \"total_deaths\", \"Exports\", \"Imports\"]]\n",
        "X_cap = df_eurostat[[\"geo\", \"Year\", \"CPI\", \"Immigrants_pcap\", \"Population\", \"Housing Index\", \"Emigrants_pcap\", \"unemployment\", \"Deaths_pcap\", \"Exports_pcap\", \"Imports_pcap\"]]\n",
        "gdp = df_eurostat[\"GDP\"]\n",
        "gdp_cap = df_eurostat[\"GDP_pcap\"]"
      ],
      "metadata": {
        "id": "eLBEOXaLIAHy"
      },
      "execution_count": 10,
      "outputs": []
    },
    {
      "cell_type": "markdown",
      "source": [
        "# KNN - General"
      ],
      "metadata": {
        "id": "Xzb-rnztGGQZ"
      }
    },
    {
      "cell_type": "markdown",
      "source": [
        "## Feature Selection"
      ],
      "metadata": {
        "id": "Bbwr2frAJSPC"
      }
    },
    {
      "cell_type": "code",
      "source": [
        "from itertools import chain, combinations\n",
        "\n",
        "def powerset(iterable):\n",
        "    features = list(iterable)\n",
        "    return chain.from_iterable(combinations(features, r) for r in range(len(features)+1))\n",
        "\n",
        "reg_features = [\"geo\", \"Year\", \"CPI\", \"Immigrants\", \"Population\", \"Housing Index\", \"emigration\", \"unemployment\", \"total_deaths\", \"Exports\", \"Imports\"]\n",
        "\n",
        "# Creating a power set of all possible regular features to test for the best model\n",
        "reg_power_set = []\n",
        "for subset in powerset(reg_features):\n",
        "    reg_power_set.append(list(subset))\n",
        "\n",
        "# First value is empty, so remove\n",
        "reg_power_set = reg_power_set[1:]\n",
        "len(reg_power_set)\n",
        "# That's a lot of combinations"
      ],
      "metadata": {
        "colab": {
          "base_uri": "https://localhost:8080/"
        },
        "id": "UkInit5fMags",
        "outputId": "7419c816-918b-4d53-a4aa-653bbf72019a"
      },
      "execution_count": 20,
      "outputs": [
        {
          "output_type": "execute_result",
          "data": {
            "text/plain": [
              "2047"
            ]
          },
          "metadata": {},
          "execution_count": 20
        }
      ]
    },
    {
      "cell_type": "code",
      "source": [
        "# Takes ~5 min to run\n",
        "\n",
        "from sklearn.preprocessing import StandardScaler, OneHotEncoder\n",
        "from sklearn.neighbors import KNeighborsRegressor\n",
        "from sklearn.pipeline import make_pipeline\n",
        "from sklearn.compose import make_column_transformer\n",
        "from sklearn.model_selection import cross_val_score\n",
        "\n",
        "# define function to calculate estimate of test error for a given feature set\n",
        "def get_cv_error(features):\n",
        "\n",
        "  quant_vars = []\n",
        "  cat_vars = []\n",
        "  for feature in features:\n",
        "    if X_reg.dtypes[feature] == \"int64\" or  X_reg.dtypes[feature] == \"float64\":\n",
        "      quant_vars.append(feature)\n",
        "    else:\n",
        "      cat_vars.append(feature)\n",
        "\n",
        "  ct = make_column_transformer(\n",
        "      (StandardScaler(), quant_vars),\n",
        "      (OneHotEncoder(handle_unknown=\"ignore\"), cat_vars),\n",
        "      remainder=\"drop\"\n",
        "  )\n",
        "\n",
        "  pipeline = make_pipeline(\n",
        "      ct,\n",
        "      KNeighborsRegressor(n_neighbors=5)\n",
        "  )\n",
        "  # errors from cross-validation\n",
        "  cv_errs = -cross_val_score(pipeline, X=X_reg[features],\n",
        "                             y=gdp,\n",
        "                             scoring=\"neg_mean_squared_error\", cv=10)\n",
        "  # calculate average of the cross-validation errors\n",
        "  return cv_errs.mean()\n",
        "\n",
        "  [\"geo\", \"Year\", \"CPI\", \"Immigrants\", \"Population\", \"Housing Index\", \"emigration\", \"unemployment\", \"total_deaths\", \"Exports\", \"Imports\"]\n",
        "\n",
        "# calculate and store errors for different feature sets\n",
        "errs = pd.Series()\n",
        "for features in reg_power_set:\n",
        "  errs[str(features)] = get_cv_error(features)\n",
        "\n",
        "errs"
      ],
      "metadata": {
        "colab": {
          "base_uri": "https://localhost:8080/"
        },
        "id": "0STWur1pJQZr",
        "outputId": "4f360be6-c5f2-4c95-b2a4-2f1be85b631c"
      },
      "execution_count": 21,
      "outputs": [
        {
          "output_type": "stream",
          "name": "stderr",
          "text": [
            "<ipython-input-21-6638aa4ed671>:38: FutureWarning: The default dtype for empty Series will be 'object' instead of 'float64' in a future version. Specify a dtype explicitly to silence this warning.\n",
            "  errs = pd.Series()\n"
          ]
        },
        {
          "output_type": "execute_result",
          "data": {
            "text/plain": [
              "['geo']                                                                                                                                    1.734278e+11\n",
              "['Year']                                                                                                                                   7.050848e+11\n",
              "['CPI']                                                                                                                                    7.353740e+11\n",
              "['Immigrants']                                                                                                                             1.334403e+11\n",
              "['Population']                                                                                                                             9.331704e+10\n",
              "                                                                                                                                               ...     \n",
              "['geo', 'Year', 'CPI', 'Population', 'Housing Index', 'emigration', 'unemployment', 'total_deaths', 'Exports', 'Imports']                  5.754563e+10\n",
              "['geo', 'Year', 'Immigrants', 'Population', 'Housing Index', 'emigration', 'unemployment', 'total_deaths', 'Exports', 'Imports']           5.874167e+10\n",
              "['geo', 'CPI', 'Immigrants', 'Population', 'Housing Index', 'emigration', 'unemployment', 'total_deaths', 'Exports', 'Imports']            4.929362e+10\n",
              "['Year', 'CPI', 'Immigrants', 'Population', 'Housing Index', 'emigration', 'unemployment', 'total_deaths', 'Exports', 'Imports']           6.116426e+10\n",
              "['geo', 'Year', 'CPI', 'Immigrants', 'Population', 'Housing Index', 'emigration', 'unemployment', 'total_deaths', 'Exports', 'Imports']    5.931857e+10\n",
              "Length: 2047, dtype: float64"
            ]
          },
          "metadata": {},
          "execution_count": 21
        }
      ]
    },
    {
      "cell_type": "code",
      "source": [
        "errs.sort_values()"
      ],
      "metadata": {
        "colab": {
          "base_uri": "https://localhost:8080/"
        },
        "id": "3SyNeueQPVY-",
        "outputId": "b9a341e8-7b16-455a-a059-009c44954494"
      },
      "execution_count": 23,
      "outputs": [
        {
          "output_type": "execute_result",
          "data": {
            "text/plain": [
              "['geo', 'Year', 'Population', 'Imports']                             3.808488e+10\n",
              "['geo', 'Year', 'CPI', 'Population', 'Imports']                      3.928704e+10\n",
              "['geo', 'Year', 'Immigrants', 'Population', 'Imports']               4.095578e+10\n",
              "['geo', 'Year', 'Immigrants', 'Population', 'Exports', 'Imports']    4.100335e+10\n",
              "['geo', 'Year', 'CPI', 'Population', 'Exports', 'Imports']           4.312268e+10\n",
              "                                                                         ...     \n",
              "['Year', 'Housing Index']                                            7.774358e+11\n",
              "['Year', 'CPI', 'Housing Index']                                     7.798444e+11\n",
              "['Housing Index', 'unemployment']                                    8.081463e+11\n",
              "['CPI', 'Housing Index']                                             8.128890e+11\n",
              "['unemployment']                                                     8.393198e+11\n",
              "Length: 2047, dtype: float64"
            ]
          },
          "metadata": {},
          "execution_count": 23
        }
      ]
    },
    {
      "cell_type": "markdown",
      "source": [
        "The features with lowest MSE are:\n",
        "- ['geo', 'Year', 'Population', 'Imports']\n",
        "- ['geo', 'Year', 'CPI', 'Population', 'Imports']\n",
        "- ['geo', 'Year', 'Immigrants', 'Population', 'Imports']\n",
        "- ['geo', 'Year', 'Immigrants', 'Population', 'Exports', 'Imports']"
      ],
      "metadata": {
        "id": "0epfzWzbPdRN"
      }
    },
    {
      "cell_type": "markdown",
      "source": [
        "## K Selection"
      ],
      "metadata": {
        "id": "tfCDFDH7QGk8"
      }
    },
    {
      "cell_type": "code",
      "source": [
        "ct = make_column_transformer(\n",
        "    (StandardScaler(), ['Year', 'Population', 'Imports']),\n",
        "    (OneHotEncoder(handle_unknown=\"ignore\"), ['geo']),\n",
        "    remainder=\"drop\"\n",
        ")\n",
        "\n",
        "pipeline = make_pipeline(\n",
        "    ct,\n",
        "    KNeighborsRegressor(n_neighbors=5)\n",
        ")"
      ],
      "metadata": {
        "id": "WdPSwJPmQm9M"
      },
      "execution_count": 25,
      "outputs": []
    },
    {
      "cell_type": "code",
      "source": [
        "from sklearn.model_selection import GridSearchCV\n",
        "\n",
        "grid_search = GridSearchCV(pipeline,\n",
        "                           param_grid={\n",
        "                               \"kneighborsregressor__n_neighbors\": range(1, 20)\n",
        "                           },\n",
        "                           scoring=\"neg_mean_squared_error\",\n",
        "                           cv=10)\n",
        "grid_search.fit(X_reg[['geo', 'Year', 'Population', 'Imports']], gdp)\n",
        "grid_search.best_estimator_"
      ],
      "metadata": {
        "colab": {
          "base_uri": "https://localhost:8080/",
          "height": 236
        },
        "id": "bQA3cVvYQPwx",
        "outputId": "77d7827c-48c8-465a-9832-4ff69d88d3dc"
      },
      "execution_count": 26,
      "outputs": [
        {
          "output_type": "execute_result",
          "data": {
            "text/plain": [
              "Pipeline(steps=[('columntransformer',\n",
              "                 ColumnTransformer(transformers=[('standardscaler',\n",
              "                                                  StandardScaler(),\n",
              "                                                  ['Year', 'Population',\n",
              "                                                   'Imports']),\n",
              "                                                 ('onehotencoder',\n",
              "                                                  OneHotEncoder(handle_unknown='ignore'),\n",
              "                                                  ['geo'])])),\n",
              "                ('kneighborsregressor', KNeighborsRegressor(n_neighbors=8))])"
            ],
            "text/html": [
              "<style>#sk-container-id-1 {color: black;background-color: white;}#sk-container-id-1 pre{padding: 0;}#sk-container-id-1 div.sk-toggleable {background-color: white;}#sk-container-id-1 label.sk-toggleable__label {cursor: pointer;display: block;width: 100%;margin-bottom: 0;padding: 0.3em;box-sizing: border-box;text-align: center;}#sk-container-id-1 label.sk-toggleable__label-arrow:before {content: \"▸\";float: left;margin-right: 0.25em;color: #696969;}#sk-container-id-1 label.sk-toggleable__label-arrow:hover:before {color: black;}#sk-container-id-1 div.sk-estimator:hover label.sk-toggleable__label-arrow:before {color: black;}#sk-container-id-1 div.sk-toggleable__content {max-height: 0;max-width: 0;overflow: hidden;text-align: left;background-color: #f0f8ff;}#sk-container-id-1 div.sk-toggleable__content pre {margin: 0.2em;color: black;border-radius: 0.25em;background-color: #f0f8ff;}#sk-container-id-1 input.sk-toggleable__control:checked~div.sk-toggleable__content {max-height: 200px;max-width: 100%;overflow: auto;}#sk-container-id-1 input.sk-toggleable__control:checked~label.sk-toggleable__label-arrow:before {content: \"▾\";}#sk-container-id-1 div.sk-estimator input.sk-toggleable__control:checked~label.sk-toggleable__label {background-color: #d4ebff;}#sk-container-id-1 div.sk-label input.sk-toggleable__control:checked~label.sk-toggleable__label {background-color: #d4ebff;}#sk-container-id-1 input.sk-hidden--visually {border: 0;clip: rect(1px 1px 1px 1px);clip: rect(1px, 1px, 1px, 1px);height: 1px;margin: -1px;overflow: hidden;padding: 0;position: absolute;width: 1px;}#sk-container-id-1 div.sk-estimator {font-family: monospace;background-color: #f0f8ff;border: 1px dotted black;border-radius: 0.25em;box-sizing: border-box;margin-bottom: 0.5em;}#sk-container-id-1 div.sk-estimator:hover {background-color: #d4ebff;}#sk-container-id-1 div.sk-parallel-item::after {content: \"\";width: 100%;border-bottom: 1px solid gray;flex-grow: 1;}#sk-container-id-1 div.sk-label:hover label.sk-toggleable__label {background-color: #d4ebff;}#sk-container-id-1 div.sk-serial::before {content: \"\";position: absolute;border-left: 1px solid gray;box-sizing: border-box;top: 0;bottom: 0;left: 50%;z-index: 0;}#sk-container-id-1 div.sk-serial {display: flex;flex-direction: column;align-items: center;background-color: white;padding-right: 0.2em;padding-left: 0.2em;position: relative;}#sk-container-id-1 div.sk-item {position: relative;z-index: 1;}#sk-container-id-1 div.sk-parallel {display: flex;align-items: stretch;justify-content: center;background-color: white;position: relative;}#sk-container-id-1 div.sk-item::before, #sk-container-id-1 div.sk-parallel-item::before {content: \"\";position: absolute;border-left: 1px solid gray;box-sizing: border-box;top: 0;bottom: 0;left: 50%;z-index: -1;}#sk-container-id-1 div.sk-parallel-item {display: flex;flex-direction: column;z-index: 1;position: relative;background-color: white;}#sk-container-id-1 div.sk-parallel-item:first-child::after {align-self: flex-end;width: 50%;}#sk-container-id-1 div.sk-parallel-item:last-child::after {align-self: flex-start;width: 50%;}#sk-container-id-1 div.sk-parallel-item:only-child::after {width: 0;}#sk-container-id-1 div.sk-dashed-wrapped {border: 1px dashed gray;margin: 0 0.4em 0.5em 0.4em;box-sizing: border-box;padding-bottom: 0.4em;background-color: white;}#sk-container-id-1 div.sk-label label {font-family: monospace;font-weight: bold;display: inline-block;line-height: 1.2em;}#sk-container-id-1 div.sk-label-container {text-align: center;}#sk-container-id-1 div.sk-container {/* jupyter's `normalize.less` sets `[hidden] { display: none; }` but bootstrap.min.css set `[hidden] { display: none !important; }` so we also need the `!important` here to be able to override the default hidden behavior on the sphinx rendered scikit-learn.org. See: https://github.com/scikit-learn/scikit-learn/issues/21755 */display: inline-block !important;position: relative;}#sk-container-id-1 div.sk-text-repr-fallback {display: none;}</style><div id=\"sk-container-id-1\" class=\"sk-top-container\"><div class=\"sk-text-repr-fallback\"><pre>Pipeline(steps=[(&#x27;columntransformer&#x27;,\n",
              "                 ColumnTransformer(transformers=[(&#x27;standardscaler&#x27;,\n",
              "                                                  StandardScaler(),\n",
              "                                                  [&#x27;Year&#x27;, &#x27;Population&#x27;,\n",
              "                                                   &#x27;Imports&#x27;]),\n",
              "                                                 (&#x27;onehotencoder&#x27;,\n",
              "                                                  OneHotEncoder(handle_unknown=&#x27;ignore&#x27;),\n",
              "                                                  [&#x27;geo&#x27;])])),\n",
              "                (&#x27;kneighborsregressor&#x27;, KNeighborsRegressor(n_neighbors=8))])</pre><b>In a Jupyter environment, please rerun this cell to show the HTML representation or trust the notebook. <br />On GitHub, the HTML representation is unable to render, please try loading this page with nbviewer.org.</b></div><div class=\"sk-container\" hidden><div class=\"sk-item sk-dashed-wrapped\"><div class=\"sk-label-container\"><div class=\"sk-label sk-toggleable\"><input class=\"sk-toggleable__control sk-hidden--visually\" id=\"sk-estimator-id-1\" type=\"checkbox\" ><label for=\"sk-estimator-id-1\" class=\"sk-toggleable__label sk-toggleable__label-arrow\">Pipeline</label><div class=\"sk-toggleable__content\"><pre>Pipeline(steps=[(&#x27;columntransformer&#x27;,\n",
              "                 ColumnTransformer(transformers=[(&#x27;standardscaler&#x27;,\n",
              "                                                  StandardScaler(),\n",
              "                                                  [&#x27;Year&#x27;, &#x27;Population&#x27;,\n",
              "                                                   &#x27;Imports&#x27;]),\n",
              "                                                 (&#x27;onehotencoder&#x27;,\n",
              "                                                  OneHotEncoder(handle_unknown=&#x27;ignore&#x27;),\n",
              "                                                  [&#x27;geo&#x27;])])),\n",
              "                (&#x27;kneighborsregressor&#x27;, KNeighborsRegressor(n_neighbors=8))])</pre></div></div></div><div class=\"sk-serial\"><div class=\"sk-item sk-dashed-wrapped\"><div class=\"sk-label-container\"><div class=\"sk-label sk-toggleable\"><input class=\"sk-toggleable__control sk-hidden--visually\" id=\"sk-estimator-id-2\" type=\"checkbox\" ><label for=\"sk-estimator-id-2\" class=\"sk-toggleable__label sk-toggleable__label-arrow\">columntransformer: ColumnTransformer</label><div class=\"sk-toggleable__content\"><pre>ColumnTransformer(transformers=[(&#x27;standardscaler&#x27;, StandardScaler(),\n",
              "                                 [&#x27;Year&#x27;, &#x27;Population&#x27;, &#x27;Imports&#x27;]),\n",
              "                                (&#x27;onehotencoder&#x27;,\n",
              "                                 OneHotEncoder(handle_unknown=&#x27;ignore&#x27;),\n",
              "                                 [&#x27;geo&#x27;])])</pre></div></div></div><div class=\"sk-parallel\"><div class=\"sk-parallel-item\"><div class=\"sk-item\"><div class=\"sk-label-container\"><div class=\"sk-label sk-toggleable\"><input class=\"sk-toggleable__control sk-hidden--visually\" id=\"sk-estimator-id-3\" type=\"checkbox\" ><label for=\"sk-estimator-id-3\" class=\"sk-toggleable__label sk-toggleable__label-arrow\">standardscaler</label><div class=\"sk-toggleable__content\"><pre>[&#x27;Year&#x27;, &#x27;Population&#x27;, &#x27;Imports&#x27;]</pre></div></div></div><div class=\"sk-serial\"><div class=\"sk-item\"><div class=\"sk-estimator sk-toggleable\"><input class=\"sk-toggleable__control sk-hidden--visually\" id=\"sk-estimator-id-4\" type=\"checkbox\" ><label for=\"sk-estimator-id-4\" class=\"sk-toggleable__label sk-toggleable__label-arrow\">StandardScaler</label><div class=\"sk-toggleable__content\"><pre>StandardScaler()</pre></div></div></div></div></div></div><div class=\"sk-parallel-item\"><div class=\"sk-item\"><div class=\"sk-label-container\"><div class=\"sk-label sk-toggleable\"><input class=\"sk-toggleable__control sk-hidden--visually\" id=\"sk-estimator-id-5\" type=\"checkbox\" ><label for=\"sk-estimator-id-5\" class=\"sk-toggleable__label sk-toggleable__label-arrow\">onehotencoder</label><div class=\"sk-toggleable__content\"><pre>[&#x27;geo&#x27;]</pre></div></div></div><div class=\"sk-serial\"><div class=\"sk-item\"><div class=\"sk-estimator sk-toggleable\"><input class=\"sk-toggleable__control sk-hidden--visually\" id=\"sk-estimator-id-6\" type=\"checkbox\" ><label for=\"sk-estimator-id-6\" class=\"sk-toggleable__label sk-toggleable__label-arrow\">OneHotEncoder</label><div class=\"sk-toggleable__content\"><pre>OneHotEncoder(handle_unknown=&#x27;ignore&#x27;)</pre></div></div></div></div></div></div></div></div><div class=\"sk-item\"><div class=\"sk-estimator sk-toggleable\"><input class=\"sk-toggleable__control sk-hidden--visually\" id=\"sk-estimator-id-7\" type=\"checkbox\" ><label for=\"sk-estimator-id-7\" class=\"sk-toggleable__label sk-toggleable__label-arrow\">KNeighborsRegressor</label><div class=\"sk-toggleable__content\"><pre>KNeighborsRegressor(n_neighbors=8)</pre></div></div></div></div></div></div></div>"
            ]
          },
          "metadata": {},
          "execution_count": 26
        }
      ]
    },
    {
      "cell_type": "code",
      "source": [
        "df_cv_results_ = pd.DataFrame(grid_search.cv_results_)\n",
        "df_cv_results_[\"param_kneighborsregressor__n_neighbors\"] = df_cv_results_[\"param_kneighborsregressor__n_neighbors\"].astype(int)\n",
        "df_cv_results_.set_index(\"param_kneighborsregressor__n_neighbors\", inplace = True)\n",
        "(-df_cv_results_[\"mean_test_score\"]).plot.line(xlabel = \"k\", ylabel = \"test error\", title = \"kNN models with 4 features\")"
      ],
      "metadata": {
        "colab": {
          "base_uri": "https://localhost:8080/",
          "height": 489
        },
        "id": "IQpu16M0SMQz",
        "outputId": "1566f3d6-dd30-48ed-c7a5-380a6113accc"
      },
      "execution_count": 27,
      "outputs": [
        {
          "output_type": "execute_result",
          "data": {
            "text/plain": [
              "<Axes: title={'center': 'kNN models with 4 features'}, xlabel='k', ylabel='test error'>"
            ]
          },
          "metadata": {},
          "execution_count": 27
        },
        {
          "output_type": "display_data",
          "data": {
            "text/plain": [
              "<Figure size 640x480 with 1 Axes>"
            ],
            "image/png": "[encoded data removed]"
          },
          "metadata": {}
        }
      ]
    },
    {
      "cell_type": "markdown",
      "source": [
        "The best number of neighbors = 8"
      ],
      "metadata": {
        "id": "ylyhCFE8R1Ua"
      }
    },
    {
      "cell_type": "markdown",
      "source": [
        "## Testing Out the Model\n",
        "K = 8 <br>\n",
        "Features = ['geo', 'Year', 'Population', 'Imports']"
      ],
      "metadata": {
        "id": "Ld5rXv33SZoQ"
      }
    },
    {
      "cell_type": "code",
      "source": [
        "from sklearn.model_selection import train_test_split\n",
        "\n",
        "X_knn1 = X_reg[[\"geo\", \"Year\", \"Population\", \"Imports\"]]\n",
        "# y = gdp\n",
        "\n",
        "# split into test and training\n",
        "X_knn1_train, X_knn1_test, y_knn1_train, y_knn1_test = train_test_split(X_knn1, gdp, test_size=0.25, random_state=0)"
      ],
      "metadata": {
        "id": "nW-jX8nuTmQq"
      },
      "execution_count": 33,
      "outputs": []
    },
    {
      "cell_type": "code",
      "source": [
        "from sklearn.preprocessing import StandardScaler, OneHotEncoder\n",
        "from sklearn.neighbors import KNeighborsRegressor\n",
        "from sklearn.pipeline import make_pipeline\n",
        "from sklearn.compose import make_column_transformer\n",
        "from sklearn.model_selection import cross_val_score\n",
        "\n",
        "ct = make_column_transformer(\n",
        "    (StandardScaler(), ['Year', 'Population', 'Imports']),\n",
        "    (OneHotEncoder(handle_unknown=\"ignore\"), ['geo']),\n",
        "    remainder=\"drop\"\n",
        ")\n",
        "\n",
        "pipeline = make_pipeline(\n",
        "    ct,\n",
        "    KNeighborsRegressor(n_neighbors=8)\n",
        ")"
      ],
      "metadata": {
        "id": "EDSbZMd5Uep0"
      },
      "execution_count": 34,
      "outputs": []
    },
    {
      "cell_type": "code",
      "source": [
        "pipeline.fit(X_knn1_train, y_knn1_train)"
      ],
      "metadata": {
        "colab": {
          "base_uri": "https://localhost:8080/",
          "height": 191
        },
        "id": "6IDYXegyVIQ4",
        "outputId": "17ed63cd-fde1-4d3e-b858-d43c4d369551"
      },
      "execution_count": 36,
      "outputs": [
        {
          "output_type": "execute_result",
          "data": {
            "text/plain": [
              "Pipeline(steps=[('columntransformer',\n",
              "                 ColumnTransformer(transformers=[('standardscaler',\n",
              "                                                  StandardScaler(),\n",
              "                                                  ['Year', 'Population',\n",
              "                                                   'Imports']),\n",
              "                                                 ('onehotencoder',\n",
              "                                                  OneHotEncoder(handle_unknown='ignore'),\n",
              "                                                  ['geo'])])),\n",
              "                ('kneighborsregressor', KNeighborsRegressor(n_neighbors=8))])"
            ],
            "text/html": [
              "<style>#sk-container-id-2 {color: black;background-color: white;}#sk-container-id-2 pre{padding: 0;}#sk-container-id-2 div.sk-toggleable {background-color: white;}#sk-container-id-2 label.sk-toggleable__label {cursor: pointer;display: block;width: 100%;margin-bottom: 0;padding: 0.3em;box-sizing: border-box;text-align: center;}#sk-container-id-2 label.sk-toggleable__label-arrow:before {content: \"▸\";float: left;margin-right: 0.25em;color: #696969;}#sk-container-id-2 label.sk-toggleable__label-arrow:hover:before {color: black;}#sk-container-id-2 div.sk-estimator:hover label.sk-toggleable__label-arrow:before {color: black;}#sk-container-id-2 div.sk-toggleable__content {max-height: 0;max-width: 0;overflow: hidden;text-align: left;background-color: #f0f8ff;}#sk-container-id-2 div.sk-toggleable__content pre {margin: 0.2em;color: black;border-radius: 0.25em;background-color: #f0f8ff;}#sk-container-id-2 input.sk-toggleable__control:checked~div.sk-toggleable__content {max-height: 200px;max-width: 100%;overflow: auto;}#sk-container-id-2 input.sk-toggleable__control:checked~label.sk-toggleable__label-arrow:before {content: \"▾\";}#sk-container-id-2 div.sk-estimator input.sk-toggleable__control:checked~label.sk-toggleable__label {background-color: #d4ebff;}#sk-container-id-2 div.sk-label input.sk-toggleable__control:checked~label.sk-toggleable__label {background-color: #d4ebff;}#sk-container-id-2 input.sk-hidden--visually {border: 0;clip: rect(1px 1px 1px 1px);clip: rect(1px, 1px, 1px, 1px);height: 1px;margin: -1px;overflow: hidden;padding: 0;position: absolute;width: 1px;}#sk-container-id-2 div.sk-estimator {font-family: monospace;background-color: #f0f8ff;border: 1px dotted black;border-radius: 0.25em;box-sizing: border-box;margin-bottom: 0.5em;}#sk-container-id-2 div.sk-estimator:hover {background-color: #d4ebff;}#sk-container-id-2 div.sk-parallel-item::after {content: \"\";width: 100%;border-bottom: 1px solid gray;flex-grow: 1;}#sk-container-id-2 div.sk-label:hover label.sk-toggleable__label {background-color: #d4ebff;}#sk-container-id-2 div.sk-serial::before {content: \"\";position: absolute;border-left: 1px solid gray;box-sizing: border-box;top: 0;bottom: 0;left: 50%;z-index: 0;}#sk-container-id-2 div.sk-serial {display: flex;flex-direction: column;align-items: center;background-color: white;padding-right: 0.2em;padding-left: 0.2em;position: relative;}#sk-container-id-2 div.sk-item {position: relative;z-index: 1;}#sk-container-id-2 div.sk-parallel {display: flex;align-items: stretch;justify-content: center;background-color: white;position: relative;}#sk-container-id-2 div.sk-item::before, #sk-container-id-2 div.sk-parallel-item::before {content: \"\";position: absolute;border-left: 1px solid gray;box-sizing: border-box;top: 0;bottom: 0;left: 50%;z-index: -1;}#sk-container-id-2 div.sk-parallel-item {display: flex;flex-direction: column;z-index: 1;position: relative;background-color: white;}#sk-container-id-2 div.sk-parallel-item:first-child::after {align-self: flex-end;width: 50%;}#sk-container-id-2 div.sk-parallel-item:last-child::after {align-self: flex-start;width: 50%;}#sk-container-id-2 div.sk-parallel-item:only-child::after {width: 0;}#sk-container-id-2 div.sk-dashed-wrapped {border: 1px dashed gray;margin: 0 0.4em 0.5em 0.4em;box-sizing: border-box;padding-bottom: 0.4em;background-color: white;}#sk-container-id-2 div.sk-label label {font-family: monospace;font-weight: bold;display: inline-block;line-height: 1.2em;}#sk-container-id-2 div.sk-label-container {text-align: center;}#sk-container-id-2 div.sk-container {/* jupyter's `normalize.less` sets `[hidden] { display: none; }` but bootstrap.min.css set `[hidden] { display: none !important; }` so we also need the `!important` here to be able to override the default hidden behavior on the sphinx rendered scikit-learn.org. See: https://github.com/scikit-learn/scikit-learn/issues/21755 */display: inline-block !important;position: relative;}#sk-container-id-2 div.sk-text-repr-fallback {display: none;}</style><div id=\"sk-container-id-2\" class=\"sk-top-container\"><div class=\"sk-text-repr-fallback\"><pre>Pipeline(steps=[(&#x27;columntransformer&#x27;,\n",
              "                 ColumnTransformer(transformers=[(&#x27;standardscaler&#x27;,\n",
              "                                                  StandardScaler(),\n",
              "                                                  [&#x27;Year&#x27;, &#x27;Population&#x27;,\n",
              "                                                   &#x27;Imports&#x27;]),\n",
              "                                                 (&#x27;onehotencoder&#x27;,\n",
              "                                                  OneHotEncoder(handle_unknown=&#x27;ignore&#x27;),\n",
              "                                                  [&#x27;geo&#x27;])])),\n",
              "                (&#x27;kneighborsregressor&#x27;, KNeighborsRegressor(n_neighbors=8))])</pre><b>In a Jupyter environment, please rerun this cell to show the HTML representation or trust the notebook. <br />On GitHub, the HTML representation is unable to render, please try loading this page with nbviewer.org.</b></div><div class=\"sk-container\" hidden><div class=\"sk-item sk-dashed-wrapped\"><div class=\"sk-label-container\"><div class=\"sk-label sk-toggleable\"><input class=\"sk-toggleable__control sk-hidden--visually\" id=\"sk-estimator-id-8\" type=\"checkbox\" ><label for=\"sk-estimator-id-8\" class=\"sk-toggleable__label sk-toggleable__label-arrow\">Pipeline</label><div class=\"sk-toggleable__content\"><pre>Pipeline(steps=[(&#x27;columntransformer&#x27;,\n",
              "                 ColumnTransformer(transformers=[(&#x27;standardscaler&#x27;,\n",
              "                                                  StandardScaler(),\n",
              "                                                  [&#x27;Year&#x27;, &#x27;Population&#x27;,\n",
              "                                                   &#x27;Imports&#x27;]),\n",
              "                                                 (&#x27;onehotencoder&#x27;,\n",
              "                                                  OneHotEncoder(handle_unknown=&#x27;ignore&#x27;),\n",
              "                                                  [&#x27;geo&#x27;])])),\n",
              "                (&#x27;kneighborsregressor&#x27;, KNeighborsRegressor(n_neighbors=8))])</pre></div></div></div><div class=\"sk-serial\"><div class=\"sk-item sk-dashed-wrapped\"><div class=\"sk-label-container\"><div class=\"sk-label sk-toggleable\"><input class=\"sk-toggleable__control sk-hidden--visually\" id=\"sk-estimator-id-9\" type=\"checkbox\" ><label for=\"sk-estimator-id-9\" class=\"sk-toggleable__label sk-toggleable__label-arrow\">columntransformer: ColumnTransformer</label><div class=\"sk-toggleable__content\"><pre>ColumnTransformer(transformers=[(&#x27;standardscaler&#x27;, StandardScaler(),\n",
              "                                 [&#x27;Year&#x27;, &#x27;Population&#x27;, &#x27;Imports&#x27;]),\n",
              "                                (&#x27;onehotencoder&#x27;,\n",
              "                                 OneHotEncoder(handle_unknown=&#x27;ignore&#x27;),\n",
              "                                 [&#x27;geo&#x27;])])</pre></div></div></div><div class=\"sk-parallel\"><div class=\"sk-parallel-item\"><div class=\"sk-item\"><div class=\"sk-label-container\"><div class=\"sk-label sk-toggleable\"><input class=\"sk-toggleable__control sk-hidden--visually\" id=\"sk-estimator-id-10\" type=\"checkbox\" ><label for=\"sk-estimator-id-10\" class=\"sk-toggleable__label sk-toggleable__label-arrow\">standardscaler</label><div class=\"sk-toggleable__content\"><pre>[&#x27;Year&#x27;, &#x27;Population&#x27;, &#x27;Imports&#x27;]</pre></div></div></div><div class=\"sk-serial\"><div class=\"sk-item\"><div class=\"sk-estimator sk-toggleable\"><input class=\"sk-toggleable__control sk-hidden--visually\" id=\"sk-estimator-id-11\" type=\"checkbox\" ><label for=\"sk-estimator-id-11\" class=\"sk-toggleable__label sk-toggleable__label-arrow\">StandardScaler</label><div class=\"sk-toggleable__content\"><pre>StandardScaler()</pre></div></div></div></div></div></div><div class=\"sk-parallel-item\"><div class=\"sk-item\"><div class=\"sk-label-container\"><div class=\"sk-label sk-toggleable\"><input class=\"sk-toggleable__control sk-hidden--visually\" id=\"sk-estimator-id-12\" type=\"checkbox\" ><label for=\"sk-estimator-id-12\" class=\"sk-toggleable__label sk-toggleable__label-arrow\">onehotencoder</label><div class=\"sk-toggleable__content\"><pre>[&#x27;geo&#x27;]</pre></div></div></div><div class=\"sk-serial\"><div class=\"sk-item\"><div class=\"sk-estimator sk-toggleable\"><input class=\"sk-toggleable__control sk-hidden--visually\" id=\"sk-estimator-id-13\" type=\"checkbox\" ><label for=\"sk-estimator-id-13\" class=\"sk-toggleable__label sk-toggleable__label-arrow\">OneHotEncoder</label><div class=\"sk-toggleable__content\"><pre>OneHotEncoder(handle_unknown=&#x27;ignore&#x27;)</pre></div></div></div></div></div></div></div></div><div class=\"sk-item\"><div class=\"sk-estimator sk-toggleable\"><input class=\"sk-toggleable__control sk-hidden--visually\" id=\"sk-estimator-id-14\" type=\"checkbox\" ><label for=\"sk-estimator-id-14\" class=\"sk-toggleable__label sk-toggleable__label-arrow\">KNeighborsRegressor</label><div class=\"sk-toggleable__content\"><pre>KNeighborsRegressor(n_neighbors=8)</pre></div></div></div></div></div></div></div>"
            ]
          },
          "metadata": {},
          "execution_count": 36
        }
      ]
    },
    {
      "cell_type": "code",
      "source": [
        "# cross validation scoring"
      ],
      "metadata": {
        "id": "zGeX9CeKUps6"
      },
      "execution_count": null,
      "outputs": []
    },
    {
      "cell_type": "code",
      "source": [
        "scores = -cross_val_score(pipeline,\n",
        "                         X_knn1_train,\n",
        "                         y_knn1_train,\n",
        "                         scoring=\"neg_root_mean_squared_error\",\n",
        "                         cv=10)\n",
        "scores.mean()"
      ],
      "metadata": {
        "colab": {
          "base_uri": "https://localhost:8080/"
        },
        "id": "tL8YPgBgXX4u",
        "outputId": "7646577d-9809-4843-dc5b-5705fda66259"
      },
      "execution_count": 42,
      "outputs": [
        {
          "output_type": "execute_result",
          "data": {
            "text/plain": [
              "101692.2143834381"
            ]
          },
          "metadata": {},
          "execution_count": 42
        }
      ]
    },
    {
      "cell_type": "code",
      "source": [
        "# test scoring"
      ],
      "metadata": {
        "id": "8zwPvywnUzq2"
      },
      "execution_count": null,
      "outputs": []
    },
    {
      "cell_type": "code",
      "source": [
        "print(\"Train Score : \", pipeline.score(X_knn1_train, y_knn1_train),\" Test Score : \", pipeline.score(X_knn1_test, y_knn1_test))"
      ],
      "metadata": {
        "colab": {
          "base_uri": "https://localhost:8080/"
        },
        "id": "CE9QpZXmU5Fc",
        "outputId": "0c3e2035-af9b-4041-ce23-47857d7dd757"
      },
      "execution_count": 38,
      "outputs": [
        {
          "output_type": "stream",
          "name": "stdout",
          "text": [
            "Train Score :  0.9850626807972832  Test Score :  0.9789798238844324\n"
          ]
        }
      ]
    },
    {
      "cell_type": "code",
      "source": [
        "y_knn1_pred = pipeline.predict(X_knn1_test)"
      ],
      "metadata": {
        "id": "WYRnajaZVQhe"
      },
      "execution_count": 39,
      "outputs": []
    },
    {
      "cell_type": "markdown",
      "source": [
        "RMSE"
      ],
      "metadata": {
        "id": "RigZkUjlWk3l"
      }
    },
    {
      "cell_type": "code",
      "source": [
        "from sklearn.metrics import mean_squared_error\n",
        "\n",
        "rmse = np.sqrt(mean_squared_error(y_knn1_test, y_knn1_pred))\n",
        "rmse"
      ],
      "metadata": {
        "colab": {
          "base_uri": "https://localhost:8080/"
        },
        "id": "Y9SJoL9UW_08",
        "outputId": "24cd88f4-2a7f-4d38-95c0-8c76b700a246"
      },
      "execution_count": 40,
      "outputs": [
        {
          "output_type": "execute_result",
          "data": {
            "text/plain": [
              "124842.11379156707"
            ]
          },
          "metadata": {},
          "execution_count": 40
        }
      ]
    },
    {
      "cell_type": "markdown",
      "source": [
        "Benchmark"
      ],
      "metadata": {
        "id": "gr9UmDlLY2-x"
      }
    },
    {
      "cell_type": "code",
      "source": [
        "from sklearn.dummy import DummyRegressor\n",
        "\n",
        "mean_model = DummyRegressor(strategy=\"mean\")\n",
        "\n",
        "-cross_val_score(mean_model, X=X_knn1_train, y=y_knn1_train, cv=10,\n",
        "                           scoring=\"neg_root_mean_squared_error\").mean()"
      ],
      "metadata": {
        "colab": {
          "base_uri": "https://localhost:8080/"
        },
        "id": "kc_FDmkklaTJ",
        "outputId": "37daadbc-f762-4c0b-d574-48aeca6758ad"
      },
      "execution_count": 83,
      "outputs": [
        {
          "output_type": "execute_result",
          "data": {
            "text/plain": [
              "690927.3333981774"
            ]
          },
          "metadata": {},
          "execution_count": 83
        }
      ]
    },
    {
      "cell_type": "code",
      "source": [
        "y_knn1_test.std()"
      ],
      "metadata": {
        "colab": {
          "base_uri": "https://localhost:8080/"
        },
        "id": "1I7_tgljY38C",
        "outputId": "511cb0ed-907f-4bbc-8501-76340d08b18e"
      },
      "execution_count": 45,
      "outputs": [
        {
          "output_type": "execute_result",
          "data": {
            "text/plain": [
              "867121.6148310832"
            ]
          },
          "metadata": {},
          "execution_count": 45
        }
      ]
    },
    {
      "cell_type": "markdown",
      "source": [
        "Based on these benchmarks, I'd say our model did a much better job!"
      ],
      "metadata": {
        "id": "aO5N4p4hY8uT"
      }
    },
    {
      "cell_type": "markdown",
      "source": [
        "R^2"
      ],
      "metadata": {
        "id": "2QvRgymAWj-K"
      }
    },
    {
      "cell_type": "code",
      "source": [
        "r_squared = 1 - (((y_knn1_test - y_knn1_pred)**2).mean()) / ((y_knn1_test - y_knn1_pred.mean())**2).mean()\n",
        "r_squared"
      ],
      "metadata": {
        "colab": {
          "base_uri": "https://localhost:8080/"
        },
        "id": "GB0Kjb06XwM-",
        "outputId": "264e664b-6123-454c-9fe8-3934989adbf6"
      },
      "execution_count": 43,
      "outputs": [
        {
          "output_type": "execute_result",
          "data": {
            "text/plain": [
              "0.9789898570610891"
            ]
          },
          "metadata": {},
          "execution_count": 43
        }
      ]
    },
    {
      "cell_type": "markdown",
      "source": [
        "That's a really good R^2 value.\n",
        "97.9% of the variability in GDP is explained by this model."
      ],
      "metadata": {
        "id": "sJeVyFTYX7Y0"
      }
    },
    {
      "cell_type": "markdown",
      "source": [
        "# KNN - Predicting for 2021\n",
        "Removing 2021 from the dataset and seeing how the model performs for an unknown year"
      ],
      "metadata": {
        "id": "42kv9G1BZVih"
      }
    },
    {
      "cell_type": "code",
      "source": [
        "# train\n",
        "no_2021 = df_eurostat[[\"geo\", \"Year\", \"Population\", \"Imports\", \"GDP\"]]\n",
        "no_2021 = no_2021[no_2021[\"Year\"] != 2021]\n",
        "X_knn_no_2021 = no_2021.drop(columns=[\"GDP\"])\n",
        "gdp_no_2021 = no_2021[\"GDP\"]\n",
        "\n",
        "\n",
        "# remove all instances of 2021 (test)\n",
        "yes_2021 = df_eurostat[[\"geo\", \"Year\", \"Population\", \"Imports\", \"GDP\"]]\n",
        "yes_2021 = yes_2021[yes_2021[\"Year\"] == 2021]\n",
        "X_knn_yes_2021 = yes_2021.drop(columns=[\"GDP\"])\n",
        "gdp_yes_2021 = yes_2021[\"GDP\"]"
      ],
      "metadata": {
        "id": "PTJ0SVE6ZeKj"
      },
      "execution_count": 234,
      "outputs": []
    },
    {
      "cell_type": "code",
      "source": [
        "from sklearn.preprocessing import StandardScaler, OneHotEncoder\n",
        "from sklearn.neighbors import KNeighborsRegressor\n",
        "from sklearn.pipeline import make_pipeline\n",
        "from sklearn.compose import make_column_transformer\n",
        "from sklearn.model_selection import cross_val_score\n",
        "\n",
        "ct = make_column_transformer(\n",
        "    (StandardScaler(), ['Year', 'Population', 'Imports']),\n",
        "    (OneHotEncoder(handle_unknown=\"ignore\"), ['geo']),\n",
        "    remainder=\"drop\"\n",
        ")\n",
        "\n",
        "pipeline = make_pipeline(\n",
        "    ct,\n",
        "    KNeighborsRegressor(n_neighbors=8)\n",
        ")"
      ],
      "metadata": {
        "id": "2ewG07B7avYS"
      },
      "execution_count": 235,
      "outputs": []
    },
    {
      "cell_type": "code",
      "source": [
        "pipeline.fit(X_knn_no_2021, gdp_no_2021)"
      ],
      "metadata": {
        "colab": {
          "base_uri": "https://localhost:8080/",
          "height": 191
        },
        "outputId": "296d67b9-f6d5-4a95-fbfb-bf113c2c4163",
        "id": "qCQoC_iJa58V"
      },
      "execution_count": 236,
      "outputs": [
        {
          "output_type": "execute_result",
          "data": {
            "text/plain": [
              "Pipeline(steps=[('columntransformer',\n",
              "                 ColumnTransformer(transformers=[('standardscaler',\n",
              "                                                  StandardScaler(),\n",
              "                                                  ['Year', 'Population',\n",
              "                                                   'Imports']),\n",
              "                                                 ('onehotencoder',\n",
              "                                                  OneHotEncoder(handle_unknown='ignore'),\n",
              "                                                  ['geo'])])),\n",
              "                ('kneighborsregressor', KNeighborsRegressor(n_neighbors=8))])"
            ],
            "text/html": [
              "<style>#sk-container-id-12 {color: black;background-color: white;}#sk-container-id-12 pre{padding: 0;}#sk-container-id-12 div.sk-toggleable {background-color: white;}#sk-container-id-12 label.sk-toggleable__label {cursor: pointer;display: block;width: 100%;margin-bottom: 0;padding: 0.3em;box-sizing: border-box;text-align: center;}#sk-container-id-12 label.sk-toggleable__label-arrow:before {content: \"▸\";float: left;margin-right: 0.25em;color: #696969;}#sk-container-id-12 label.sk-toggleable__label-arrow:hover:before {color: black;}#sk-container-id-12 div.sk-estimator:hover label.sk-toggleable__label-arrow:before {color: black;}#sk-container-id-12 div.sk-toggleable__content {max-height: 0;max-width: 0;overflow: hidden;text-align: left;background-color: #f0f8ff;}#sk-container-id-12 div.sk-toggleable__content pre {margin: 0.2em;color: black;border-radius: 0.25em;background-color: #f0f8ff;}#sk-container-id-12 input.sk-toggleable__control:checked~div.sk-toggleable__content {max-height: 200px;max-width: 100%;overflow: auto;}#sk-container-id-12 input.sk-toggleable__control:checked~label.sk-toggleable__label-arrow:before {content: \"▾\";}#sk-container-id-12 div.sk-estimator input.sk-toggleable__control:checked~label.sk-toggleable__label {background-color: #d4ebff;}#sk-container-id-12 div.sk-label input.sk-toggleable__control:checked~label.sk-toggleable__label {background-color: #d4ebff;}#sk-container-id-12 input.sk-hidden--visually {border: 0;clip: rect(1px 1px 1px 1px);clip: rect(1px, 1px, 1px, 1px);height: 1px;margin: -1px;overflow: hidden;padding: 0;position: absolute;width: 1px;}#sk-container-id-12 div.sk-estimator {font-family: monospace;background-color: #f0f8ff;border: 1px dotted black;border-radius: 0.25em;box-sizing: border-box;margin-bottom: 0.5em;}#sk-container-id-12 div.sk-estimator:hover {background-color: #d4ebff;}#sk-container-id-12 div.sk-parallel-item::after {content: \"\";width: 100%;border-bottom: 1px solid gray;flex-grow: 1;}#sk-container-id-12 div.sk-label:hover label.sk-toggleable__label {background-color: #d4ebff;}#sk-container-id-12 div.sk-serial::before {content: \"\";position: absolute;border-left: 1px solid gray;box-sizing: border-box;top: 0;bottom: 0;left: 50%;z-index: 0;}#sk-container-id-12 div.sk-serial {display: flex;flex-direction: column;align-items: center;background-color: white;padding-right: 0.2em;padding-left: 0.2em;position: relative;}#sk-container-id-12 div.sk-item {position: relative;z-index: 1;}#sk-container-id-12 div.sk-parallel {display: flex;align-items: stretch;justify-content: center;background-color: white;position: relative;}#sk-container-id-12 div.sk-item::before, #sk-container-id-12 div.sk-parallel-item::before {content: \"\";position: absolute;border-left: 1px solid gray;box-sizing: border-box;top: 0;bottom: 0;left: 50%;z-index: -1;}#sk-container-id-12 div.sk-parallel-item {display: flex;flex-direction: column;z-index: 1;position: relative;background-color: white;}#sk-container-id-12 div.sk-parallel-item:first-child::after {align-self: flex-end;width: 50%;}#sk-container-id-12 div.sk-parallel-item:last-child::after {align-self: flex-start;width: 50%;}#sk-container-id-12 div.sk-parallel-item:only-child::after {width: 0;}#sk-container-id-12 div.sk-dashed-wrapped {border: 1px dashed gray;margin: 0 0.4em 0.5em 0.4em;box-sizing: border-box;padding-bottom: 0.4em;background-color: white;}#sk-container-id-12 div.sk-label label {font-family: monospace;font-weight: bold;display: inline-block;line-height: 1.2em;}#sk-container-id-12 div.sk-label-container {text-align: center;}#sk-container-id-12 div.sk-container {/* jupyter's `normalize.less` sets `[hidden] { display: none; }` but bootstrap.min.css set `[hidden] { display: none !important; }` so we also need the `!important` here to be able to override the default hidden behavior on the sphinx rendered scikit-learn.org. See: https://github.com/scikit-learn/scikit-learn/issues/21755 */display: inline-block !important;position: relative;}#sk-container-id-12 div.sk-text-repr-fallback {display: none;}</style><div id=\"sk-container-id-12\" class=\"sk-top-container\"><div class=\"sk-text-repr-fallback\"><pre>Pipeline(steps=[(&#x27;columntransformer&#x27;,\n",
              "                 ColumnTransformer(transformers=[(&#x27;standardscaler&#x27;,\n",
              "                                                  StandardScaler(),\n",
              "                                                  [&#x27;Year&#x27;, &#x27;Population&#x27;,\n",
              "                                                   &#x27;Imports&#x27;]),\n",
              "                                                 (&#x27;onehotencoder&#x27;,\n",
              "                                                  OneHotEncoder(handle_unknown=&#x27;ignore&#x27;),\n",
              "                                                  [&#x27;geo&#x27;])])),\n",
              "                (&#x27;kneighborsregressor&#x27;, KNeighborsRegressor(n_neighbors=8))])</pre><b>In a Jupyter environment, please rerun this cell to show the HTML representation or trust the notebook. <br />On GitHub, the HTML representation is unable to render, please try loading this page with nbviewer.org.</b></div><div class=\"sk-container\" hidden><div class=\"sk-item sk-dashed-wrapped\"><div class=\"sk-label-container\"><div class=\"sk-label sk-toggleable\"><input class=\"sk-toggleable__control sk-hidden--visually\" id=\"sk-estimator-id-62\" type=\"checkbox\" ><label for=\"sk-estimator-id-62\" class=\"sk-toggleable__label sk-toggleable__label-arrow\">Pipeline</label><div class=\"sk-toggleable__content\"><pre>Pipeline(steps=[(&#x27;columntransformer&#x27;,\n",
              "                 ColumnTransformer(transformers=[(&#x27;standardscaler&#x27;,\n",
              "                                                  StandardScaler(),\n",
              "                                                  [&#x27;Year&#x27;, &#x27;Population&#x27;,\n",
              "                                                   &#x27;Imports&#x27;]),\n",
              "                                                 (&#x27;onehotencoder&#x27;,\n",
              "                                                  OneHotEncoder(handle_unknown=&#x27;ignore&#x27;),\n",
              "                                                  [&#x27;geo&#x27;])])),\n",
              "                (&#x27;kneighborsregressor&#x27;, KNeighborsRegressor(n_neighbors=8))])</pre></div></div></div><div class=\"sk-serial\"><div class=\"sk-item sk-dashed-wrapped\"><div class=\"sk-label-container\"><div class=\"sk-label sk-toggleable\"><input class=\"sk-toggleable__control sk-hidden--visually\" id=\"sk-estimator-id-63\" type=\"checkbox\" ><label for=\"sk-estimator-id-63\" class=\"sk-toggleable__label sk-toggleable__label-arrow\">columntransformer: ColumnTransformer</label><div class=\"sk-toggleable__content\"><pre>ColumnTransformer(transformers=[(&#x27;standardscaler&#x27;, StandardScaler(),\n",
              "                                 [&#x27;Year&#x27;, &#x27;Population&#x27;, &#x27;Imports&#x27;]),\n",
              "                                (&#x27;onehotencoder&#x27;,\n",
              "                                 OneHotEncoder(handle_unknown=&#x27;ignore&#x27;),\n",
              "                                 [&#x27;geo&#x27;])])</pre></div></div></div><div class=\"sk-parallel\"><div class=\"sk-parallel-item\"><div class=\"sk-item\"><div class=\"sk-label-container\"><div class=\"sk-label sk-toggleable\"><input class=\"sk-toggleable__control sk-hidden--visually\" id=\"sk-estimator-id-64\" type=\"checkbox\" ><label for=\"sk-estimator-id-64\" class=\"sk-toggleable__label sk-toggleable__label-arrow\">standardscaler</label><div class=\"sk-toggleable__content\"><pre>[&#x27;Year&#x27;, &#x27;Population&#x27;, &#x27;Imports&#x27;]</pre></div></div></div><div class=\"sk-serial\"><div class=\"sk-item\"><div class=\"sk-estimator sk-toggleable\"><input class=\"sk-toggleable__control sk-hidden--visually\" id=\"sk-estimator-id-65\" type=\"checkbox\" ><label for=\"sk-estimator-id-65\" class=\"sk-toggleable__label sk-toggleable__label-arrow\">StandardScaler</label><div class=\"sk-toggleable__content\"><pre>StandardScaler()</pre></div></div></div></div></div></div><div class=\"sk-parallel-item\"><div class=\"sk-item\"><div class=\"sk-label-container\"><div class=\"sk-label sk-toggleable\"><input class=\"sk-toggleable__control sk-hidden--visually\" id=\"sk-estimator-id-66\" type=\"checkbox\" ><label for=\"sk-estimator-id-66\" class=\"sk-toggleable__label sk-toggleable__label-arrow\">onehotencoder</label><div class=\"sk-toggleable__content\"><pre>[&#x27;geo&#x27;]</pre></div></div></div><div class=\"sk-serial\"><div class=\"sk-item\"><div class=\"sk-estimator sk-toggleable\"><input class=\"sk-toggleable__control sk-hidden--visually\" id=\"sk-estimator-id-67\" type=\"checkbox\" ><label for=\"sk-estimator-id-67\" class=\"sk-toggleable__label sk-toggleable__label-arrow\">OneHotEncoder</label><div class=\"sk-toggleable__content\"><pre>OneHotEncoder(handle_unknown=&#x27;ignore&#x27;)</pre></div></div></div></div></div></div></div></div><div class=\"sk-item\"><div class=\"sk-estimator sk-toggleable\"><input class=\"sk-toggleable__control sk-hidden--visually\" id=\"sk-estimator-id-68\" type=\"checkbox\" ><label for=\"sk-estimator-id-68\" class=\"sk-toggleable__label sk-toggleable__label-arrow\">KNeighborsRegressor</label><div class=\"sk-toggleable__content\"><pre>KNeighborsRegressor(n_neighbors=8)</pre></div></div></div></div></div></div></div>"
            ]
          },
          "metadata": {},
          "execution_count": 236
        }
      ]
    },
    {
      "cell_type": "code",
      "source": [
        "# cross validation scoring"
      ],
      "metadata": {
        "id": "qKnsL19Ka58W"
      },
      "execution_count": 237,
      "outputs": []
    },
    {
      "cell_type": "code",
      "source": [
        "scores = -cross_val_score(pipeline,\n",
        "                         X_knn_no_2021,\n",
        "                         gdp_no_2021,\n",
        "                         scoring=\"neg_root_mean_squared_error\",\n",
        "                         cv=10)\n",
        "scores.mean()"
      ],
      "metadata": {
        "colab": {
          "base_uri": "https://localhost:8080/"
        },
        "outputId": "3057894c-fa10-4a99-baef-36a3e90acc08",
        "id": "HMb-Yipua58W"
      },
      "execution_count": 238,
      "outputs": [
        {
          "output_type": "execute_result",
          "data": {
            "text/plain": [
              "150882.37082297204"
            ]
          },
          "metadata": {},
          "execution_count": 238
        }
      ]
    },
    {
      "cell_type": "code",
      "source": [
        "# test scoring"
      ],
      "metadata": {
        "id": "PXX-qsjua58X"
      },
      "execution_count": null,
      "outputs": []
    },
    {
      "cell_type": "code",
      "source": [
        "print(\"Train Score : \", pipeline.score(X_knn_no_2021, gdp_no_2021),\" Test Score : \", pipeline.score(X_knn_yes_2021, gdp_yes_2021))"
      ],
      "metadata": {
        "colab": {
          "base_uri": "https://localhost:8080/"
        },
        "outputId": "c2e4792b-8be8-44da-ed93-3b00b2b64dde",
        "id": "5Bclv3JPa58X"
      },
      "execution_count": 70,
      "outputs": [
        {
          "output_type": "stream",
          "name": "stdout",
          "text": [
            "Train Score :  0.993904443480282  Test Score :  0.9702751426053756\n"
          ]
        }
      ]
    },
    {
      "cell_type": "code",
      "source": [
        "y_knn_2021_pred = pipeline.predict(X_knn_yes_2021)"
      ],
      "metadata": {
        "id": "dECiVAiYa58X"
      },
      "execution_count": 76,
      "outputs": []
    },
    {
      "cell_type": "markdown",
      "source": [
        "RMSE"
      ],
      "metadata": {
        "id": "XxHPVbTxa58X"
      }
    },
    {
      "cell_type": "code",
      "source": [
        "from sklearn.metrics import mean_squared_error\n",
        "\n",
        "rmse = np.sqrt(mean_squared_error(gdp_yes_2021, y_knn_2021_pred))\n",
        "rmse"
      ],
      "metadata": {
        "colab": {
          "base_uri": "https://localhost:8080/"
        },
        "outputId": "4fbc531d-85be-4577-8719-0d292798f6a2",
        "id": "C9_Buxa3a58X"
      },
      "execution_count": 239,
      "outputs": [
        {
          "output_type": "execute_result",
          "data": {
            "text/plain": [
              "145482.641500312"
            ]
          },
          "metadata": {},
          "execution_count": 239
        }
      ]
    },
    {
      "cell_type": "markdown",
      "source": [
        "Benchmark"
      ],
      "metadata": {
        "id": "FHq71Chpa58Y"
      }
    },
    {
      "cell_type": "code",
      "source": [
        "gdp_yes_2021.std()"
      ],
      "metadata": {
        "colab": {
          "base_uri": "https://localhost:8080/"
        },
        "outputId": "8f377e1a-e220-4d7a-97f2-e308a8879889",
        "id": "AfHTirVJa58Y"
      },
      "execution_count": 240,
      "outputs": [
        {
          "output_type": "execute_result",
          "data": {
            "text/plain": [
              "860533.8484067871"
            ]
          },
          "metadata": {},
          "execution_count": 240
        }
      ]
    },
    {
      "cell_type": "code",
      "source": [
        "from sklearn.dummy import DummyRegressor\n",
        "\n",
        "mean_model = DummyRegressor(strategy=\"mean\")\n",
        "\n",
        "-cross_val_score(mean_model, X=X_knn_no_2021, y=gdp_no_2021, cv=10,\n",
        "                           scoring=\"neg_root_mean_squared_error\").mean()"
      ],
      "metadata": {
        "colab": {
          "base_uri": "https://localhost:8080/"
        },
        "id": "cJ98WTPUFx4w",
        "outputId": "dab7e40a-ec65-4208-cad0-c68ed1ccf60f"
      },
      "execution_count": 222,
      "outputs": [
        {
          "output_type": "execute_result",
          "data": {
            "text/plain": [
              "659915.7065210016"
            ]
          },
          "metadata": {},
          "execution_count": 222
        }
      ]
    },
    {
      "cell_type": "markdown",
      "source": [
        "Based on this benchmark, I'd say our model did a much better job!"
      ],
      "metadata": {
        "id": "T9UmzQvZa58Y"
      }
    },
    {
      "cell_type": "markdown",
      "source": [
        "R^2"
      ],
      "metadata": {
        "id": "pyTk-2ena58Z"
      }
    },
    {
      "cell_type": "code",
      "source": [
        "r_squared = 1 - (((gdp_yes_2021 - y_knn_2021_pred)**2).mean()) / ((gdp_yes_2021 - y_knn_2021_pred.mean())**2).mean()\n",
        "r_squared"
      ],
      "metadata": {
        "colab": {
          "base_uri": "https://localhost:8080/"
        },
        "outputId": "1936473b-0799-4376-ff23-6cb42e452ed9",
        "id": "yJ5YYJBza58Z"
      },
      "execution_count": 81,
      "outputs": [
        {
          "output_type": "execute_result",
          "data": {
            "text/plain": [
              "0.970367428062654"
            ]
          },
          "metadata": {},
          "execution_count": 81
        }
      ]
    },
    {
      "cell_type": "markdown",
      "source": [
        "That's a really good R^2 value.\n",
        "97.0% of the variability in GDP is explained by this model."
      ],
      "metadata": {
        "id": "TEQWRcKHa58Z"
      }
    },
    {
      "cell_type": "markdown",
      "source": [
        "# KNN - Comparing to Time Series"
      ],
      "metadata": {
        "id": "SAP6C5CxkYRE"
      }
    },
    {
      "cell_type": "markdown",
      "source": [
        "# Linear Regression - General"
      ],
      "metadata": {
        "id": "BiM99fUSGIxa"
      }
    },
    {
      "cell_type": "markdown",
      "source": [
        "Should log transform variables.\n",
        "As seen in the data visualization set, a lot of data is skewed."
      ],
      "metadata": {
        "id": "TO_cWYwmoUhT"
      }
    },
    {
      "cell_type": "code",
      "source": [
        "X_reg"
      ],
      "metadata": {
        "colab": {
          "base_uri": "https://localhost:8080/",
          "height": 423
        },
        "id": "aCWq5BPMo9Fk",
        "outputId": "4d0c83a4-72db-4d98-f381-3c05dcc5ef3a"
      },
      "execution_count": 84,
      "outputs": [
        {
          "output_type": "execute_result",
          "data": {
            "text/plain": [
              "          geo  Year     CPI  Immigrants  Population  Housing Index  \\\n",
              "0     Austria  2011   93.35     82230.0   8391643.0          81.60   \n",
              "1     Austria  2012   95.75     91557.0   8429991.0          87.57   \n",
              "2     Austria  2013   97.77    101866.0   8479823.0          92.10   \n",
              "3     Austria  2014   99.20    116262.0   8546356.0          95.33   \n",
              "4     Austria  2015  100.00    166323.0   8642699.0         100.00   \n",
              "..        ...   ...     ...         ...         ...            ...   \n",
              "280  Slovakia  2017  100.90      7188.0   5439232.0         112.99   \n",
              "281  Slovakia  2018  103.46      7253.0   5446771.0         121.32   \n",
              "282  Slovakia  2019  106.33      7016.0   5454147.0         132.39   \n",
              "283  Slovakia  2020  108.47      6775.0   5458827.0         145.06   \n",
              "284  Slovakia  2021  111.53      5733.0   5447247.0         154.33   \n",
              "\n",
              "     emigration  unemployment  total_deaths   Exports   Imports  \n",
              "0       51197.0           3.3       76479.0  127462.4  137512.5  \n",
              "1       51812.0           3.5       79436.0  129678.5  138942.4  \n",
              "2       54071.0           3.8       79526.0  131884.6  137999.8  \n",
              "3       53491.0           4.0       78252.0  134172.5  137001.2  \n",
              "4       56689.0           4.1       83073.0  137756.8  140699.2  \n",
              "..          ...           ...           ...       ...       ...  \n",
              "280      3466.0           5.4       53914.0   73790.1   72191.9  \n",
              "281      3298.0           4.3       54293.0   79136.9   78727.4  \n",
              "282      3384.0           3.8       53234.0   79962.0   80407.4  \n",
              "283      2428.0           4.4       59089.0   75586.2   73700.2  \n",
              "284      3395.0           4.5       73461.0   87868.1   87904.7  \n",
              "\n",
              "[285 rows x 11 columns]"
            ],
            "text/html": [
              "\n",
              "  <div id=\"df-cade356c-6e2e-4063-b74e-5b2513c850c2\" class=\"colab-df-container\">\n",
              "    <div>\n",
              "<style scoped>\n",
              "    .dataframe tbody tr th:only-of-type {\n",
              "        vertical-align: middle;\n",
              "    }\n",
              "\n",
              "    .dataframe tbody tr th {\n",
              "        vertical-align: top;\n",
              "    }\n",
              "\n",
              "    .dataframe thead th {\n",
              "        text-align: right;\n",
              "    }\n",
              "</style>\n",
              "<table border=\"1\" class=\"dataframe\">\n",
              "  <thead>\n",
              "    <tr style=\"text-align: right;\">\n",
              "      <th></th>\n",
              "      <th>geo</th>\n",
              "      <th>Year</th>\n",
              "      <th>CPI</th>\n",
              "      <th>Immigrants</th>\n",
              "      <th>Population</th>\n",
              "      <th>Housing Index</th>\n",
              "      <th>emigration</th>\n",
              "      <th>unemployment</th>\n",
              "      <th>total_deaths</th>\n",
              "      <th>Exports</th>\n",
              "      <th>Imports</th>\n",
              "    </tr>\n",
              "  </thead>\n",
              "  <tbody>\n",
              "    <tr>\n",
              "      <th>0</th>\n",
              "      <td>Austria</td>\n",
              "      <td>2011</td>\n",
              "      <td>93.35</td>\n",
              "      <td>82230.0</td>\n",
              "      <td>8391643.0</td>\n",
              "      <td>81.60</td>\n",
              "      <td>51197.0</td>\n",
              "      <td>3.3</td>\n",
              "      <td>76479.0</td>\n",
              "      <td>127462.4</td>\n",
              "      <td>137512.5</td>\n",
              "    </tr>\n",
              "    <tr>\n",
              "      <th>1</th>\n",
              "      <td>Austria</td>\n",
              "      <td>2012</td>\n",
              "      <td>95.75</td>\n",
              "      <td>91557.0</td>\n",
              "      <td>8429991.0</td>\n",
              "      <td>87.57</td>\n",
              "      <td>51812.0</td>\n",
              "      <td>3.5</td>\n",
              "      <td>79436.0</td>\n",
              "      <td>129678.5</td>\n",
              "      <td>138942.4</td>\n",
              "    </tr>\n",
              "    <tr>\n",
              "      <th>2</th>\n",
              "      <td>Austria</td>\n",
              "      <td>2013</td>\n",
              "      <td>97.77</td>\n",
              "      <td>101866.0</td>\n",
              "      <td>8479823.0</td>\n",
              "      <td>92.10</td>\n",
              "      <td>54071.0</td>\n",
              "      <td>3.8</td>\n",
              "      <td>79526.0</td>\n",
              "      <td>131884.6</td>\n",
              "      <td>137999.8</td>\n",
              "    </tr>\n",
              "    <tr>\n",
              "      <th>3</th>\n",
              "      <td>Austria</td>\n",
              "      <td>2014</td>\n",
              "      <td>99.20</td>\n",
              "      <td>116262.0</td>\n",
              "      <td>8546356.0</td>\n",
              "      <td>95.33</td>\n",
              "      <td>53491.0</td>\n",
              "      <td>4.0</td>\n",
              "      <td>78252.0</td>\n",
              "      <td>134172.5</td>\n",
              "      <td>137001.2</td>\n",
              "    </tr>\n",
              "    <tr>\n",
              "      <th>4</th>\n",
              "      <td>Austria</td>\n",
              "      <td>2015</td>\n",
              "      <td>100.00</td>\n",
              "      <td>166323.0</td>\n",
              "      <td>8642699.0</td>\n",
              "      <td>100.00</td>\n",
              "      <td>56689.0</td>\n",
              "      <td>4.1</td>\n",
              "      <td>83073.0</td>\n",
              "      <td>137756.8</td>\n",
              "      <td>140699.2</td>\n",
              "    </tr>\n",
              "    <tr>\n",
              "      <th>...</th>\n",
              "      <td>...</td>\n",
              "      <td>...</td>\n",
              "      <td>...</td>\n",
              "      <td>...</td>\n",
              "      <td>...</td>\n",
              "      <td>...</td>\n",
              "      <td>...</td>\n",
              "      <td>...</td>\n",
              "      <td>...</td>\n",
              "      <td>...</td>\n",
              "      <td>...</td>\n",
              "    </tr>\n",
              "    <tr>\n",
              "      <th>280</th>\n",
              "      <td>Slovakia</td>\n",
              "      <td>2017</td>\n",
              "      <td>100.90</td>\n",
              "      <td>7188.0</td>\n",
              "      <td>5439232.0</td>\n",
              "      <td>112.99</td>\n",
              "      <td>3466.0</td>\n",
              "      <td>5.4</td>\n",
              "      <td>53914.0</td>\n",
              "      <td>73790.1</td>\n",
              "      <td>72191.9</td>\n",
              "    </tr>\n",
              "    <tr>\n",
              "      <th>281</th>\n",
              "      <td>Slovakia</td>\n",
              "      <td>2018</td>\n",
              "      <td>103.46</td>\n",
              "      <td>7253.0</td>\n",
              "      <td>5446771.0</td>\n",
              "      <td>121.32</td>\n",
              "      <td>3298.0</td>\n",
              "      <td>4.3</td>\n",
              "      <td>54293.0</td>\n",
              "      <td>79136.9</td>\n",
              "      <td>78727.4</td>\n",
              "    </tr>\n",
              "    <tr>\n",
              "      <th>282</th>\n",
              "      <td>Slovakia</td>\n",
              "      <td>2019</td>\n",
              "      <td>106.33</td>\n",
              "      <td>7016.0</td>\n",
              "      <td>5454147.0</td>\n",
              "      <td>132.39</td>\n",
              "      <td>3384.0</td>\n",
              "      <td>3.8</td>\n",
              "      <td>53234.0</td>\n",
              "      <td>79962.0</td>\n",
              "      <td>80407.4</td>\n",
              "    </tr>\n",
              "    <tr>\n",
              "      <th>283</th>\n",
              "      <td>Slovakia</td>\n",
              "      <td>2020</td>\n",
              "      <td>108.47</td>\n",
              "      <td>6775.0</td>\n",
              "      <td>5458827.0</td>\n",
              "      <td>145.06</td>\n",
              "      <td>2428.0</td>\n",
              "      <td>4.4</td>\n",
              "      <td>59089.0</td>\n",
              "      <td>75586.2</td>\n",
              "      <td>73700.2</td>\n",
              "    </tr>\n",
              "    <tr>\n",
              "      <th>284</th>\n",
              "      <td>Slovakia</td>\n",
              "      <td>2021</td>\n",
              "      <td>111.53</td>\n",
              "      <td>5733.0</td>\n",
              "      <td>5447247.0</td>\n",
              "      <td>154.33</td>\n",
              "      <td>3395.0</td>\n",
              "      <td>4.5</td>\n",
              "      <td>73461.0</td>\n",
              "      <td>87868.1</td>\n",
              "      <td>87904.7</td>\n",
              "    </tr>\n",
              "  </tbody>\n",
              "</table>\n",
              "<p>285 rows × 11 columns</p>\n",
              "</div>\n",
              "    <div class=\"colab-df-buttons\">\n",
              "\n",
              "  <div class=\"colab-df-container\">\n",
              "    <button class=\"colab-df-convert\" onclick=\"convertToInteractive('df-cade356c-6e2e-4063-b74e-5b2513c850c2')\"\n",
              "            title=\"Convert this dataframe to an interactive table.\"\n",
              "            style=\"display:none;\">\n",
              "\n",
              "  <svg xmlns=\"http://www.w3.org/2000/svg\" height=\"24px\" viewBox=\"0 -960 960 960\">\n",
              "    <path d=\"M120-120v-720h720v720H120Zm60-500h600v-160H180v160Zm220 220h160v-160H400v160Zm0 220h160v-160H400v160ZM180-400h160v-160H180v160Zm440 0h160v-160H620v160ZM180-180h160v-160H180v160Zm440 0h160v-160H620v160Z\"/>\n",
              "  </svg>\n",
              "    </button>\n",
              "\n",
              "  <style>\n",
              "    .colab-df-container {\n",
              "      display:flex;\n",
              "      gap: 12px;\n",
              "    }\n",
              "\n",
              "    .colab-df-convert {\n",
              "      background-color: #E8F0FE;\n",
              "      border: none;\n",
              "      border-radius: 50%;\n",
              "      cursor: pointer;\n",
              "      display: none;\n",
              "      fill: #1967D2;\n",
              "      height: 32px;\n",
              "      padding: 0 0 0 0;\n",
              "      width: 32px;\n",
              "    }\n",
              "\n",
              "    .colab-df-convert:hover {\n",
              "      background-color: #E2EBFA;\n",
              "      box-shadow: 0px 1px 2px rgba(60, 64, 67, 0.3), 0px 1px 3px 1px rgba(60, 64, 67, 0.15);\n",
              "      fill: #174EA6;\n",
              "    }\n",
              "\n",
              "    .colab-df-buttons div {\n",
              "      margin-bottom: 4px;\n",
              "    }\n",
              "\n",
              "    [theme=dark] .colab-df-convert {\n",
              "      background-color: #3B4455;\n",
              "      fill: #D2E3FC;\n",
              "    }\n",
              "\n",
              "    [theme=dark] .colab-df-convert:hover {\n",
              "      background-color: #434B5C;\n",
              "      box-shadow: 0px 1px 3px 1px rgba(0, 0, 0, 0.15);\n",
              "      filter: drop-shadow(0px 1px 2px rgba(0, 0, 0, 0.3));\n",
              "      fill: #FFFFFF;\n",
              "    }\n",
              "  </style>\n",
              "\n",
              "    <script>\n",
              "      const buttonEl =\n",
              "        document.querySelector('#df-cade356c-6e2e-4063-b74e-5b2513c850c2 button.colab-df-convert');\n",
              "      buttonEl.style.display =\n",
              "        google.colab.kernel.accessAllowed ? 'block' : 'none';\n",
              "\n",
              "      async function convertToInteractive(key) {\n",
              "        const element = document.querySelector('#df-cade356c-6e2e-4063-b74e-5b2513c850c2');\n",
              "        const dataTable =\n",
              "          await google.colab.kernel.invokeFunction('convertToInteractive',\n",
              "                                                    [key], {});\n",
              "        if (!dataTable) return;\n",
              "\n",
              "        const docLinkHtml = 'Like what you see? Visit the ' +\n",
              "          '<a target=\"_blank\" href=https://colab.research.google.com/notebooks/data_table.ipynb>data table notebook</a>'\n",
              "          + ' to learn more about interactive tables.';\n",
              "        element.innerHTML = '';\n",
              "        dataTable['output_type'] = 'display_data';\n",
              "        await google.colab.output.renderOutput(dataTable, element);\n",
              "        const docLink = document.createElement('div');\n",
              "        docLink.innerHTML = docLinkHtml;\n",
              "        element.appendChild(docLink);\n",
              "      }\n",
              "    </script>\n",
              "  </div>\n",
              "\n",
              "\n",
              "<div id=\"df-7b721fc0-6466-42e1-9d1c-01deb76c931b\">\n",
              "  <button class=\"colab-df-quickchart\" onclick=\"quickchart('df-7b721fc0-6466-42e1-9d1c-01deb76c931b')\"\n",
              "            title=\"Suggest charts\"\n",
              "            style=\"display:none;\">\n",
              "\n",
              "<svg xmlns=\"http://www.w3.org/2000/svg\" height=\"24px\"viewBox=\"0 0 24 24\"\n",
              "     width=\"24px\">\n",
              "    <g>\n",
              "        <path d=\"M19 3H5c-1.1 0-2 .9-2 2v14c0 1.1.9 2 2 2h14c1.1 0 2-.9 2-2V5c0-1.1-.9-2-2-2zM9 17H7v-7h2v7zm4 0h-2V7h2v10zm4 0h-2v-4h2v4z\"/>\n",
              "    </g>\n",
              "</svg>\n",
              "  </button>\n",
              "\n",
              "<style>\n",
              "  .colab-df-quickchart {\n",
              "      --bg-color: #E8F0FE;\n",
              "      --fill-color: #1967D2;\n",
              "      --hover-bg-color: #E2EBFA;\n",
              "      --hover-fill-color: #174EA6;\n",
              "      --disabled-fill-color: #AAA;\n",
              "      --disabled-bg-color: #DDD;\n",
              "  }\n",
              "\n",
              "  [theme=dark] .colab-df-quickchart {\n",
              "      --bg-color: #3B4455;\n",
              "      --fill-color: #D2E3FC;\n",
              "      --hover-bg-color: #434B5C;\n",
              "      --hover-fill-color: #FFFFFF;\n",
              "      --disabled-bg-color: #3B4455;\n",
              "      --disabled-fill-color: #666;\n",
              "  }\n",
              "\n",
              "  .colab-df-quickchart {\n",
              "    background-color: var(--bg-color);\n",
              "    border: none;\n",
              "    border-radius: 50%;\n",
              "    cursor: pointer;\n",
              "    display: none;\n",
              "    fill: var(--fill-color);\n",
              "    height: 32px;\n",
              "    padding: 0;\n",
              "    width: 32px;\n",
              "  }\n",
              "\n",
              "  .colab-df-quickchart:hover {\n",
              "    background-color: var(--hover-bg-color);\n",
              "    box-shadow: 0 1px 2px rgba(60, 64, 67, 0.3), 0 1px 3px 1px rgba(60, 64, 67, 0.15);\n",
              "    fill: var(--button-hover-fill-color);\n",
              "  }\n",
              "\n",
              "  .colab-df-quickchart-complete:disabled,\n",
              "  .colab-df-quickchart-complete:disabled:hover {\n",
              "    background-color: var(--disabled-bg-color);\n",
              "    fill: var(--disabled-fill-color);\n",
              "    box-shadow: none;\n",
              "  }\n",
              "\n",
              "  .colab-df-spinner {\n",
              "    border: 2px solid var(--fill-color);\n",
              "    border-color: transparent;\n",
              "    border-bottom-color: var(--fill-color);\n",
              "    animation:\n",
              "      spin 1s steps(1) infinite;\n",
              "  }\n",
              "\n",
              "  @keyframes spin {\n",
              "    0% {\n",
              "      border-color: transparent;\n",
              "      border-bottom-color: var(--fill-color);\n",
              "      border-left-color: var(--fill-color);\n",
              "    }\n",
              "    20% {\n",
              "      border-color: transparent;\n",
              "      border-left-color: var(--fill-color);\n",
              "      border-top-color: var(--fill-color);\n",
              "    }\n",
              "    30% {\n",
              "      border-color: transparent;\n",
              "      border-left-color: var(--fill-color);\n",
              "      border-top-color: var(--fill-color);\n",
              "      border-right-color: var(--fill-color);\n",
              "    }\n",
              "    40% {\n",
              "      border-color: transparent;\n",
              "      border-right-color: var(--fill-color);\n",
              "      border-top-color: var(--fill-color);\n",
              "    }\n",
              "    60% {\n",
              "      border-color: transparent;\n",
              "      border-right-color: var(--fill-color);\n",
              "    }\n",
              "    80% {\n",
              "      border-color: transparent;\n",
              "      border-right-color: var(--fill-color);\n",
              "      border-bottom-color: var(--fill-color);\n",
              "    }\n",
              "    90% {\n",
              "      border-color: transparent;\n",
              "      border-bottom-color: var(--fill-color);\n",
              "    }\n",
              "  }\n",
              "</style>\n",
              "\n",
              "  <script>\n",
              "    async function quickchart(key) {\n",
              "      const quickchartButtonEl =\n",
              "        document.querySelector('#' + key + ' button');\n",
              "      quickchartButtonEl.disabled = true;  // To prevent multiple clicks.\n",
              "      quickchartButtonEl.classList.add('colab-df-spinner');\n",
              "      try {\n",
              "        const charts = await google.colab.kernel.invokeFunction(\n",
              "            'suggestCharts', [key], {});\n",
              "      } catch (error) {\n",
              "        console.error('Error during call to suggestCharts:', error);\n",
              "      }\n",
              "      quickchartButtonEl.classList.remove('colab-df-spinner');\n",
              "      quickchartButtonEl.classList.add('colab-df-quickchart-complete');\n",
              "    }\n",
              "    (() => {\n",
              "      let quickchartButtonEl =\n",
              "        document.querySelector('#df-7b721fc0-6466-42e1-9d1c-01deb76c931b button');\n",
              "      quickchartButtonEl.style.display =\n",
              "        google.colab.kernel.accessAllowed ? 'block' : 'none';\n",
              "    })();\n",
              "  </script>\n",
              "</div>\n",
              "    </div>\n",
              "  </div>\n"
            ]
          },
          "metadata": {},
          "execution_count": 84
        }
      ]
    },
    {
      "cell_type": "markdown",
      "source": [
        "## Log Transforming"
      ],
      "metadata": {
        "id": "lgzmDGjVp0I4"
      }
    },
    {
      "cell_type": "code",
      "source": [
        "X_reg[\"log(Immigrants)\"] = np.log(X_reg[\"Immigrants\"])\n",
        "X_reg[\"log(Immigrants)\"].plot.hist(xlabel=\"Log Number of Immigrants\", title=\"Log Immigrants Distribution\", bins=25)"
      ],
      "metadata": {
        "colab": {
          "base_uri": "https://localhost:8080/",
          "height": 573
        },
        "id": "7s5UvXWbpIuw",
        "outputId": "6784d0b0-9c60-495e-8995-b59df9d23f8d"
      },
      "execution_count": 86,
      "outputs": [
        {
          "output_type": "stream",
          "name": "stderr",
          "text": [
            "<ipython-input-86-18e663455fd8>:1: SettingWithCopyWarning: \n",
            "A value is trying to be set on a copy of a slice from a DataFrame.\n",
            "Try using .loc[row_indexer,col_indexer] = value instead\n",
            "\n",
            "See the caveats in the documentation: https://pandas.pydata.org/pandas-docs/stable/user_guide/indexing.html#returning-a-view-versus-a-copy\n",
            "  X_reg[\"log(Immigrants)\"] = np.log(X_reg[\"Immigrants\"])\n"
          ]
        },
        {
          "output_type": "execute_result",
          "data": {
            "text/plain": [
              "<Axes: title={'center': 'Log Immigrants Distribution'}, ylabel='Frequency'>"
            ]
          },
          "metadata": {},
          "execution_count": 86
        },
        {
          "output_type": "display_data",
          "data": {
            "text/plain": [
              "<Figure size 640x480 with 1 Axes>"
            ],
            "image/png": "[encoded data removed]"
          },
          "metadata": {}
        }
      ]
    },
    {
      "cell_type": "code",
      "source": [
        "X_reg[\"log(Population)\"] = np.log(X_reg[\"Population\"])\n",
        "X_cap[\"log(Population)\"] = np.log(X_cap[\"Population\"])\n",
        "\n",
        "X_reg[\"log(Population)\"].plot.hist(xlabel=\"Log Population\", title=\"Log Population Distribution\", bins=25)"
      ],
      "metadata": {
        "colab": {
          "base_uri": "https://localhost:8080/",
          "height": 573
        },
        "id": "BFb77RnOpxKe",
        "outputId": "041af1ea-4e07-4caa-c430-44091b8a73f8"
      },
      "execution_count": 107,
      "outputs": [
        {
          "output_type": "stream",
          "name": "stderr",
          "text": [
            "<ipython-input-107-bcce014eb10e>:2: SettingWithCopyWarning: \n",
            "A value is trying to be set on a copy of a slice from a DataFrame.\n",
            "Try using .loc[row_indexer,col_indexer] = value instead\n",
            "\n",
            "See the caveats in the documentation: https://pandas.pydata.org/pandas-docs/stable/user_guide/indexing.html#returning-a-view-versus-a-copy\n",
            "  X_cap[\"log(Population)\"] = np.log(X_cap[\"Population\"])\n"
          ]
        },
        {
          "output_type": "execute_result",
          "data": {
            "text/plain": [
              "<Axes: title={'center': 'Log Population Distribution'}, ylabel='Frequency'>"
            ]
          },
          "metadata": {},
          "execution_count": 107
        },
        {
          "output_type": "display_data",
          "data": {
            "text/plain": [
              "<Figure size 640x480 with 1 Axes>"
            ],
            "image/png": "[encoded data removed]"
          },
          "metadata": {}
        }
      ]
    },
    {
      "cell_type": "code",
      "source": [
        "X_reg[\"log(Emigrants)\"] = np.log(X_reg[\"emigration\"])\n",
        "X_reg[\"log(Emigrants)\"].plot.hist(xlabel=\"Log Number of Emigrants\", title=\"Log Emigrants Distribution\", bins=25)"
      ],
      "metadata": {
        "colab": {
          "base_uri": "https://localhost:8080/",
          "height": 573
        },
        "id": "eHShDrHAqIVI",
        "outputId": "73999e99-1842-4c7d-af7a-43502033eecb"
      },
      "execution_count": 88,
      "outputs": [
        {
          "output_type": "stream",
          "name": "stderr",
          "text": [
            "<ipython-input-88-175ad1c3279c>:1: SettingWithCopyWarning: \n",
            "A value is trying to be set on a copy of a slice from a DataFrame.\n",
            "Try using .loc[row_indexer,col_indexer] = value instead\n",
            "\n",
            "See the caveats in the documentation: https://pandas.pydata.org/pandas-docs/stable/user_guide/indexing.html#returning-a-view-versus-a-copy\n",
            "  X_reg[\"log(Emigrants)\"] = np.log(X_reg[\"emigration\"])\n"
          ]
        },
        {
          "output_type": "execute_result",
          "data": {
            "text/plain": [
              "<Axes: title={'center': 'Log Emigrants Distribution'}, ylabel='Frequency'>"
            ]
          },
          "metadata": {},
          "execution_count": 88
        },
        {
          "output_type": "display_data",
          "data": {
            "text/plain": [
              "<Figure size 640x480 with 1 Axes>"
            ],
            "image/png": "[encoded data removed]"
          },
          "metadata": {}
        }
      ]
    },
    {
      "cell_type": "code",
      "source": [
        "X_reg[\"log(Unemployment)\"] = np.log(X_reg[\"unemployment\"])\n",
        "X_reg[\"log(Unemployment)\"].plot.hist(xlabel=\"Log Unemployment Rate\", title=\"Log Unemployment Rate Distribution\", bins=25)"
      ],
      "metadata": {
        "colab": {
          "base_uri": "https://localhost:8080/",
          "height": 573
        },
        "id": "r39uf8lpqaeI",
        "outputId": "f133e3b5-3ff8-44ef-b037-c28096e20e92"
      },
      "execution_count": 90,
      "outputs": [
        {
          "output_type": "stream",
          "name": "stderr",
          "text": [
            "<ipython-input-90-fa317088e658>:1: SettingWithCopyWarning: \n",
            "A value is trying to be set on a copy of a slice from a DataFrame.\n",
            "Try using .loc[row_indexer,col_indexer] = value instead\n",
            "\n",
            "See the caveats in the documentation: https://pandas.pydata.org/pandas-docs/stable/user_guide/indexing.html#returning-a-view-versus-a-copy\n",
            "  X_reg[\"log(Unemployment)\"] = np.log(X_reg[\"unemployment\"])\n"
          ]
        },
        {
          "output_type": "execute_result",
          "data": {
            "text/plain": [
              "<Axes: title={'center': 'Log Unemployment Rate Distribution'}, ylabel='Frequency'>"
            ]
          },
          "metadata": {},
          "execution_count": 90
        },
        {
          "output_type": "display_data",
          "data": {
            "text/plain": [
              "<Figure size 640x480 with 1 Axes>"
            ],
            "image/png": "[encoded data removed]"
          },
          "metadata": {}
        }
      ]
    },
    {
      "cell_type": "code",
      "source": [
        "X_reg[\"log(Deaths)\"] = np.log(X_reg[\"total_deaths\"])\n",
        "X_reg[\"log(Deaths)\"].plot.hist(xlabel=\"Log Deaths\", title=\"Log Number of Deaths Distribution\", bins=25)"
      ],
      "metadata": {
        "colab": {
          "base_uri": "https://localhost:8080/",
          "height": 573
        },
        "id": "IS-UKFroqxDL",
        "outputId": "1701f9a8-5dd0-452f-c8bd-e2abf1cd5ec9"
      },
      "execution_count": 91,
      "outputs": [
        {
          "output_type": "stream",
          "name": "stderr",
          "text": [
            "<ipython-input-91-95e86eccef03>:1: SettingWithCopyWarning: \n",
            "A value is trying to be set on a copy of a slice from a DataFrame.\n",
            "Try using .loc[row_indexer,col_indexer] = value instead\n",
            "\n",
            "See the caveats in the documentation: https://pandas.pydata.org/pandas-docs/stable/user_guide/indexing.html#returning-a-view-versus-a-copy\n",
            "  X_reg[\"log(Deaths)\"] = np.log(X_reg[\"total_deaths\"])\n"
          ]
        },
        {
          "output_type": "execute_result",
          "data": {
            "text/plain": [
              "<Axes: title={'center': 'Log Number of Deaths Distribution'}, ylabel='Frequency'>"
            ]
          },
          "metadata": {},
          "execution_count": 91
        },
        {
          "output_type": "display_data",
          "data": {
            "text/plain": [
              "<Figure size 640x480 with 1 Axes>"
            ],
            "image/png": "[encoded data removed]"
          },
          "metadata": {}
        }
      ]
    },
    {
      "cell_type": "code",
      "source": [
        "X_reg[\"log(Exports)\"] = np.log(X_reg[\"Exports\"])\n",
        "X_reg[\"log(Exports)\"].plot.hist(xlabel=\"Log Exports\", title=\"Log Exports Distribution\", bins=25)"
      ],
      "metadata": {
        "colab": {
          "base_uri": "https://localhost:8080/",
          "height": 573
        },
        "id": "52hMHiSwq5D8",
        "outputId": "4f0f54bf-ac7d-47f7-b6e3-5d537a894929"
      },
      "execution_count": 92,
      "outputs": [
        {
          "output_type": "stream",
          "name": "stderr",
          "text": [
            "<ipython-input-92-884f1a1d6827>:1: SettingWithCopyWarning: \n",
            "A value is trying to be set on a copy of a slice from a DataFrame.\n",
            "Try using .loc[row_indexer,col_indexer] = value instead\n",
            "\n",
            "See the caveats in the documentation: https://pandas.pydata.org/pandas-docs/stable/user_guide/indexing.html#returning-a-view-versus-a-copy\n",
            "  X_reg[\"log(Exports)\"] = np.log(X_reg[\"Exports\"])\n"
          ]
        },
        {
          "output_type": "execute_result",
          "data": {
            "text/plain": [
              "<Axes: title={'center': 'Log Exports Distribution'}, ylabel='Frequency'>"
            ]
          },
          "metadata": {},
          "execution_count": 92
        },
        {
          "output_type": "display_data",
          "data": {
            "text/plain": [
              "<Figure size 640x480 with 1 Axes>"
            ],
            "image/png": "[encoded data removed]"
          },
          "metadata": {}
        }
      ]
    },
    {
      "cell_type": "code",
      "source": [
        "X_reg[\"log(Imports)\"] = np.log(X_reg[\"Imports\"])\n",
        "X_reg[\"log(Imports)\"].plot.hist(xlabel=\"Log Imports\", title=\"Log Imports Distribution\", bins=25)"
      ],
      "metadata": {
        "colab": {
          "base_uri": "https://localhost:8080/",
          "height": 469
        },
        "id": "hEQn8Yd0rB6F",
        "outputId": "a93b28b5-96bb-4641-f302-cb8c873e5b54"
      },
      "execution_count": 93,
      "outputs": [
        {
          "output_type": "execute_result",
          "data": {
            "text/plain": [
              "<Axes: title={'center': 'Log Imports Distribution'}, ylabel='Frequency'>"
            ]
          },
          "metadata": {},
          "execution_count": 93
        },
        {
          "output_type": "display_data",
          "data": {
            "text/plain": [
              "<Figure size 640x480 with 1 Axes>"
            ],
            "image/png": "[encoded data removed]"
          },
          "metadata": {}
        }
      ]
    },
    {
      "cell_type": "code",
      "source": [
        "# also log transform GDP\n",
        "log_gdp = np.log(gdp)\n",
        "log_gdp.plot.hist(xlabel=\"Log GDP\", title=\"Log GDP Distribution\", bins=25)"
      ],
      "metadata": {
        "colab": {
          "base_uri": "https://localhost:8080/",
          "height": 469
        },
        "id": "5OKyBV5TqGnL",
        "outputId": "adf50eb1-9951-4574-f2a6-16021374b427"
      },
      "execution_count": 97,
      "outputs": [
        {
          "output_type": "execute_result",
          "data": {
            "text/plain": [
              "<Axes: title={'center': 'Log GDP Distribution'}, ylabel='Frequency'>"
            ]
          },
          "metadata": {},
          "execution_count": 97
        },
        {
          "output_type": "display_data",
          "data": {
            "text/plain": [
              "<Figure size 640x480 with 1 Axes>"
            ],
            "image/png": "[encoded data removed]"
          },
          "metadata": {}
        }
      ]
    },
    {
      "cell_type": "markdown",
      "source": [
        "## Feature Selection"
      ],
      "metadata": {
        "id": "PI0AOxnwrc-7"
      }
    },
    {
      "cell_type": "code",
      "source": [
        "from itertools import chain, combinations\n",
        "\n",
        "def powerset(iterable):\n",
        "    features = list(iterable)\n",
        "    return chain.from_iterable(combinations(features, r) for r in range(len(features)+1))\n",
        "\n",
        "reg_features = [\"geo\", \"Year\", \"CPI\", \"log(Immigrants)\", \"log(Population)\", \"Housing Index\", \"log(Emigrants)\", \"log(Unemployment)\", \"log(Deaths)\", \"log(Exports)\", \"log(Imports)\"]\n",
        "\n",
        "# Creating a power set of all possible regular features to test for the best model\n",
        "reg_power_set = []\n",
        "for subset in powerset(reg_features):\n",
        "    reg_power_set.append(list(subset))\n",
        "\n",
        "# First value is empty, so remove\n",
        "reg_power_set = reg_power_set[1:]\n",
        "len(reg_power_set)\n",
        "# That's a lot of combinations"
      ],
      "metadata": {
        "colab": {
          "base_uri": "https://localhost:8080/"
        },
        "outputId": "6a1871f0-6a0a-4d17-f12c-94fce4438779",
        "id": "0hzp5Zm8rvgL"
      },
      "execution_count": 101,
      "outputs": [
        {
          "output_type": "execute_result",
          "data": {
            "text/plain": [
              "2047"
            ]
          },
          "metadata": {},
          "execution_count": 101
        }
      ]
    },
    {
      "cell_type": "code",
      "source": [
        "# Takes ~5 min to run\n",
        "\n",
        "from sklearn.preprocessing import StandardScaler, OneHotEncoder\n",
        "from sklearn.linear_model import LinearRegression\n",
        "from sklearn.pipeline import make_pipeline\n",
        "from sklearn.compose import make_column_transformer\n",
        "from sklearn.model_selection import cross_val_score\n",
        "\n",
        "# define function to calculate estimate of test error for a given feature set\n",
        "def get_cv_error(features):\n",
        "\n",
        "  quant_vars = []\n",
        "  cat_vars = []\n",
        "  for feature in features:\n",
        "    if X_reg.dtypes[feature] == \"int64\" or  X_reg.dtypes[feature] == \"float64\":\n",
        "      quant_vars.append(feature)\n",
        "    else:\n",
        "      cat_vars.append(feature)\n",
        "\n",
        "  ct = make_column_transformer(\n",
        "      (StandardScaler(), quant_vars),\n",
        "      (OneHotEncoder(handle_unknown=\"ignore\"), cat_vars),\n",
        "      remainder=\"drop\"\n",
        "  )\n",
        "\n",
        "  pipeline = make_pipeline(\n",
        "      ct,\n",
        "      LinearRegression()\n",
        "  )\n",
        "  # errors from cross-validation\n",
        "  cv_errs = -cross_val_score(pipeline, X=X_reg[features],\n",
        "                             y=log_gdp,\n",
        "                             scoring=\"neg_mean_squared_error\", cv=10)\n",
        "  # calculate average of the cross-validation errors\n",
        "  return cv_errs.mean()\n",
        "\n",
        "# calculate and store errors for different feature sets\n",
        "errs = pd.Series()\n",
        "for features in reg_power_set:\n",
        "  errs[str(features)] = get_cv_error(features)\n",
        "\n",
        "errs"
      ],
      "metadata": {
        "colab": {
          "base_uri": "https://localhost:8080/"
        },
        "outputId": "f115b2e7-5e43-44c9-8db7-75f8c57c61f0",
        "id": "XzJuLz3_rvgT"
      },
      "execution_count": 102,
      "outputs": [
        {
          "output_type": "stream",
          "name": "stderr",
          "text": [
            "<ipython-input-102-7e9d91271b2d>:38: FutureWarning: The default dtype for empty Series will be 'object' instead of 'float64' in a future version. Specify a dtype explicitly to silence this warning.\n",
            "  errs = pd.Series()\n"
          ]
        },
        {
          "output_type": "execute_result",
          "data": {
            "text/plain": [
              "['geo']                                                                                                                                                                1.338080\n",
              "['Year']                                                                                                                                                               2.444883\n",
              "['CPI']                                                                                                                                                                2.440426\n",
              "['log(Immigrants)']                                                                                                                                                    0.517105\n",
              "['log(Population)']                                                                                                                                                    0.439551\n",
              "                                                                                                                                                                         ...   \n",
              "['geo', 'Year', 'CPI', 'log(Population)', 'Housing Index', 'log(Emigrants)', 'log(Unemployment)', 'log(Deaths)', 'log(Exports)', 'log(Imports)']                       0.248068\n",
              "['geo', 'Year', 'log(Immigrants)', 'log(Population)', 'Housing Index', 'log(Emigrants)', 'log(Unemployment)', 'log(Deaths)', 'log(Exports)', 'log(Imports)']           0.250493\n",
              "['geo', 'CPI', 'log(Immigrants)', 'log(Population)', 'Housing Index', 'log(Emigrants)', 'log(Unemployment)', 'log(Deaths)', 'log(Exports)', 'log(Imports)']            0.600841\n",
              "['Year', 'CPI', 'log(Immigrants)', 'log(Population)', 'Housing Index', 'log(Emigrants)', 'log(Unemployment)', 'log(Deaths)', 'log(Exports)', 'log(Imports)']           0.115330\n",
              "['geo', 'Year', 'CPI', 'log(Immigrants)', 'log(Population)', 'Housing Index', 'log(Emigrants)', 'log(Unemployment)', 'log(Deaths)', 'log(Exports)', 'log(Imports)']    0.279569\n",
              "Length: 2047, dtype: float64"
            ]
          },
          "metadata": {},
          "execution_count": 102
        }
      ]
    },
    {
      "cell_type": "code",
      "source": [
        "errs.sort_values()"
      ],
      "metadata": {
        "colab": {
          "base_uri": "https://localhost:8080/"
        },
        "id": "e1ah8dGAv0xh",
        "outputId": "21b88217-5c70-42ce-d532-ff6307756e92"
      },
      "execution_count": 103,
      "outputs": [
        {
          "output_type": "execute_result",
          "data": {
            "text/plain": [
              "['Year', 'CPI', 'log(Immigrants)', 'log(Population)', 'log(Unemployment)', 'log(Deaths)', 'log(Exports)']    0.102480\n",
              "['Year', 'log(Immigrants)', 'log(Population)', 'log(Unemployment)', 'log(Deaths)', 'log(Exports)']           0.102568\n",
              "['log(Immigrants)', 'log(Population)', 'log(Deaths)', 'log(Imports)']                                        0.102854\n",
              "['Year', 'CPI', 'log(Immigrants)', 'log(Population)', 'log(Unemployment)', 'log(Deaths)', 'log(Imports)']    0.103289\n",
              "['Year', 'CPI', 'log(Immigrants)', 'log(Population)', 'log(Deaths)', 'log(Imports)']                         0.103661\n",
              "                                                                                                               ...   \n",
              "['geo', 'log(Immigrants)', 'log(Population)', 'log(Emigrants)', 'log(Exports)']                              3.273926\n",
              "['geo', 'log(Population)', 'log(Emigrants)', 'log(Deaths)', 'log(Exports)']                                  3.320444\n",
              "['geo', 'log(Population)', 'log(Emigrants)', 'log(Exports)']                                                 3.377197\n",
              "['geo', 'log(Population)', 'log(Exports)']                                                                   3.417014\n",
              "['geo', 'log(Population)', 'log(Deaths)', 'log(Exports)']                                                    3.426497\n",
              "Length: 2047, dtype: float64"
            ]
          },
          "metadata": {},
          "execution_count": 103
        }
      ]
    },
    {
      "cell_type": "markdown",
      "source": [
        "## Testing Out the Model\n",
        "Features = ['Year', 'CPI', 'log(Immigrants)', 'log(Population)', 'log(Unemployment)', 'log(Deaths)', 'log(Exports)']"
      ],
      "metadata": {
        "id": "tfLQh6kLzT4G"
      }
    },
    {
      "cell_type": "code",
      "source": [
        "from sklearn.model_selection import train_test_split\n",
        "\n",
        "X_lin1 = X_reg[['Year', 'CPI', 'log(Immigrants)', 'log(Population)', 'log(Unemployment)', 'log(Deaths)', 'log(Exports)']]\n",
        "# y = gdp\n",
        "\n",
        "# split into test and training\n",
        "X_lin1_train, X_lin1_test, y_lin1_train, y_lin1_test = train_test_split(X_lin1, log_gdp, test_size=0.25, random_state=0)"
      ],
      "metadata": {
        "id": "tI2I7VN_zT4P"
      },
      "execution_count": 241,
      "outputs": []
    },
    {
      "cell_type": "code",
      "source": [
        "from sklearn.preprocessing import StandardScaler, OneHotEncoder\n",
        "from sklearn.linear_model import LinearRegression\n",
        "from sklearn.pipeline import make_pipeline\n",
        "from sklearn.compose import make_column_transformer\n",
        "from sklearn.model_selection import cross_val_score\n",
        "\n",
        "# ct = make_column_transformer(\n",
        "#     (StandardScaler(), ['Year', 'Population', 'Imports']),\n",
        "#     (OneHotEncoder(handle_unknown=\"ignore\"), ['geo']),\n",
        "#     remainder=\"drop\"\n",
        "# )\n",
        "\n",
        "pipeline = make_pipeline(\n",
        "    StandardScaler(),\n",
        "    LinearRegression()\n",
        ")"
      ],
      "metadata": {
        "id": "6oIDwbtyzT4P"
      },
      "execution_count": 242,
      "outputs": []
    },
    {
      "cell_type": "code",
      "source": [
        "pipeline.fit(X_lin1_train, y_lin1_train)"
      ],
      "metadata": {
        "colab": {
          "base_uri": "https://localhost:8080/",
          "height": 125
        },
        "outputId": "91e12104-9914-4b86-9305-f3c132b6a461",
        "id": "tS_hWkd5zT4P"
      },
      "execution_count": 243,
      "outputs": [
        {
          "output_type": "execute_result",
          "data": {
            "text/plain": [
              "Pipeline(steps=[('standardscaler', StandardScaler()),\n",
              "                ('linearregression', LinearRegression())])"
            ],
            "text/html": [
              "<style>#sk-container-id-13 {color: black;background-color: white;}#sk-container-id-13 pre{padding: 0;}#sk-container-id-13 div.sk-toggleable {background-color: white;}#sk-container-id-13 label.sk-toggleable__label {cursor: pointer;display: block;width: 100%;margin-bottom: 0;padding: 0.3em;box-sizing: border-box;text-align: center;}#sk-container-id-13 label.sk-toggleable__label-arrow:before {content: \"▸\";float: left;margin-right: 0.25em;color: #696969;}#sk-container-id-13 label.sk-toggleable__label-arrow:hover:before {color: black;}#sk-container-id-13 div.sk-estimator:hover label.sk-toggleable__label-arrow:before {color: black;}#sk-container-id-13 div.sk-toggleable__content {max-height: 0;max-width: 0;overflow: hidden;text-align: left;background-color: #f0f8ff;}#sk-container-id-13 div.sk-toggleable__content pre {margin: 0.2em;color: black;border-radius: 0.25em;background-color: #f0f8ff;}#sk-container-id-13 input.sk-toggleable__control:checked~div.sk-toggleable__content {max-height: 200px;max-width: 100%;overflow: auto;}#sk-container-id-13 input.sk-toggleable__control:checked~label.sk-toggleable__label-arrow:before {content: \"▾\";}#sk-container-id-13 div.sk-estimator input.sk-toggleable__control:checked~label.sk-toggleable__label {background-color: #d4ebff;}#sk-container-id-13 div.sk-label input.sk-toggleable__control:checked~label.sk-toggleable__label {background-color: #d4ebff;}#sk-container-id-13 input.sk-hidden--visually {border: 0;clip: rect(1px 1px 1px 1px);clip: rect(1px, 1px, 1px, 1px);height: 1px;margin: -1px;overflow: hidden;padding: 0;position: absolute;width: 1px;}#sk-container-id-13 div.sk-estimator {font-family: monospace;background-color: #f0f8ff;border: 1px dotted black;border-radius: 0.25em;box-sizing: border-box;margin-bottom: 0.5em;}#sk-container-id-13 div.sk-estimator:hover {background-color: #d4ebff;}#sk-container-id-13 div.sk-parallel-item::after {content: \"\";width: 100%;border-bottom: 1px solid gray;flex-grow: 1;}#sk-container-id-13 div.sk-label:hover label.sk-toggleable__label {background-color: #d4ebff;}#sk-container-id-13 div.sk-serial::before {content: \"\";position: absolute;border-left: 1px solid gray;box-sizing: border-box;top: 0;bottom: 0;left: 50%;z-index: 0;}#sk-container-id-13 div.sk-serial {display: flex;flex-direction: column;align-items: center;background-color: white;padding-right: 0.2em;padding-left: 0.2em;position: relative;}#sk-container-id-13 div.sk-item {position: relative;z-index: 1;}#sk-container-id-13 div.sk-parallel {display: flex;align-items: stretch;justify-content: center;background-color: white;position: relative;}#sk-container-id-13 div.sk-item::before, #sk-container-id-13 div.sk-parallel-item::before {content: \"\";position: absolute;border-left: 1px solid gray;box-sizing: border-box;top: 0;bottom: 0;left: 50%;z-index: -1;}#sk-container-id-13 div.sk-parallel-item {display: flex;flex-direction: column;z-index: 1;position: relative;background-color: white;}#sk-container-id-13 div.sk-parallel-item:first-child::after {align-self: flex-end;width: 50%;}#sk-container-id-13 div.sk-parallel-item:last-child::after {align-self: flex-start;width: 50%;}#sk-container-id-13 div.sk-parallel-item:only-child::after {width: 0;}#sk-container-id-13 div.sk-dashed-wrapped {border: 1px dashed gray;margin: 0 0.4em 0.5em 0.4em;box-sizing: border-box;padding-bottom: 0.4em;background-color: white;}#sk-container-id-13 div.sk-label label {font-family: monospace;font-weight: bold;display: inline-block;line-height: 1.2em;}#sk-container-id-13 div.sk-label-container {text-align: center;}#sk-container-id-13 div.sk-container {/* jupyter's `normalize.less` sets `[hidden] { display: none; }` but bootstrap.min.css set `[hidden] { display: none !important; }` so we also need the `!important` here to be able to override the default hidden behavior on the sphinx rendered scikit-learn.org. See: https://github.com/scikit-learn/scikit-learn/issues/21755 */display: inline-block !important;position: relative;}#sk-container-id-13 div.sk-text-repr-fallback {display: none;}</style><div id=\"sk-container-id-13\" class=\"sk-top-container\"><div class=\"sk-text-repr-fallback\"><pre>Pipeline(steps=[(&#x27;standardscaler&#x27;, StandardScaler()),\n",
              "                (&#x27;linearregression&#x27;, LinearRegression())])</pre><b>In a Jupyter environment, please rerun this cell to show the HTML representation or trust the notebook. <br />On GitHub, the HTML representation is unable to render, please try loading this page with nbviewer.org.</b></div><div class=\"sk-container\" hidden><div class=\"sk-item sk-dashed-wrapped\"><div class=\"sk-label-container\"><div class=\"sk-label sk-toggleable\"><input class=\"sk-toggleable__control sk-hidden--visually\" id=\"sk-estimator-id-69\" type=\"checkbox\" ><label for=\"sk-estimator-id-69\" class=\"sk-toggleable__label sk-toggleable__label-arrow\">Pipeline</label><div class=\"sk-toggleable__content\"><pre>Pipeline(steps=[(&#x27;standardscaler&#x27;, StandardScaler()),\n",
              "                (&#x27;linearregression&#x27;, LinearRegression())])</pre></div></div></div><div class=\"sk-serial\"><div class=\"sk-item\"><div class=\"sk-estimator sk-toggleable\"><input class=\"sk-toggleable__control sk-hidden--visually\" id=\"sk-estimator-id-70\" type=\"checkbox\" ><label for=\"sk-estimator-id-70\" class=\"sk-toggleable__label sk-toggleable__label-arrow\">StandardScaler</label><div class=\"sk-toggleable__content\"><pre>StandardScaler()</pre></div></div></div><div class=\"sk-item\"><div class=\"sk-estimator sk-toggleable\"><input class=\"sk-toggleable__control sk-hidden--visually\" id=\"sk-estimator-id-71\" type=\"checkbox\" ><label for=\"sk-estimator-id-71\" class=\"sk-toggleable__label sk-toggleable__label-arrow\">LinearRegression</label><div class=\"sk-toggleable__content\"><pre>LinearRegression()</pre></div></div></div></div></div></div></div>"
            ]
          },
          "metadata": {},
          "execution_count": 243
        }
      ]
    },
    {
      "cell_type": "code",
      "source": [
        "# cross validation scoring"
      ],
      "metadata": {
        "id": "TcRIRDPrzT4P"
      },
      "execution_count": null,
      "outputs": []
    },
    {
      "cell_type": "code",
      "source": [
        "scores = -cross_val_score(pipeline,\n",
        "                         X_lin1_train,\n",
        "                         y_lin1_train,\n",
        "                         scoring=\"neg_root_mean_squared_error\",\n",
        "                         cv=10)\n",
        "scores.mean()"
      ],
      "metadata": {
        "colab": {
          "base_uri": "https://localhost:8080/"
        },
        "outputId": "4061141a-82de-43fe-d2ac-99d4c8bc9626",
        "id": "CMEC5k-XzT4Q"
      },
      "execution_count": 244,
      "outputs": [
        {
          "output_type": "execute_result",
          "data": {
            "text/plain": [
              "0.2752669104287434"
            ]
          },
          "metadata": {},
          "execution_count": 244
        }
      ]
    },
    {
      "cell_type": "code",
      "source": [
        "# test scoring"
      ],
      "metadata": {
        "id": "OfY04ZSpzT4Q"
      },
      "execution_count": null,
      "outputs": []
    },
    {
      "cell_type": "code",
      "source": [
        "print(\"Train Score : \", pipeline.score(X_lin1_train, y_lin1_train),\" Test Score : \", pipeline.score(X_lin1_test, y_lin1_test))"
      ],
      "metadata": {
        "colab": {
          "base_uri": "https://localhost:8080/"
        },
        "outputId": "1639ae2c-51cf-42bc-d71f-faa0b0fe2fc3",
        "id": "o4mqJ7TnzT4Q"
      },
      "execution_count": 245,
      "outputs": [
        {
          "output_type": "stream",
          "name": "stdout",
          "text": [
            "Train Score :  0.966234579395702  Test Score :  0.971134488846023\n"
          ]
        }
      ]
    },
    {
      "cell_type": "code",
      "source": [
        "y_lin1_pred = pipeline.predict(X_lin1_test)"
      ],
      "metadata": {
        "id": "fAK_oLSkzT4Q"
      },
      "execution_count": 246,
      "outputs": []
    },
    {
      "cell_type": "markdown",
      "source": [
        "RMSE"
      ],
      "metadata": {
        "id": "CJTyGMjczT4Q"
      }
    },
    {
      "cell_type": "code",
      "source": [
        "from sklearn.metrics import mean_squared_error\n",
        "\n",
        "rmse = np.sqrt(mean_squared_error(y_lin1_test, y_lin1_pred))\n",
        "rmse"
      ],
      "metadata": {
        "colab": {
          "base_uri": "https://localhost:8080/"
        },
        "outputId": "81646e6f-a15f-4ae2-c475-ca23c97e3139",
        "id": "MOk4Gpq8zT4Q"
      },
      "execution_count": 247,
      "outputs": [
        {
          "output_type": "execute_result",
          "data": {
            "text/plain": [
              "0.2739277626249072"
            ]
          },
          "metadata": {},
          "execution_count": 247
        }
      ]
    },
    {
      "cell_type": "markdown",
      "source": [
        "Benchmark"
      ],
      "metadata": {
        "id": "BmgI8XUkzT4R"
      }
    },
    {
      "cell_type": "code",
      "source": [
        "from sklearn.dummy import DummyRegressor\n",
        "\n",
        "mean_model = DummyRegressor(strategy=\"mean\")\n",
        "\n",
        "-cross_val_score(mean_model, X=X_lin1_train, y=y_lin1_train, cv=10,\n",
        "                           scoring=\"neg_root_mean_squared_error\").mean()"
      ],
      "metadata": {
        "colab": {
          "base_uri": "https://localhost:8080/"
        },
        "outputId": "6fb6f44a-4712-4cc6-a59f-f809b4a24acb",
        "id": "ef51szOYzT4R"
      },
      "execution_count": 248,
      "outputs": [
        {
          "output_type": "execute_result",
          "data": {
            "text/plain": [
              "1.4660836855778345"
            ]
          },
          "metadata": {},
          "execution_count": 248
        }
      ]
    },
    {
      "cell_type": "code",
      "source": [
        "y_lin1_test.std()"
      ],
      "metadata": {
        "colab": {
          "base_uri": "https://localhost:8080/"
        },
        "outputId": "63049656-4c86-4235-9e2c-22658586a93b",
        "id": "31BCV3CyzT4R"
      },
      "execution_count": 249,
      "outputs": [
        {
          "output_type": "execute_result",
          "data": {
            "text/plain": [
              "1.6236166560977188"
            ]
          },
          "metadata": {},
          "execution_count": 249
        }
      ]
    },
    {
      "cell_type": "markdown",
      "source": [
        "Based on these benchmarks, I'd say our model did a much better job!"
      ],
      "metadata": {
        "id": "2-WqaEjhzT4R"
      }
    },
    {
      "cell_type": "markdown",
      "source": [
        "R^2"
      ],
      "metadata": {
        "id": "5i1nOazTzT4R"
      }
    },
    {
      "cell_type": "code",
      "source": [
        "r_squared = 1 - (((y_lin1_test - y_lin1_pred)**2).mean()) / ((y_lin1_test - y_lin1_pred.mean())**2).mean()\n",
        "r_squared"
      ],
      "metadata": {
        "colab": {
          "base_uri": "https://localhost:8080/"
        },
        "outputId": "f23d311a-757f-4df1-eee1-07d6b6bc5df4",
        "id": "LFO3rx92zT4R"
      },
      "execution_count": 125,
      "outputs": [
        {
          "output_type": "execute_result",
          "data": {
            "text/plain": [
              "0.9711439844190322"
            ]
          },
          "metadata": {},
          "execution_count": 125
        }
      ]
    },
    {
      "cell_type": "markdown",
      "source": [
        "That's a really good R^2 value.\n",
        "97.1% of the variability in GDP is explained by this model."
      ],
      "metadata": {
        "id": "DcHURu-TzT4R"
      }
    },
    {
      "cell_type": "markdown",
      "source": [
        "# Linear Regression General - Predicting for 2021\n",
        "Removing 2021 from the dataset and seeing how the model performs for an unknown year"
      ],
      "metadata": {
        "id": "yOi227y42WMl"
      }
    },
    {
      "cell_type": "code",
      "source": [
        "# train\n",
        "X_lin1 = X_reg[['Year', 'CPI', 'log(Immigrants)', 'log(Population)', 'log(Unemployment)', 'log(Deaths)', 'log(Exports)']]\n",
        "\n",
        "# concatenate X and y\n",
        "df_combined = pd.concat([X_lin1, pd.DataFrame(log_gdp)], axis=1)\n",
        "\n",
        "no_2021 = df_combined[df_combined[\"Year\"] != 2021]\n",
        "X_lin1_no_2021 = no_2021.drop(columns=[\"GDP\"])\n",
        "log_gdp_no_2021 = no_2021[\"GDP\"]\n",
        "\n",
        "yes_2021 = df_combined[df_combined[\"Year\"] == 2021]\n",
        "X_lin1_yes_2021 = yes_2021.drop(columns=[\"GDP\"])\n",
        "log_gdp_yes_2021 = yes_2021[\"GDP\"]"
      ],
      "metadata": {
        "id": "NoEOtZA52WMu"
      },
      "execution_count": 250,
      "outputs": []
    },
    {
      "cell_type": "code",
      "source": [
        "from sklearn.preprocessing import StandardScaler, OneHotEncoder\n",
        "from sklearn.linear_model import LinearRegression\n",
        "from sklearn.pipeline import make_pipeline\n",
        "from sklearn.compose import make_column_transformer\n",
        "from sklearn.model_selection import cross_val_score\n",
        "\n",
        "# ct = make_column_transformer(\n",
        "#     (StandardScaler(), ['Year', 'Population', 'Imports']),\n",
        "#     (OneHotEncoder(handle_unknown=\"ignore\"), ['geo']),\n",
        "#     remainder=\"drop\"\n",
        "# )\n",
        "\n",
        "pipeline = make_pipeline(\n",
        "    StandardScaler(),\n",
        "    LinearRegression()\n",
        ")"
      ],
      "metadata": {
        "id": "q095Ci4r2WMv"
      },
      "execution_count": 251,
      "outputs": []
    },
    {
      "cell_type": "code",
      "source": [
        "pipeline.fit(X_lin1_no_2021, log_gdp_no_2021)"
      ],
      "metadata": {
        "colab": {
          "base_uri": "https://localhost:8080/",
          "height": 125
        },
        "outputId": "690fffc3-6ffc-4338-cd08-1ae7381dcf05",
        "id": "0aS4PfhY2WMv"
      },
      "execution_count": 252,
      "outputs": [
        {
          "output_type": "execute_result",
          "data": {
            "text/plain": [
              "Pipeline(steps=[('standardscaler', StandardScaler()),\n",
              "                ('linearregression', LinearRegression())])"
            ],
            "text/html": [
              "<style>#sk-container-id-14 {color: black;background-color: white;}#sk-container-id-14 pre{padding: 0;}#sk-container-id-14 div.sk-toggleable {background-color: white;}#sk-container-id-14 label.sk-toggleable__label {cursor: pointer;display: block;width: 100%;margin-bottom: 0;padding: 0.3em;box-sizing: border-box;text-align: center;}#sk-container-id-14 label.sk-toggleable__label-arrow:before {content: \"▸\";float: left;margin-right: 0.25em;color: #696969;}#sk-container-id-14 label.sk-toggleable__label-arrow:hover:before {color: black;}#sk-container-id-14 div.sk-estimator:hover label.sk-toggleable__label-arrow:before {color: black;}#sk-container-id-14 div.sk-toggleable__content {max-height: 0;max-width: 0;overflow: hidden;text-align: left;background-color: #f0f8ff;}#sk-container-id-14 div.sk-toggleable__content pre {margin: 0.2em;color: black;border-radius: 0.25em;background-color: #f0f8ff;}#sk-container-id-14 input.sk-toggleable__control:checked~div.sk-toggleable__content {max-height: 200px;max-width: 100%;overflow: auto;}#sk-container-id-14 input.sk-toggleable__control:checked~label.sk-toggleable__label-arrow:before {content: \"▾\";}#sk-container-id-14 div.sk-estimator input.sk-toggleable__control:checked~label.sk-toggleable__label {background-color: #d4ebff;}#sk-container-id-14 div.sk-label input.sk-toggleable__control:checked~label.sk-toggleable__label {background-color: #d4ebff;}#sk-container-id-14 input.sk-hidden--visually {border: 0;clip: rect(1px 1px 1px 1px);clip: rect(1px, 1px, 1px, 1px);height: 1px;margin: -1px;overflow: hidden;padding: 0;position: absolute;width: 1px;}#sk-container-id-14 div.sk-estimator {font-family: monospace;background-color: #f0f8ff;border: 1px dotted black;border-radius: 0.25em;box-sizing: border-box;margin-bottom: 0.5em;}#sk-container-id-14 div.sk-estimator:hover {background-color: #d4ebff;}#sk-container-id-14 div.sk-parallel-item::after {content: \"\";width: 100%;border-bottom: 1px solid gray;flex-grow: 1;}#sk-container-id-14 div.sk-label:hover label.sk-toggleable__label {background-color: #d4ebff;}#sk-container-id-14 div.sk-serial::before {content: \"\";position: absolute;border-left: 1px solid gray;box-sizing: border-box;top: 0;bottom: 0;left: 50%;z-index: 0;}#sk-container-id-14 div.sk-serial {display: flex;flex-direction: column;align-items: center;background-color: white;padding-right: 0.2em;padding-left: 0.2em;position: relative;}#sk-container-id-14 div.sk-item {position: relative;z-index: 1;}#sk-container-id-14 div.sk-parallel {display: flex;align-items: stretch;justify-content: center;background-color: white;position: relative;}#sk-container-id-14 div.sk-item::before, #sk-container-id-14 div.sk-parallel-item::before {content: \"\";position: absolute;border-left: 1px solid gray;box-sizing: border-box;top: 0;bottom: 0;left: 50%;z-index: -1;}#sk-container-id-14 div.sk-parallel-item {display: flex;flex-direction: column;z-index: 1;position: relative;background-color: white;}#sk-container-id-14 div.sk-parallel-item:first-child::after {align-self: flex-end;width: 50%;}#sk-container-id-14 div.sk-parallel-item:last-child::after {align-self: flex-start;width: 50%;}#sk-container-id-14 div.sk-parallel-item:only-child::after {width: 0;}#sk-container-id-14 div.sk-dashed-wrapped {border: 1px dashed gray;margin: 0 0.4em 0.5em 0.4em;box-sizing: border-box;padding-bottom: 0.4em;background-color: white;}#sk-container-id-14 div.sk-label label {font-family: monospace;font-weight: bold;display: inline-block;line-height: 1.2em;}#sk-container-id-14 div.sk-label-container {text-align: center;}#sk-container-id-14 div.sk-container {/* jupyter's `normalize.less` sets `[hidden] { display: none; }` but bootstrap.min.css set `[hidden] { display: none !important; }` so we also need the `!important` here to be able to override the default hidden behavior on the sphinx rendered scikit-learn.org. See: https://github.com/scikit-learn/scikit-learn/issues/21755 */display: inline-block !important;position: relative;}#sk-container-id-14 div.sk-text-repr-fallback {display: none;}</style><div id=\"sk-container-id-14\" class=\"sk-top-container\"><div class=\"sk-text-repr-fallback\"><pre>Pipeline(steps=[(&#x27;standardscaler&#x27;, StandardScaler()),\n",
              "                (&#x27;linearregression&#x27;, LinearRegression())])</pre><b>In a Jupyter environment, please rerun this cell to show the HTML representation or trust the notebook. <br />On GitHub, the HTML representation is unable to render, please try loading this page with nbviewer.org.</b></div><div class=\"sk-container\" hidden><div class=\"sk-item sk-dashed-wrapped\"><div class=\"sk-label-container\"><div class=\"sk-label sk-toggleable\"><input class=\"sk-toggleable__control sk-hidden--visually\" id=\"sk-estimator-id-72\" type=\"checkbox\" ><label for=\"sk-estimator-id-72\" class=\"sk-toggleable__label sk-toggleable__label-arrow\">Pipeline</label><div class=\"sk-toggleable__content\"><pre>Pipeline(steps=[(&#x27;standardscaler&#x27;, StandardScaler()),\n",
              "                (&#x27;linearregression&#x27;, LinearRegression())])</pre></div></div></div><div class=\"sk-serial\"><div class=\"sk-item\"><div class=\"sk-estimator sk-toggleable\"><input class=\"sk-toggleable__control sk-hidden--visually\" id=\"sk-estimator-id-73\" type=\"checkbox\" ><label for=\"sk-estimator-id-73\" class=\"sk-toggleable__label sk-toggleable__label-arrow\">StandardScaler</label><div class=\"sk-toggleable__content\"><pre>StandardScaler()</pre></div></div></div><div class=\"sk-item\"><div class=\"sk-estimator sk-toggleable\"><input class=\"sk-toggleable__control sk-hidden--visually\" id=\"sk-estimator-id-74\" type=\"checkbox\" ><label for=\"sk-estimator-id-74\" class=\"sk-toggleable__label sk-toggleable__label-arrow\">LinearRegression</label><div class=\"sk-toggleable__content\"><pre>LinearRegression()</pre></div></div></div></div></div></div></div>"
            ]
          },
          "metadata": {},
          "execution_count": 252
        }
      ]
    },
    {
      "cell_type": "code",
      "source": [
        "# cross validation scoring"
      ],
      "metadata": {
        "id": "qoFeSOTo2WMv"
      },
      "execution_count": null,
      "outputs": []
    },
    {
      "cell_type": "code",
      "source": [
        "scores = -cross_val_score(pipeline,\n",
        "                         X_lin1_no_2021,\n",
        "                         log_gdp_no_2021,\n",
        "                         scoring=\"neg_root_mean_squared_error\",\n",
        "                         cv=10)\n",
        "scores.mean()"
      ],
      "metadata": {
        "colab": {
          "base_uri": "https://localhost:8080/"
        },
        "outputId": "8c24c1ca-5ffe-4f77-8391-48b64d055061",
        "id": "btS2QOuo2WMv"
      },
      "execution_count": 253,
      "outputs": [
        {
          "output_type": "execute_result",
          "data": {
            "text/plain": [
              "0.32017677586391696"
            ]
          },
          "metadata": {},
          "execution_count": 253
        }
      ]
    },
    {
      "cell_type": "code",
      "source": [
        "# test scoring"
      ],
      "metadata": {
        "id": "NqMwIq_W2WMv"
      },
      "execution_count": null,
      "outputs": []
    },
    {
      "cell_type": "code",
      "source": [
        "print(\"Train Score : \", pipeline.score(X_lin1_no_2021, log_gdp_no_2021),\" Test Score : \", pipeline.score(X_lin1_yes_2021, log_gdp_yes_2021))"
      ],
      "metadata": {
        "colab": {
          "base_uri": "https://localhost:8080/"
        },
        "outputId": "c5068901-568a-4c84-b530-6015902f5aca",
        "id": "6lBLhZn32WMw"
      },
      "execution_count": 156,
      "outputs": [
        {
          "output_type": "stream",
          "name": "stdout",
          "text": [
            "Train Score :  0.9676111102787208  Test Score :  0.9669075610328213\n"
          ]
        }
      ]
    },
    {
      "cell_type": "code",
      "source": [
        "y_lin1_2021_pred = pipeline.predict(X_lin1_yes_2021)"
      ],
      "metadata": {
        "id": "S5j3YLyO2WMw"
      },
      "execution_count": 157,
      "outputs": []
    },
    {
      "cell_type": "markdown",
      "source": [
        "RMSE"
      ],
      "metadata": {
        "id": "4kheDAJO2WMw"
      }
    },
    {
      "cell_type": "code",
      "source": [
        "from sklearn.metrics import mean_squared_error\n",
        "\n",
        "rmse = np.sqrt(mean_squared_error(log_gdp_yes_2021, y_lin1_2021_pred))\n",
        "rmse"
      ],
      "metadata": {
        "colab": {
          "base_uri": "https://localhost:8080/"
        },
        "outputId": "ebe8e0cd-0ceb-4f46-a544-5d3f760d2d5a",
        "id": "mt9BrIdt2WMw"
      },
      "execution_count": 254,
      "outputs": [
        {
          "output_type": "execute_result",
          "data": {
            "text/plain": [
              "0.26376247487392557"
            ]
          },
          "metadata": {},
          "execution_count": 254
        }
      ]
    },
    {
      "cell_type": "markdown",
      "source": [
        "Benchmark"
      ],
      "metadata": {
        "id": "cM5BDLx42WMw"
      }
    },
    {
      "cell_type": "code",
      "source": [
        "from sklearn.dummy import DummyRegressor\n",
        "\n",
        "mean_model = DummyRegressor(strategy=\"mean\")\n",
        "\n",
        "-cross_val_score(mean_model, X=X_lin1_no_2021, y=log_gdp_no_2021, cv=10,\n",
        "                           scoring=\"neg_root_mean_squared_error\").mean()"
      ],
      "metadata": {
        "colab": {
          "base_uri": "https://localhost:8080/"
        },
        "id": "PFfjixy-G_3C",
        "outputId": "00ef4ebc-89c1-4a45-f083-29b005d76f0e"
      },
      "execution_count": 223,
      "outputs": [
        {
          "output_type": "execute_result",
          "data": {
            "text/plain": [
              "1.491461500108686"
            ]
          },
          "metadata": {},
          "execution_count": 223
        }
      ]
    },
    {
      "cell_type": "code",
      "source": [
        "log_gdp_yes_2021.std()"
      ],
      "metadata": {
        "colab": {
          "base_uri": "https://localhost:8080/"
        },
        "outputId": "ff2c6d69-449c-48cb-cb2f-645c7441f1c8",
        "id": "kGagXY-m2WMw"
      },
      "execution_count": 159,
      "outputs": [
        {
          "output_type": "execute_result",
          "data": {
            "text/plain": [
              "1.4786496693288973"
            ]
          },
          "metadata": {},
          "execution_count": 159
        }
      ]
    },
    {
      "cell_type": "markdown",
      "source": [
        "Based on this benchmark, I'd say our model did a much better job!"
      ],
      "metadata": {
        "id": "HW-K79Oj2WMw"
      }
    },
    {
      "cell_type": "markdown",
      "source": [
        "R^2"
      ],
      "metadata": {
        "id": "br8vPYj92WMx"
      }
    },
    {
      "cell_type": "code",
      "source": [
        "r_squared = 1 - (((log_gdp_yes_2021 - y_lin1_2021_pred)**2).mean()) / ((log_gdp_yes_2021 - y_lin1_2021_pred.mean())**2).mean()\n",
        "r_squared"
      ],
      "metadata": {
        "colab": {
          "base_uri": "https://localhost:8080/"
        },
        "outputId": "0bf4fb47-2a2c-49d1-d8af-73cc49d968f3",
        "id": "4rI6lg1N2WMx"
      },
      "execution_count": 161,
      "outputs": [
        {
          "output_type": "execute_result",
          "data": {
            "text/plain": [
              "0.9672226359601809"
            ]
          },
          "metadata": {},
          "execution_count": 161
        }
      ]
    },
    {
      "cell_type": "markdown",
      "source": [
        "That's a really good R^2 value.\n",
        "96.7% of the variability in GDP is explained by this model."
      ],
      "metadata": {
        "id": "_hEJW1EJ2WMx"
      }
    },
    {
      "cell_type": "markdown",
      "source": [
        "# Linear Regression - Per Capita Model"
      ],
      "metadata": {
        "id": "aAT30ar-xpkY"
      }
    },
    {
      "cell_type": "code",
      "source": [
        "X_cap"
      ],
      "metadata": {
        "colab": {
          "base_uri": "https://localhost:8080/",
          "height": 423
        },
        "id": "kU4M3G4Qw2tl",
        "outputId": "7190a971-cd25-4b2c-bfd8-5a3daedba104"
      },
      "execution_count": 108,
      "outputs": [
        {
          "output_type": "execute_result",
          "data": {
            "text/plain": [
              "          geo  Year     CPI  Immigrants_pcap  Population  Housing Index  \\\n",
              "0     Austria  2011   93.35         0.009799   8391643.0          81.60   \n",
              "1     Austria  2012   95.75         0.010861   8429991.0          87.57   \n",
              "2     Austria  2013   97.77         0.012013   8479823.0          92.10   \n",
              "3     Austria  2014   99.20         0.013604   8546356.0          95.33   \n",
              "4     Austria  2015  100.00         0.019244   8642699.0         100.00   \n",
              "..        ...   ...     ...              ...         ...            ...   \n",
              "280  Slovakia  2017  100.90         0.001322   5439232.0         112.99   \n",
              "281  Slovakia  2018  103.46         0.001332   5446771.0         121.32   \n",
              "282  Slovakia  2019  106.33         0.001286   5454147.0         132.39   \n",
              "283  Slovakia  2020  108.47         0.001241   5458827.0         145.06   \n",
              "284  Slovakia  2021  111.53         0.001052   5447247.0         154.33   \n",
              "\n",
              "     Emigrants_pcap  unemployment  Deaths_pcap  Exports_pcap  Imports_pcap  \\\n",
              "0          0.006101           3.3     0.009114      0.015189      0.016387   \n",
              "1          0.006146           3.5     0.009423      0.015383      0.016482   \n",
              "2          0.006376           3.8     0.009378      0.015553      0.016274   \n",
              "3          0.006259           4.0     0.009156      0.015699      0.016030   \n",
              "4          0.006559           4.1     0.009612      0.015939      0.016280   \n",
              "..              ...           ...          ...           ...           ...   \n",
              "280        0.000637           5.4     0.009912      0.013566      0.013272   \n",
              "281        0.000605           4.3     0.009968      0.014529      0.014454   \n",
              "282        0.000620           3.8     0.009760      0.014661      0.014742   \n",
              "283        0.000445           4.4     0.010824      0.013847      0.013501   \n",
              "284        0.000623           4.5     0.013486      0.016131      0.016137   \n",
              "\n",
              "     log(Population)  \n",
              "0          15.942747  \n",
              "1          15.947306  \n",
              "2          15.953200  \n",
              "3          15.961016  \n",
              "4          15.972225  \n",
              "..               ...  \n",
              "280        15.509148  \n",
              "281        15.510534  \n",
              "282        15.511887  \n",
              "283        15.512744  \n",
              "284        15.510621  \n",
              "\n",
              "[285 rows x 12 columns]"
            ],
            "text/html": [
              "\n",
              "  <div id=\"df-2cfd1203-2e29-4785-bad2-fecb6051ed49\" class=\"colab-df-container\">\n",
              "    <div>\n",
              "<style scoped>\n",
              "    .dataframe tbody tr th:only-of-type {\n",
              "        vertical-align: middle;\n",
              "    }\n",
              "\n",
              "    .dataframe tbody tr th {\n",
              "        vertical-align: top;\n",
              "    }\n",
              "\n",
              "    .dataframe thead th {\n",
              "        text-align: right;\n",
              "    }\n",
              "</style>\n",
              "<table border=\"1\" class=\"dataframe\">\n",
              "  <thead>\n",
              "    <tr style=\"text-align: right;\">\n",
              "      <th></th>\n",
              "      <th>geo</th>\n",
              "      <th>Year</th>\n",
              "      <th>CPI</th>\n",
              "      <th>Immigrants_pcap</th>\n",
              "      <th>Population</th>\n",
              "      <th>Housing Index</th>\n",
              "      <th>Emigrants_pcap</th>\n",
              "      <th>unemployment</th>\n",
              "      <th>Deaths_pcap</th>\n",
              "      <th>Exports_pcap</th>\n",
              "      <th>Imports_pcap</th>\n",
              "      <th>log(Population)</th>\n",
              "    </tr>\n",
              "  </thead>\n",
              "  <tbody>\n",
              "    <tr>\n",
              "      <th>0</th>\n",
              "      <td>Austria</td>\n",
              "      <td>2011</td>\n",
              "      <td>93.35</td>\n",
              "      <td>0.009799</td>\n",
              "      <td>8391643.0</td>\n",
              "      <td>81.60</td>\n",
              "      <td>0.006101</td>\n",
              "      <td>3.3</td>\n",
              "      <td>0.009114</td>\n",
              "      <td>0.015189</td>\n",
              "      <td>0.016387</td>\n",
              "      <td>15.942747</td>\n",
              "    </tr>\n",
              "    <tr>\n",
              "      <th>1</th>\n",
              "      <td>Austria</td>\n",
              "      <td>2012</td>\n",
              "      <td>95.75</td>\n",
              "      <td>0.010861</td>\n",
              "      <td>8429991.0</td>\n",
              "      <td>87.57</td>\n",
              "      <td>0.006146</td>\n",
              "      <td>3.5</td>\n",
              "      <td>0.009423</td>\n",
              "      <td>0.015383</td>\n",
              "      <td>0.016482</td>\n",
              "      <td>15.947306</td>\n",
              "    </tr>\n",
              "    <tr>\n",
              "      <th>2</th>\n",
              "      <td>Austria</td>\n",
              "      <td>2013</td>\n",
              "      <td>97.77</td>\n",
              "      <td>0.012013</td>\n",
              "      <td>8479823.0</td>\n",
              "      <td>92.10</td>\n",
              "      <td>0.006376</td>\n",
              "      <td>3.8</td>\n",
              "      <td>0.009378</td>\n",
              "      <td>0.015553</td>\n",
              "      <td>0.016274</td>\n",
              "      <td>15.953200</td>\n",
              "    </tr>\n",
              "    <tr>\n",
              "      <th>3</th>\n",
              "      <td>Austria</td>\n",
              "      <td>2014</td>\n",
              "      <td>99.20</td>\n",
              "      <td>0.013604</td>\n",
              "      <td>8546356.0</td>\n",
              "      <td>95.33</td>\n",
              "      <td>0.006259</td>\n",
              "      <td>4.0</td>\n",
              "      <td>0.009156</td>\n",
              "      <td>0.015699</td>\n",
              "      <td>0.016030</td>\n",
              "      <td>15.961016</td>\n",
              "    </tr>\n",
              "    <tr>\n",
              "      <th>4</th>\n",
              "      <td>Austria</td>\n",
              "      <td>2015</td>\n",
              "      <td>100.00</td>\n",
              "      <td>0.019244</td>\n",
              "      <td>8642699.0</td>\n",
              "      <td>100.00</td>\n",
              "      <td>0.006559</td>\n",
              "      <td>4.1</td>\n",
              "      <td>0.009612</td>\n",
              "      <td>0.015939</td>\n",
              "      <td>0.016280</td>\n",
              "      <td>15.972225</td>\n",
              "    </tr>\n",
              "    <tr>\n",
              "      <th>...</th>\n",
              "      <td>...</td>\n",
              "      <td>...</td>\n",
              "      <td>...</td>\n",
              "      <td>...</td>\n",
              "      <td>...</td>\n",
              "      <td>...</td>\n",
              "      <td>...</td>\n",
              "      <td>...</td>\n",
              "      <td>...</td>\n",
              "      <td>...</td>\n",
              "      <td>...</td>\n",
              "      <td>...</td>\n",
              "    </tr>\n",
              "    <tr>\n",
              "      <th>280</th>\n",
              "      <td>Slovakia</td>\n",
              "      <td>2017</td>\n",
              "      <td>100.90</td>\n",
              "      <td>0.001322</td>\n",
              "      <td>5439232.0</td>\n",
              "      <td>112.99</td>\n",
              "      <td>0.000637</td>\n",
              "      <td>5.4</td>\n",
              "      <td>0.009912</td>\n",
              "      <td>0.013566</td>\n",
              "      <td>0.013272</td>\n",
              "      <td>15.509148</td>\n",
              "    </tr>\n",
              "    <tr>\n",
              "      <th>281</th>\n",
              "      <td>Slovakia</td>\n",
              "      <td>2018</td>\n",
              "      <td>103.46</td>\n",
              "      <td>0.001332</td>\n",
              "      <td>5446771.0</td>\n",
              "      <td>121.32</td>\n",
              "      <td>0.000605</td>\n",
              "      <td>4.3</td>\n",
              "      <td>0.009968</td>\n",
              "      <td>0.014529</td>\n",
              "      <td>0.014454</td>\n",
              "      <td>15.510534</td>\n",
              "    </tr>\n",
              "    <tr>\n",
              "      <th>282</th>\n",
              "      <td>Slovakia</td>\n",
              "      <td>2019</td>\n",
              "      <td>106.33</td>\n",
              "      <td>0.001286</td>\n",
              "      <td>5454147.0</td>\n",
              "      <td>132.39</td>\n",
              "      <td>0.000620</td>\n",
              "      <td>3.8</td>\n",
              "      <td>0.009760</td>\n",
              "      <td>0.014661</td>\n",
              "      <td>0.014742</td>\n",
              "      <td>15.511887</td>\n",
              "    </tr>\n",
              "    <tr>\n",
              "      <th>283</th>\n",
              "      <td>Slovakia</td>\n",
              "      <td>2020</td>\n",
              "      <td>108.47</td>\n",
              "      <td>0.001241</td>\n",
              "      <td>5458827.0</td>\n",
              "      <td>145.06</td>\n",
              "      <td>0.000445</td>\n",
              "      <td>4.4</td>\n",
              "      <td>0.010824</td>\n",
              "      <td>0.013847</td>\n",
              "      <td>0.013501</td>\n",
              "      <td>15.512744</td>\n",
              "    </tr>\n",
              "    <tr>\n",
              "      <th>284</th>\n",
              "      <td>Slovakia</td>\n",
              "      <td>2021</td>\n",
              "      <td>111.53</td>\n",
              "      <td>0.001052</td>\n",
              "      <td>5447247.0</td>\n",
              "      <td>154.33</td>\n",
              "      <td>0.000623</td>\n",
              "      <td>4.5</td>\n",
              "      <td>0.013486</td>\n",
              "      <td>0.016131</td>\n",
              "      <td>0.016137</td>\n",
              "      <td>15.510621</td>\n",
              "    </tr>\n",
              "  </tbody>\n",
              "</table>\n",
              "<p>285 rows × 12 columns</p>\n",
              "</div>\n",
              "    <div class=\"colab-df-buttons\">\n",
              "\n",
              "  <div class=\"colab-df-container\">\n",
              "    <button class=\"colab-df-convert\" onclick=\"convertToInteractive('df-2cfd1203-2e29-4785-bad2-fecb6051ed49')\"\n",
              "            title=\"Convert this dataframe to an interactive table.\"\n",
              "            style=\"display:none;\">\n",
              "\n",
              "  <svg xmlns=\"http://www.w3.org/2000/svg\" height=\"24px\" viewBox=\"0 -960 960 960\">\n",
              "    <path d=\"M120-120v-720h720v720H120Zm60-500h600v-160H180v160Zm220 220h160v-160H400v160Zm0 220h160v-160H400v160ZM180-400h160v-160H180v160Zm440 0h160v-160H620v160ZM180-180h160v-160H180v160Zm440 0h160v-160H620v160Z\"/>\n",
              "  </svg>\n",
              "    </button>\n",
              "\n",
              "  <style>\n",
              "    .colab-df-container {\n",
              "      display:flex;\n",
              "      gap: 12px;\n",
              "    }\n",
              "\n",
              "    .colab-df-convert {\n",
              "      background-color: #E8F0FE;\n",
              "      border: none;\n",
              "      border-radius: 50%;\n",
              "      cursor: pointer;\n",
              "      display: none;\n",
              "      fill: #1967D2;\n",
              "      height: 32px;\n",
              "      padding: 0 0 0 0;\n",
              "      width: 32px;\n",
              "    }\n",
              "\n",
              "    .colab-df-convert:hover {\n",
              "      background-color: #E2EBFA;\n",
              "      box-shadow: 0px 1px 2px rgba(60, 64, 67, 0.3), 0px 1px 3px 1px rgba(60, 64, 67, 0.15);\n",
              "      fill: #174EA6;\n",
              "    }\n",
              "\n",
              "    .colab-df-buttons div {\n",
              "      margin-bottom: 4px;\n",
              "    }\n",
              "\n",
              "    [theme=dark] .colab-df-convert {\n",
              "      background-color: #3B4455;\n",
              "      fill: #D2E3FC;\n",
              "    }\n",
              "\n",
              "    [theme=dark] .colab-df-convert:hover {\n",
              "      background-color: #434B5C;\n",
              "      box-shadow: 0px 1px 3px 1px rgba(0, 0, 0, 0.15);\n",
              "      filter: drop-shadow(0px 1px 2px rgba(0, 0, 0, 0.3));\n",
              "      fill: #FFFFFF;\n",
              "    }\n",
              "  </style>\n",
              "\n",
              "    <script>\n",
              "      const buttonEl =\n",
              "        document.querySelector('#df-2cfd1203-2e29-4785-bad2-fecb6051ed49 button.colab-df-convert');\n",
              "      buttonEl.style.display =\n",
              "        google.colab.kernel.accessAllowed ? 'block' : 'none';\n",
              "\n",
              "      async function convertToInteractive(key) {\n",
              "        const element = document.querySelector('#df-2cfd1203-2e29-4785-bad2-fecb6051ed49');\n",
              "        const dataTable =\n",
              "          await google.colab.kernel.invokeFunction('convertToInteractive',\n",
              "                                                    [key], {});\n",
              "        if (!dataTable) return;\n",
              "\n",
              "        const docLinkHtml = 'Like what you see? Visit the ' +\n",
              "          '<a target=\"_blank\" href=https://colab.research.google.com/notebooks/data_table.ipynb>data table notebook</a>'\n",
              "          + ' to learn more about interactive tables.';\n",
              "        element.innerHTML = '';\n",
              "        dataTable['output_type'] = 'display_data';\n",
              "        await google.colab.output.renderOutput(dataTable, element);\n",
              "        const docLink = document.createElement('div');\n",
              "        docLink.innerHTML = docLinkHtml;\n",
              "        element.appendChild(docLink);\n",
              "      }\n",
              "    </script>\n",
              "  </div>\n",
              "\n",
              "\n",
              "<div id=\"df-70bfa866-c394-4f38-87e8-a863dd50b42f\">\n",
              "  <button class=\"colab-df-quickchart\" onclick=\"quickchart('df-70bfa866-c394-4f38-87e8-a863dd50b42f')\"\n",
              "            title=\"Suggest charts\"\n",
              "            style=\"display:none;\">\n",
              "\n",
              "<svg xmlns=\"http://www.w3.org/2000/svg\" height=\"24px\"viewBox=\"0 0 24 24\"\n",
              "     width=\"24px\">\n",
              "    <g>\n",
              "        <path d=\"M19 3H5c-1.1 0-2 .9-2 2v14c0 1.1.9 2 2 2h14c1.1 0 2-.9 2-2V5c0-1.1-.9-2-2-2zM9 17H7v-7h2v7zm4 0h-2V7h2v10zm4 0h-2v-4h2v4z\"/>\n",
              "    </g>\n",
              "</svg>\n",
              "  </button>\n",
              "\n",
              "<style>\n",
              "  .colab-df-quickchart {\n",
              "      --bg-color: #E8F0FE;\n",
              "      --fill-color: #1967D2;\n",
              "      --hover-bg-color: #E2EBFA;\n",
              "      --hover-fill-color: #174EA6;\n",
              "      --disabled-fill-color: #AAA;\n",
              "      --disabled-bg-color: #DDD;\n",
              "  }\n",
              "\n",
              "  [theme=dark] .colab-df-quickchart {\n",
              "      --bg-color: #3B4455;\n",
              "      --fill-color: #D2E3FC;\n",
              "      --hover-bg-color: #434B5C;\n",
              "      --hover-fill-color: #FFFFFF;\n",
              "      --disabled-bg-color: #3B4455;\n",
              "      --disabled-fill-color: #666;\n",
              "  }\n",
              "\n",
              "  .colab-df-quickchart {\n",
              "    background-color: var(--bg-color);\n",
              "    border: none;\n",
              "    border-radius: 50%;\n",
              "    cursor: pointer;\n",
              "    display: none;\n",
              "    fill: var(--fill-color);\n",
              "    height: 32px;\n",
              "    padding: 0;\n",
              "    width: 32px;\n",
              "  }\n",
              "\n",
              "  .colab-df-quickchart:hover {\n",
              "    background-color: var(--hover-bg-color);\n",
              "    box-shadow: 0 1px 2px rgba(60, 64, 67, 0.3), 0 1px 3px 1px rgba(60, 64, 67, 0.15);\n",
              "    fill: var(--button-hover-fill-color);\n",
              "  }\n",
              "\n",
              "  .colab-df-quickchart-complete:disabled,\n",
              "  .colab-df-quickchart-complete:disabled:hover {\n",
              "    background-color: var(--disabled-bg-color);\n",
              "    fill: var(--disabled-fill-color);\n",
              "    box-shadow: none;\n",
              "  }\n",
              "\n",
              "  .colab-df-spinner {\n",
              "    border: 2px solid var(--fill-color);\n",
              "    border-color: transparent;\n",
              "    border-bottom-color: var(--fill-color);\n",
              "    animation:\n",
              "      spin 1s steps(1) infinite;\n",
              "  }\n",
              "\n",
              "  @keyframes spin {\n",
              "    0% {\n",
              "      border-color: transparent;\n",
              "      border-bottom-color: var(--fill-color);\n",
              "      border-left-color: var(--fill-color);\n",
              "    }\n",
              "    20% {\n",
              "      border-color: transparent;\n",
              "      border-left-color: var(--fill-color);\n",
              "      border-top-color: var(--fill-color);\n",
              "    }\n",
              "    30% {\n",
              "      border-color: transparent;\n",
              "      border-left-color: var(--fill-color);\n",
              "      border-top-color: var(--fill-color);\n",
              "      border-right-color: var(--fill-color);\n",
              "    }\n",
              "    40% {\n",
              "      border-color: transparent;\n",
              "      border-right-color: var(--fill-color);\n",
              "      border-top-color: var(--fill-color);\n",
              "    }\n",
              "    60% {\n",
              "      border-color: transparent;\n",
              "      border-right-color: var(--fill-color);\n",
              "    }\n",
              "    80% {\n",
              "      border-color: transparent;\n",
              "      border-right-color: var(--fill-color);\n",
              "      border-bottom-color: var(--fill-color);\n",
              "    }\n",
              "    90% {\n",
              "      border-color: transparent;\n",
              "      border-bottom-color: var(--fill-color);\n",
              "    }\n",
              "  }\n",
              "</style>\n",
              "\n",
              "  <script>\n",
              "    async function quickchart(key) {\n",
              "      const quickchartButtonEl =\n",
              "        document.querySelector('#' + key + ' button');\n",
              "      quickchartButtonEl.disabled = true;  // To prevent multiple clicks.\n",
              "      quickchartButtonEl.classList.add('colab-df-spinner');\n",
              "      try {\n",
              "        const charts = await google.colab.kernel.invokeFunction(\n",
              "            'suggestCharts', [key], {});\n",
              "      } catch (error) {\n",
              "        console.error('Error during call to suggestCharts:', error);\n",
              "      }\n",
              "      quickchartButtonEl.classList.remove('colab-df-spinner');\n",
              "      quickchartButtonEl.classList.add('colab-df-quickchart-complete');\n",
              "    }\n",
              "    (() => {\n",
              "      let quickchartButtonEl =\n",
              "        document.querySelector('#df-70bfa866-c394-4f38-87e8-a863dd50b42f button');\n",
              "      quickchartButtonEl.style.display =\n",
              "        google.colab.kernel.accessAllowed ? 'block' : 'none';\n",
              "    })();\n",
              "  </script>\n",
              "</div>\n",
              "    </div>\n",
              "  </div>\n"
            ]
          },
          "metadata": {},
          "execution_count": 108
        }
      ]
    },
    {
      "cell_type": "code",
      "source": [
        "from itertools import chain, combinations\n",
        "\n",
        "def powerset(iterable):\n",
        "    features = list(iterable)\n",
        "    return chain.from_iterable(combinations(features, r) for r in range(len(features)+1))\n",
        "\n",
        "reg_features = [\"geo\", \"Year\", \"CPI\", \"Immigrants_pcap\", \"log(Population)\", \"Housing Index\", \"Emigrants_pcap\", \"unemployment\", \"Deaths_pcap\", \"Exports_pcap\", \"Imports_pcap\"]\n",
        "\n",
        "# Creating a power set of all possible regular features to test for the best model\n",
        "reg_power_set = []\n",
        "for subset in powerset(reg_features):\n",
        "    reg_power_set.append(list(subset))\n",
        "\n",
        "# First value is empty, so remove\n",
        "reg_power_set = reg_power_set[1:]\n",
        "len(reg_power_set)\n",
        "# That's a lot of combinations"
      ],
      "metadata": {
        "colab": {
          "base_uri": "https://localhost:8080/"
        },
        "id": "QN8YvNs3w01B",
        "outputId": "6056ba94-f8e4-4148-d417-f43609614d40"
      },
      "execution_count": 109,
      "outputs": [
        {
          "output_type": "execute_result",
          "data": {
            "text/plain": [
              "2047"
            ]
          },
          "metadata": {},
          "execution_count": 109
        }
      ]
    },
    {
      "cell_type": "code",
      "source": [
        "# Takes ~5 min to run\n",
        "\n",
        "from sklearn.preprocessing import StandardScaler, OneHotEncoder\n",
        "from sklearn.linear_model import LinearRegression\n",
        "from sklearn.pipeline import make_pipeline\n",
        "from sklearn.compose import make_column_transformer\n",
        "from sklearn.model_selection import cross_val_score\n",
        "\n",
        "# define function to calculate estimate of test error for a given feature set\n",
        "def get_cv_error(features):\n",
        "\n",
        "  quant_vars = []\n",
        "  cat_vars = []\n",
        "  for feature in features:\n",
        "    if X_cap.dtypes[feature] == \"int64\" or  X_cap.dtypes[feature] == \"float64\":\n",
        "      quant_vars.append(feature)\n",
        "    else:\n",
        "      cat_vars.append(feature)\n",
        "\n",
        "  ct = make_column_transformer(\n",
        "      (StandardScaler(), quant_vars),\n",
        "      (OneHotEncoder(handle_unknown=\"ignore\"), cat_vars),\n",
        "      remainder=\"drop\"\n",
        "  )\n",
        "\n",
        "  pipeline = make_pipeline(\n",
        "      ct,\n",
        "      LinearRegression()\n",
        "  )\n",
        "  # errors from cross-validation\n",
        "  cv_errs = -cross_val_score(pipeline, X=X_cap[features],\n",
        "                             y=gdp_cap,\n",
        "                             scoring=\"neg_mean_squared_error\", cv=10)\n",
        "  # calculate average of the cross-validation errors\n",
        "  return cv_errs.mean()\n",
        "\n",
        "# calculate and store errors for different feature sets\n",
        "errs = pd.Series()\n",
        "for features in reg_power_set:\n",
        "  errs[str(features)] = get_cv_error(features)\n",
        "\n",
        "errs"
      ],
      "metadata": {
        "colab": {
          "base_uri": "https://localhost:8080/"
        },
        "id": "S_apXVZyxwxP",
        "outputId": "008daeda-d701-407f-9d1b-3a53520839ed"
      },
      "execution_count": 110,
      "outputs": [
        {
          "output_type": "stream",
          "name": "stderr",
          "text": [
            "<ipython-input-110-a430b3d49c61>:38: FutureWarning: The default dtype for empty Series will be 'object' instead of 'float64' in a future version. Specify a dtype explicitly to silence this warning.\n",
            "  errs = pd.Series()\n"
          ]
        },
        {
          "output_type": "execute_result",
          "data": {
            "text/plain": [
              "['geo']                                                                                                                                                           3.560759e+08\n",
              "['Year']                                                                                                                                                          4.037711e+08\n",
              "['CPI']                                                                                                                                                           4.095859e+08\n",
              "['Immigrants_pcap']                                                                                                                                               3.698054e+08\n",
              "['log(Population)']                                                                                                                                               4.448045e+08\n",
              "                                                                                                                                                                      ...     \n",
              "['geo', 'Year', 'CPI', 'log(Population)', 'Housing Index', 'Emigrants_pcap', 'unemployment', 'Deaths_pcap', 'Exports_pcap', 'Imports_pcap']                       4.282401e+09\n",
              "['geo', 'Year', 'Immigrants_pcap', 'log(Population)', 'Housing Index', 'Emigrants_pcap', 'unemployment', 'Deaths_pcap', 'Exports_pcap', 'Imports_pcap']           4.400176e+09\n",
              "['geo', 'CPI', 'Immigrants_pcap', 'log(Population)', 'Housing Index', 'Emigrants_pcap', 'unemployment', 'Deaths_pcap', 'Exports_pcap', 'Imports_pcap']            5.186346e+09\n",
              "['Year', 'CPI', 'Immigrants_pcap', 'log(Population)', 'Housing Index', 'Emigrants_pcap', 'unemployment', 'Deaths_pcap', 'Exports_pcap', 'Imports_pcap']           3.816170e+08\n",
              "['geo', 'Year', 'CPI', 'Immigrants_pcap', 'log(Population)', 'Housing Index', 'Emigrants_pcap', 'unemployment', 'Deaths_pcap', 'Exports_pcap', 'Imports_pcap']    3.919832e+09\n",
              "Length: 2047, dtype: float64"
            ]
          },
          "metadata": {},
          "execution_count": 110
        }
      ]
    },
    {
      "cell_type": "code",
      "source": [
        "errs.sort_values()"
      ],
      "metadata": {
        "colab": {
          "base_uri": "https://localhost:8080/"
        },
        "id": "QzB8NIY8zYvN",
        "outputId": "995cd203-b01d-4ee8-f431-3bec3bc013f7"
      },
      "execution_count": 111,
      "outputs": [
        {
          "output_type": "execute_result",
          "data": {
            "text/plain": [
              "['geo', 'Immigrants_pcap', 'Imports_pcap']                                                        1.342052e+08\n",
              "['geo', 'Immigrants_pcap', 'Deaths_pcap', 'Imports_pcap']                                         1.383472e+08\n",
              "['geo', 'CPI', 'Immigrants_pcap', 'Deaths_pcap', 'Imports_pcap']                                  1.414693e+08\n",
              "['geo', 'Imports_pcap']                                                                           1.450625e+08\n",
              "['geo', 'Immigrants_pcap', 'Emigrants_pcap', 'Imports_pcap']                                      1.453131e+08\n",
              "                                                                                                      ...     \n",
              "['geo', 'log(Population)', 'Deaths_pcap']                                                         1.221979e+10\n",
              "['geo', 'log(Population)', 'Emigrants_pcap', 'unemployment', 'Deaths_pcap']                       1.223113e+10\n",
              "['geo', 'Immigrants_pcap', 'log(Population)', 'Emigrants_pcap', 'unemployment', 'Deaths_pcap']    1.235351e+10\n",
              "['geo', 'Immigrants_pcap', 'log(Population)', 'Emigrants_pcap', 'Deaths_pcap']                    1.299331e+10\n",
              "['geo', 'log(Population)', 'Emigrants_pcap', 'Deaths_pcap']                                       1.441981e+10\n",
              "Length: 2047, dtype: float64"
            ]
          },
          "metadata": {},
          "execution_count": 111
        }
      ]
    },
    {
      "cell_type": "markdown",
      "source": [
        "## Testing Out the Model\n",
        "Features = ['geo', 'Immigrants_pcap', 'Imports_pcap']"
      ],
      "metadata": {
        "id": "It5tgvxE026Q"
      }
    },
    {
      "cell_type": "code",
      "source": [
        "from sklearn.model_selection import train_test_split\n",
        "\n",
        "X_lin2 = X_cap[['geo', 'Immigrants_pcap', 'Imports_pcap']]\n",
        "# y = gdp\n",
        "\n",
        "# split into test and training\n",
        "X_lin2_train, X_lin2_test, y_lin2_train, y_lin2_test = train_test_split(X_lin2, gdp_cap, test_size=0.25, random_state=0)"
      ],
      "metadata": {
        "id": "-euKT8Ph026a"
      },
      "execution_count": 163,
      "outputs": []
    },
    {
      "cell_type": "code",
      "source": [
        "from sklearn.preprocessing import StandardScaler, OneHotEncoder\n",
        "from sklearn.linear_model import LinearRegression\n",
        "from sklearn.pipeline import make_pipeline\n",
        "from sklearn.compose import make_column_transformer\n",
        "from sklearn.model_selection import cross_val_score\n",
        "\n",
        "ct = make_column_transformer(\n",
        "    (StandardScaler(), ['Immigrants_pcap', 'Imports_pcap']),\n",
        "    (OneHotEncoder(handle_unknown=\"ignore\"), ['geo']),\n",
        "    remainder=\"drop\"\n",
        ")\n",
        "\n",
        "pipeline = make_pipeline(\n",
        "    ct,\n",
        "    LinearRegression()\n",
        ")"
      ],
      "metadata": {
        "id": "zIhamBEQ026b"
      },
      "execution_count": 171,
      "outputs": []
    },
    {
      "cell_type": "code",
      "source": [
        "pipeline.fit(X_lin2_train, y_lin2_train)"
      ],
      "metadata": {
        "colab": {
          "base_uri": "https://localhost:8080/",
          "height": 191
        },
        "outputId": "096e8023-726f-4f3d-96a3-ef6412b92aca",
        "id": "6ABKIME-026b"
      },
      "execution_count": 172,
      "outputs": [
        {
          "output_type": "execute_result",
          "data": {
            "text/plain": [
              "Pipeline(steps=[('columntransformer',\n",
              "                 ColumnTransformer(transformers=[('standardscaler',\n",
              "                                                  StandardScaler(),\n",
              "                                                  ['Immigrants_pcap',\n",
              "                                                   'Imports_pcap']),\n",
              "                                                 ('onehotencoder',\n",
              "                                                  OneHotEncoder(handle_unknown='ignore'),\n",
              "                                                  ['geo'])])),\n",
              "                ('linearregression', LinearRegression())])"
            ],
            "text/html": [
              "<style>#sk-container-id-8 {color: black;background-color: white;}#sk-container-id-8 pre{padding: 0;}#sk-container-id-8 div.sk-toggleable {background-color: white;}#sk-container-id-8 label.sk-toggleable__label {cursor: pointer;display: block;width: 100%;margin-bottom: 0;padding: 0.3em;box-sizing: border-box;text-align: center;}#sk-container-id-8 label.sk-toggleable__label-arrow:before {content: \"▸\";float: left;margin-right: 0.25em;color: #696969;}#sk-container-id-8 label.sk-toggleable__label-arrow:hover:before {color: black;}#sk-container-id-8 div.sk-estimator:hover label.sk-toggleable__label-arrow:before {color: black;}#sk-container-id-8 div.sk-toggleable__content {max-height: 0;max-width: 0;overflow: hidden;text-align: left;background-color: #f0f8ff;}#sk-container-id-8 div.sk-toggleable__content pre {margin: 0.2em;color: black;border-radius: 0.25em;background-color: #f0f8ff;}#sk-container-id-8 input.sk-toggleable__control:checked~div.sk-toggleable__content {max-height: 200px;max-width: 100%;overflow: auto;}#sk-container-id-8 input.sk-toggleable__control:checked~label.sk-toggleable__label-arrow:before {content: \"▾\";}#sk-container-id-8 div.sk-estimator input.sk-toggleable__control:checked~label.sk-toggleable__label {background-color: #d4ebff;}#sk-container-id-8 div.sk-label input.sk-toggleable__control:checked~label.sk-toggleable__label {background-color: #d4ebff;}#sk-container-id-8 input.sk-hidden--visually {border: 0;clip: rect(1px 1px 1px 1px);clip: rect(1px, 1px, 1px, 1px);height: 1px;margin: -1px;overflow: hidden;padding: 0;position: absolute;width: 1px;}#sk-container-id-8 div.sk-estimator {font-family: monospace;background-color: #f0f8ff;border: 1px dotted black;border-radius: 0.25em;box-sizing: border-box;margin-bottom: 0.5em;}#sk-container-id-8 div.sk-estimator:hover {background-color: #d4ebff;}#sk-container-id-8 div.sk-parallel-item::after {content: \"\";width: 100%;border-bottom: 1px solid gray;flex-grow: 1;}#sk-container-id-8 div.sk-label:hover label.sk-toggleable__label {background-color: #d4ebff;}#sk-container-id-8 div.sk-serial::before {content: \"\";position: absolute;border-left: 1px solid gray;box-sizing: border-box;top: 0;bottom: 0;left: 50%;z-index: 0;}#sk-container-id-8 div.sk-serial {display: flex;flex-direction: column;align-items: center;background-color: white;padding-right: 0.2em;padding-left: 0.2em;position: relative;}#sk-container-id-8 div.sk-item {position: relative;z-index: 1;}#sk-container-id-8 div.sk-parallel {display: flex;align-items: stretch;justify-content: center;background-color: white;position: relative;}#sk-container-id-8 div.sk-item::before, #sk-container-id-8 div.sk-parallel-item::before {content: \"\";position: absolute;border-left: 1px solid gray;box-sizing: border-box;top: 0;bottom: 0;left: 50%;z-index: -1;}#sk-container-id-8 div.sk-parallel-item {display: flex;flex-direction: column;z-index: 1;position: relative;background-color: white;}#sk-container-id-8 div.sk-parallel-item:first-child::after {align-self: flex-end;width: 50%;}#sk-container-id-8 div.sk-parallel-item:last-child::after {align-self: flex-start;width: 50%;}#sk-container-id-8 div.sk-parallel-item:only-child::after {width: 0;}#sk-container-id-8 div.sk-dashed-wrapped {border: 1px dashed gray;margin: 0 0.4em 0.5em 0.4em;box-sizing: border-box;padding-bottom: 0.4em;background-color: white;}#sk-container-id-8 div.sk-label label {font-family: monospace;font-weight: bold;display: inline-block;line-height: 1.2em;}#sk-container-id-8 div.sk-label-container {text-align: center;}#sk-container-id-8 div.sk-container {/* jupyter's `normalize.less` sets `[hidden] { display: none; }` but bootstrap.min.css set `[hidden] { display: none !important; }` so we also need the `!important` here to be able to override the default hidden behavior on the sphinx rendered scikit-learn.org. See: https://github.com/scikit-learn/scikit-learn/issues/21755 */display: inline-block !important;position: relative;}#sk-container-id-8 div.sk-text-repr-fallback {display: none;}</style><div id=\"sk-container-id-8\" class=\"sk-top-container\"><div class=\"sk-text-repr-fallback\"><pre>Pipeline(steps=[(&#x27;columntransformer&#x27;,\n",
              "                 ColumnTransformer(transformers=[(&#x27;standardscaler&#x27;,\n",
              "                                                  StandardScaler(),\n",
              "                                                  [&#x27;Immigrants_pcap&#x27;,\n",
              "                                                   &#x27;Imports_pcap&#x27;]),\n",
              "                                                 (&#x27;onehotencoder&#x27;,\n",
              "                                                  OneHotEncoder(handle_unknown=&#x27;ignore&#x27;),\n",
              "                                                  [&#x27;geo&#x27;])])),\n",
              "                (&#x27;linearregression&#x27;, LinearRegression())])</pre><b>In a Jupyter environment, please rerun this cell to show the HTML representation or trust the notebook. <br />On GitHub, the HTML representation is unable to render, please try loading this page with nbviewer.org.</b></div><div class=\"sk-container\" hidden><div class=\"sk-item sk-dashed-wrapped\"><div class=\"sk-label-container\"><div class=\"sk-label sk-toggleable\"><input class=\"sk-toggleable__control sk-hidden--visually\" id=\"sk-estimator-id-34\" type=\"checkbox\" ><label for=\"sk-estimator-id-34\" class=\"sk-toggleable__label sk-toggleable__label-arrow\">Pipeline</label><div class=\"sk-toggleable__content\"><pre>Pipeline(steps=[(&#x27;columntransformer&#x27;,\n",
              "                 ColumnTransformer(transformers=[(&#x27;standardscaler&#x27;,\n",
              "                                                  StandardScaler(),\n",
              "                                                  [&#x27;Immigrants_pcap&#x27;,\n",
              "                                                   &#x27;Imports_pcap&#x27;]),\n",
              "                                                 (&#x27;onehotencoder&#x27;,\n",
              "                                                  OneHotEncoder(handle_unknown=&#x27;ignore&#x27;),\n",
              "                                                  [&#x27;geo&#x27;])])),\n",
              "                (&#x27;linearregression&#x27;, LinearRegression())])</pre></div></div></div><div class=\"sk-serial\"><div class=\"sk-item sk-dashed-wrapped\"><div class=\"sk-label-container\"><div class=\"sk-label sk-toggleable\"><input class=\"sk-toggleable__control sk-hidden--visually\" id=\"sk-estimator-id-35\" type=\"checkbox\" ><label for=\"sk-estimator-id-35\" class=\"sk-toggleable__label sk-toggleable__label-arrow\">columntransformer: ColumnTransformer</label><div class=\"sk-toggleable__content\"><pre>ColumnTransformer(transformers=[(&#x27;standardscaler&#x27;, StandardScaler(),\n",
              "                                 [&#x27;Immigrants_pcap&#x27;, &#x27;Imports_pcap&#x27;]),\n",
              "                                (&#x27;onehotencoder&#x27;,\n",
              "                                 OneHotEncoder(handle_unknown=&#x27;ignore&#x27;),\n",
              "                                 [&#x27;geo&#x27;])])</pre></div></div></div><div class=\"sk-parallel\"><div class=\"sk-parallel-item\"><div class=\"sk-item\"><div class=\"sk-label-container\"><div class=\"sk-label sk-toggleable\"><input class=\"sk-toggleable__control sk-hidden--visually\" id=\"sk-estimator-id-36\" type=\"checkbox\" ><label for=\"sk-estimator-id-36\" class=\"sk-toggleable__label sk-toggleable__label-arrow\">standardscaler</label><div class=\"sk-toggleable__content\"><pre>[&#x27;Immigrants_pcap&#x27;, &#x27;Imports_pcap&#x27;]</pre></div></div></div><div class=\"sk-serial\"><div class=\"sk-item\"><div class=\"sk-estimator sk-toggleable\"><input class=\"sk-toggleable__control sk-hidden--visually\" id=\"sk-estimator-id-37\" type=\"checkbox\" ><label for=\"sk-estimator-id-37\" class=\"sk-toggleable__label sk-toggleable__label-arrow\">StandardScaler</label><div class=\"sk-toggleable__content\"><pre>StandardScaler()</pre></div></div></div></div></div></div><div class=\"sk-parallel-item\"><div class=\"sk-item\"><div class=\"sk-label-container\"><div class=\"sk-label sk-toggleable\"><input class=\"sk-toggleable__control sk-hidden--visually\" id=\"sk-estimator-id-38\" type=\"checkbox\" ><label for=\"sk-estimator-id-38\" class=\"sk-toggleable__label sk-toggleable__label-arrow\">onehotencoder</label><div class=\"sk-toggleable__content\"><pre>[&#x27;geo&#x27;]</pre></div></div></div><div class=\"sk-serial\"><div class=\"sk-item\"><div class=\"sk-estimator sk-toggleable\"><input class=\"sk-toggleable__control sk-hidden--visually\" id=\"sk-estimator-id-39\" type=\"checkbox\" ><label for=\"sk-estimator-id-39\" class=\"sk-toggleable__label sk-toggleable__label-arrow\">OneHotEncoder</label><div class=\"sk-toggleable__content\"><pre>OneHotEncoder(handle_unknown=&#x27;ignore&#x27;)</pre></div></div></div></div></div></div></div></div><div class=\"sk-item\"><div class=\"sk-estimator sk-toggleable\"><input class=\"sk-toggleable__control sk-hidden--visually\" id=\"sk-estimator-id-40\" type=\"checkbox\" ><label for=\"sk-estimator-id-40\" class=\"sk-toggleable__label sk-toggleable__label-arrow\">LinearRegression</label><div class=\"sk-toggleable__content\"><pre>LinearRegression()</pre></div></div></div></div></div></div></div>"
            ]
          },
          "metadata": {},
          "execution_count": 172
        }
      ]
    },
    {
      "cell_type": "code",
      "source": [
        "# cross validation scoring"
      ],
      "metadata": {
        "id": "RkAhUCWn026b"
      },
      "execution_count": null,
      "outputs": []
    },
    {
      "cell_type": "code",
      "source": [
        "scores = -cross_val_score(pipeline,\n",
        "                         X_lin2_train,\n",
        "                         y_lin2_train,\n",
        "                         scoring=\"neg_root_mean_squared_error\",\n",
        "                         cv=10)\n",
        "scores.mean()"
      ],
      "metadata": {
        "colab": {
          "base_uri": "https://localhost:8080/"
        },
        "outputId": "6dfc9ad6-eed7-44c4-a595-a0c6ae3eb279",
        "id": "O7gTy0W1026b"
      },
      "execution_count": 173,
      "outputs": [
        {
          "output_type": "execute_result",
          "data": {
            "text/plain": [
              "3700.35721021237"
            ]
          },
          "metadata": {},
          "execution_count": 173
        }
      ]
    },
    {
      "cell_type": "code",
      "source": [
        "# test scoring"
      ],
      "metadata": {
        "id": "9_Gnjkos026c"
      },
      "execution_count": null,
      "outputs": []
    },
    {
      "cell_type": "code",
      "source": [
        "print(\"Train Score : \", pipeline.score(X_lin2_train, y_lin2_train),\" Test Score : \", pipeline.score(X_lin2_test, y_lin2_test))"
      ],
      "metadata": {
        "colab": {
          "base_uri": "https://localhost:8080/"
        },
        "outputId": "f99cdc6b-db9b-4383-c8e0-2807310557d9",
        "id": "pUKEg37r026c"
      },
      "execution_count": 174,
      "outputs": [
        {
          "output_type": "stream",
          "name": "stdout",
          "text": [
            "Train Score :  0.9652896984504861  Test Score :  0.9842289358292329\n"
          ]
        }
      ]
    },
    {
      "cell_type": "code",
      "source": [
        "y_lin2_pred = pipeline.predict(X_lin2_test)"
      ],
      "metadata": {
        "id": "CT8mpUSp026c"
      },
      "execution_count": 176,
      "outputs": []
    },
    {
      "cell_type": "markdown",
      "source": [
        "RMSE"
      ],
      "metadata": {
        "id": "4z_GS2_e026c"
      }
    },
    {
      "cell_type": "code",
      "source": [
        "from sklearn.metrics import mean_squared_error\n",
        "\n",
        "rmse = np.sqrt(mean_squared_error(y_lin2_test, y_lin2_pred))\n",
        "rmse"
      ],
      "metadata": {
        "colab": {
          "base_uri": "https://localhost:8080/"
        },
        "outputId": "0c3c0fb7-e74d-4454-a4b2-5acc5aa95a3f",
        "id": "rbAt8lBJ026c"
      },
      "execution_count": 178,
      "outputs": [
        {
          "output_type": "execute_result",
          "data": {
            "text/plain": [
              "2256.045641959205"
            ]
          },
          "metadata": {},
          "execution_count": 178
        }
      ]
    },
    {
      "cell_type": "markdown",
      "source": [
        "Benchmarks"
      ],
      "metadata": {
        "id": "hK8oTy4x026c"
      }
    },
    {
      "cell_type": "code",
      "source": [
        "from sklearn.dummy import DummyRegressor\n",
        "\n",
        "mean_model = DummyRegressor(strategy=\"mean\")\n",
        "\n",
        "-cross_val_score(mean_model, X=X_lin2_train, y=y_lin2_train, cv=10,\n",
        "                           scoring=\"neg_root_mean_squared_error\").mean()"
      ],
      "metadata": {
        "colab": {
          "base_uri": "https://localhost:8080/"
        },
        "outputId": "f8a68a29-be10-45eb-fb7a-a45df77a79b2",
        "id": "jS6zi7x_026c"
      },
      "execution_count": 179,
      "outputs": [
        {
          "output_type": "execute_result",
          "data": {
            "text/plain": [
              "19659.644333209537"
            ]
          },
          "metadata": {},
          "execution_count": 179
        }
      ]
    },
    {
      "cell_type": "code",
      "source": [
        "y_lin2_test.std()"
      ],
      "metadata": {
        "colab": {
          "base_uri": "https://localhost:8080/"
        },
        "outputId": "74ff9b7b-1f3d-4c9c-c1c0-f4741409d32f",
        "id": "uueve-Ds026d"
      },
      "execution_count": 180,
      "outputs": [
        {
          "output_type": "execute_result",
          "data": {
            "text/plain": [
              "18090.661855816146"
            ]
          },
          "metadata": {},
          "execution_count": 180
        }
      ]
    },
    {
      "cell_type": "markdown",
      "source": [
        "Based on these benchmarks, I'd say our model did a much better job!"
      ],
      "metadata": {
        "id": "Oi2R_whS026d"
      }
    },
    {
      "cell_type": "markdown",
      "source": [
        "R^2"
      ],
      "metadata": {
        "id": "OMRtXvZJ026d"
      }
    },
    {
      "cell_type": "code",
      "source": [
        "r_squared = 1 - (((y_lin2_test - y_lin2_pred)**2).mean()) / ((y_lin2_test - y_lin2_pred.mean())**2).mean()\n",
        "r_squared"
      ],
      "metadata": {
        "colab": {
          "base_uri": "https://localhost:8080/"
        },
        "outputId": "699d99a7-1a11-4cad-b424-911f3efcc4a8",
        "id": "48wayTZL026d"
      },
      "execution_count": 181,
      "outputs": [
        {
          "output_type": "execute_result",
          "data": {
            "text/plain": [
              "0.9842338631197548"
            ]
          },
          "metadata": {},
          "execution_count": 181
        }
      ]
    },
    {
      "cell_type": "markdown",
      "source": [
        "That's a really good R^2 value.\n",
        "98.42% of the variability in GDP is explained by this model."
      ],
      "metadata": {
        "id": "M27rh4m9026d"
      }
    },
    {
      "cell_type": "markdown",
      "source": [
        "# Linear Regression - No Transformation\n",
        "Creating to see if we can create an ensemble method"
      ],
      "metadata": {
        "id": "d5unTqNyyMlI"
      }
    },
    {
      "cell_type": "code",
      "source": [
        "from itertools import chain, combinations\n",
        "\n",
        "def powerset(iterable):\n",
        "    features = list(iterable)\n",
        "    return chain.from_iterable(combinations(features, r) for r in range(len(features)+1))\n",
        "\n",
        "reg_features = [\"geo\", \"Year\", \"CPI\", \"Immigrants\", \"Population\", \"Housing Index\", \"emigration\", \"unemployment\", \"total_deaths\", \"Exports\", \"Imports\"]\n",
        "\n",
        "# Creating a power set of all possible regular features to test for the best model\n",
        "reg_power_set = []\n",
        "for subset in powerset(reg_features):\n",
        "    reg_power_set.append(list(subset))\n",
        "\n",
        "# First value is empty, so remove\n",
        "reg_power_set = reg_power_set[1:]\n",
        "len(reg_power_set)\n",
        "# That's a lot of combinations"
      ],
      "metadata": {
        "colab": {
          "base_uri": "https://localhost:8080/"
        },
        "outputId": "0d26940c-f770-4228-dc4f-aac89a1a196d",
        "id": "uB8Dv147yekI"
      },
      "execution_count": 112,
      "outputs": [
        {
          "output_type": "execute_result",
          "data": {
            "text/plain": [
              "2047"
            ]
          },
          "metadata": {},
          "execution_count": 112
        }
      ]
    },
    {
      "cell_type": "code",
      "source": [
        "# Takes ~5 min to run\n",
        "\n",
        "from sklearn.preprocessing import StandardScaler, OneHotEncoder\n",
        "from sklearn.linear_model import LinearRegression\n",
        "from sklearn.pipeline import make_pipeline\n",
        "from sklearn.compose import make_column_transformer\n",
        "from sklearn.model_selection import cross_val_score\n",
        "\n",
        "# define function to calculate estimate of test error for a given feature set\n",
        "def get_cv_error(features):\n",
        "\n",
        "  quant_vars = []\n",
        "  cat_vars = []\n",
        "  for feature in features:\n",
        "    if X_reg.dtypes[feature] == \"int64\" or  X_reg.dtypes[feature] == \"float64\":\n",
        "      quant_vars.append(feature)\n",
        "    else:\n",
        "      cat_vars.append(feature)\n",
        "\n",
        "  ct = make_column_transformer(\n",
        "      (StandardScaler(), quant_vars),\n",
        "      (OneHotEncoder(handle_unknown=\"ignore\"), cat_vars),\n",
        "      remainder=\"drop\"\n",
        "  )\n",
        "\n",
        "  pipeline = make_pipeline(\n",
        "      ct,\n",
        "      LinearRegression()\n",
        "  )\n",
        "  # errors from cross-validation\n",
        "  cv_errs = -cross_val_score(pipeline, X=X_reg[features],\n",
        "                             y=gdp,\n",
        "                             scoring=\"neg_mean_squared_error\", cv=10)\n",
        "  # calculate average of the cross-validation errors\n",
        "  return cv_errs.mean()\n",
        "\n",
        "  [\"geo\", \"Year\", \"CPI\", \"Immigrants\", \"Population\", \"Housing Index\", \"emigration\", \"unemployment\", \"total_deaths\", \"Exports\", \"Imports\"]\n",
        "\n",
        "# calculate and store errors for different feature sets\n",
        "errs = pd.Series()\n",
        "for features in reg_power_set:\n",
        "  errs[str(features)] = get_cv_error(features)\n",
        "\n",
        "errs"
      ],
      "metadata": {
        "colab": {
          "base_uri": "https://localhost:8080/"
        },
        "outputId": "f95955f7-1347-43d2-da0c-e92bcff7f3f5",
        "id": "V0MXaZ_ayekR"
      },
      "execution_count": 113,
      "outputs": [
        {
          "output_type": "stream",
          "name": "stderr",
          "text": [
            "<ipython-input-113-8f9f8e8e9b42>:40: FutureWarning: The default dtype for empty Series will be 'object' instead of 'float64' in a future version. Specify a dtype explicitly to silence this warning.\n",
            "  errs = pd.Series()\n"
          ]
        },
        {
          "output_type": "execute_result",
          "data": {
            "text/plain": [
              "['geo']                                                                                                                                    1.810583e+11\n",
              "['Year']                                                                                                                                   5.979601e+11\n",
              "['CPI']                                                                                                                                    5.937839e+11\n",
              "['Immigrants']                                                                                                                             1.308372e+11\n",
              "['Population']                                                                                                                             7.291611e+10\n",
              "                                                                                                                                               ...     \n",
              "['geo', 'Year', 'CPI', 'Population', 'Housing Index', 'emigration', 'unemployment', 'total_deaths', 'Exports', 'Imports']                  1.011950e+12\n",
              "['geo', 'Year', 'Immigrants', 'Population', 'Housing Index', 'emigration', 'unemployment', 'total_deaths', 'Exports', 'Imports']           1.013701e+12\n",
              "['geo', 'CPI', 'Immigrants', 'Population', 'Housing Index', 'emigration', 'unemployment', 'total_deaths', 'Exports', 'Imports']            1.067768e+12\n",
              "['Year', 'CPI', 'Immigrants', 'Population', 'Housing Index', 'emigration', 'unemployment', 'total_deaths', 'Exports', 'Imports']           5.580780e+10\n",
              "['geo', 'Year', 'CPI', 'Immigrants', 'Population', 'Housing Index', 'emigration', 'unemployment', 'total_deaths', 'Exports', 'Imports']    9.581895e+11\n",
              "Length: 2047, dtype: float64"
            ]
          },
          "metadata": {},
          "execution_count": 113
        }
      ]
    },
    {
      "cell_type": "code",
      "source": [
        "errs.sort_values()"
      ],
      "metadata": {
        "colab": {
          "base_uri": "https://localhost:8080/"
        },
        "id": "GVj-Acdo1MOK",
        "outputId": "f7938e40-5a31-46cd-cabb-f349a4721465"
      },
      "execution_count": 115,
      "outputs": [
        {
          "output_type": "execute_result",
          "data": {
            "text/plain": [
              "['geo', 'Immigrants', 'emigration', 'total_deaths', 'Imports']                            2.573979e+10\n",
              "['geo', 'CPI', 'Immigrants', 'Housing Index', 'emigration', 'total_deaths', 'Imports']    2.597665e+10\n",
              "['geo', 'Immigrants', 'Housing Index', 'emigration', 'total_deaths', 'Imports']           2.602533e+10\n",
              "['geo', 'Year', 'CPI', 'emigration', 'total_deaths', 'Imports']                           2.616357e+10\n",
              "['geo', 'Year', 'CPI', 'Immigrants', 'emigration', 'total_deaths', 'Imports']             2.624142e+10\n",
              "                                                                                              ...     \n",
              "['geo', 'Population', 'Housing Index', 'unemployment']                                    3.723337e+12\n",
              "['geo', 'Immigrants', 'Population', 'unemployment']                                       3.932125e+12\n",
              "['geo', 'Immigrants', 'Population']                                                       3.964237e+12\n",
              "['geo', 'Population', 'unemployment']                                                     4.119505e+12\n",
              "['geo', 'Population']                                                                     4.331985e+12\n",
              "Length: 2047, dtype: float64"
            ]
          },
          "metadata": {},
          "execution_count": 115
        }
      ]
    },
    {
      "cell_type": "markdown",
      "source": [
        "## Testing Out the Model\n",
        "Features = ['geo', 'Immigrants', 'emigration', 'total_deaths', 'Imports']"
      ],
      "metadata": {
        "id": "XtOOpr5a9P-n"
      }
    },
    {
      "cell_type": "code",
      "source": [
        "from sklearn.model_selection import train_test_split\n",
        "\n",
        "X_lin3 = X_reg[['geo', 'Immigrants', 'emigration', 'total_deaths', 'Imports']]\n",
        "# y = gdp\n",
        "\n",
        "# split into test and training\n",
        "X_lin3_train, X_lin3_test, y_lin3_train, y_lin3_test = train_test_split(X_lin3, gdp, test_size=0.25, random_state=0)"
      ],
      "metadata": {
        "id": "kzVMZ-xe9P-6"
      },
      "execution_count": 197,
      "outputs": []
    },
    {
      "cell_type": "code",
      "source": [
        "from sklearn.preprocessing import StandardScaler, OneHotEncoder\n",
        "from sklearn.linear_model import LinearRegression\n",
        "from sklearn.pipeline import make_pipeline\n",
        "from sklearn.compose import make_column_transformer\n",
        "from sklearn.model_selection import cross_val_score\n",
        "\n",
        "ct = make_column_transformer(\n",
        "    (StandardScaler(), ['Immigrants', 'emigration', 'total_deaths', 'Imports']),\n",
        "    (OneHotEncoder(handle_unknown=\"ignore\"), ['geo']),\n",
        "    remainder=\"drop\"\n",
        ")\n",
        "\n",
        "pipeline = make_pipeline(\n",
        "    ct,\n",
        "    LinearRegression()\n",
        ")"
      ],
      "metadata": {
        "id": "VlveLDWV9P-6"
      },
      "execution_count": 198,
      "outputs": []
    },
    {
      "cell_type": "code",
      "source": [
        "pipeline.fit(X_lin3_train, y_lin3_train)"
      ],
      "metadata": {
        "colab": {
          "base_uri": "https://localhost:8080/",
          "height": 191
        },
        "outputId": "f6b77642-8078-45aa-e57d-1b23abd0278b",
        "id": "sH58qcIb9P-7"
      },
      "execution_count": 199,
      "outputs": [
        {
          "output_type": "execute_result",
          "data": {
            "text/plain": [
              "Pipeline(steps=[('columntransformer',\n",
              "                 ColumnTransformer(transformers=[('standardscaler',\n",
              "                                                  StandardScaler(),\n",
              "                                                  ['Immigrants', 'emigration',\n",
              "                                                   'total_deaths', 'Imports']),\n",
              "                                                 ('onehotencoder',\n",
              "                                                  OneHotEncoder(handle_unknown='ignore'),\n",
              "                                                  ['geo'])])),\n",
              "                ('linearregression', LinearRegression())])"
            ],
            "text/html": [
              "<style>#sk-container-id-9 {color: black;background-color: white;}#sk-container-id-9 pre{padding: 0;}#sk-container-id-9 div.sk-toggleable {background-color: white;}#sk-container-id-9 label.sk-toggleable__label {cursor: pointer;display: block;width: 100%;margin-bottom: 0;padding: 0.3em;box-sizing: border-box;text-align: center;}#sk-container-id-9 label.sk-toggleable__label-arrow:before {content: \"▸\";float: left;margin-right: 0.25em;color: #696969;}#sk-container-id-9 label.sk-toggleable__label-arrow:hover:before {color: black;}#sk-container-id-9 div.sk-estimator:hover label.sk-toggleable__label-arrow:before {color: black;}#sk-container-id-9 div.sk-toggleable__content {max-height: 0;max-width: 0;overflow: hidden;text-align: left;background-color: #f0f8ff;}#sk-container-id-9 div.sk-toggleable__content pre {margin: 0.2em;color: black;border-radius: 0.25em;background-color: #f0f8ff;}#sk-container-id-9 input.sk-toggleable__control:checked~div.sk-toggleable__content {max-height: 200px;max-width: 100%;overflow: auto;}#sk-container-id-9 input.sk-toggleable__control:checked~label.sk-toggleable__label-arrow:before {content: \"▾\";}#sk-container-id-9 div.sk-estimator input.sk-toggleable__control:checked~label.sk-toggleable__label {background-color: #d4ebff;}#sk-container-id-9 div.sk-label input.sk-toggleable__control:checked~label.sk-toggleable__label {background-color: #d4ebff;}#sk-container-id-9 input.sk-hidden--visually {border: 0;clip: rect(1px 1px 1px 1px);clip: rect(1px, 1px, 1px, 1px);height: 1px;margin: -1px;overflow: hidden;padding: 0;position: absolute;width: 1px;}#sk-container-id-9 div.sk-estimator {font-family: monospace;background-color: #f0f8ff;border: 1px dotted black;border-radius: 0.25em;box-sizing: border-box;margin-bottom: 0.5em;}#sk-container-id-9 div.sk-estimator:hover {background-color: #d4ebff;}#sk-container-id-9 div.sk-parallel-item::after {content: \"\";width: 100%;border-bottom: 1px solid gray;flex-grow: 1;}#sk-container-id-9 div.sk-label:hover label.sk-toggleable__label {background-color: #d4ebff;}#sk-container-id-9 div.sk-serial::before {content: \"\";position: absolute;border-left: 1px solid gray;box-sizing: border-box;top: 0;bottom: 0;left: 50%;z-index: 0;}#sk-container-id-9 div.sk-serial {display: flex;flex-direction: column;align-items: center;background-color: white;padding-right: 0.2em;padding-left: 0.2em;position: relative;}#sk-container-id-9 div.sk-item {position: relative;z-index: 1;}#sk-container-id-9 div.sk-parallel {display: flex;align-items: stretch;justify-content: center;background-color: white;position: relative;}#sk-container-id-9 div.sk-item::before, #sk-container-id-9 div.sk-parallel-item::before {content: \"\";position: absolute;border-left: 1px solid gray;box-sizing: border-box;top: 0;bottom: 0;left: 50%;z-index: -1;}#sk-container-id-9 div.sk-parallel-item {display: flex;flex-direction: column;z-index: 1;position: relative;background-color: white;}#sk-container-id-9 div.sk-parallel-item:first-child::after {align-self: flex-end;width: 50%;}#sk-container-id-9 div.sk-parallel-item:last-child::after {align-self: flex-start;width: 50%;}#sk-container-id-9 div.sk-parallel-item:only-child::after {width: 0;}#sk-container-id-9 div.sk-dashed-wrapped {border: 1px dashed gray;margin: 0 0.4em 0.5em 0.4em;box-sizing: border-box;padding-bottom: 0.4em;background-color: white;}#sk-container-id-9 div.sk-label label {font-family: monospace;font-weight: bold;display: inline-block;line-height: 1.2em;}#sk-container-id-9 div.sk-label-container {text-align: center;}#sk-container-id-9 div.sk-container {/* jupyter's `normalize.less` sets `[hidden] { display: none; }` but bootstrap.min.css set `[hidden] { display: none !important; }` so we also need the `!important` here to be able to override the default hidden behavior on the sphinx rendered scikit-learn.org. See: https://github.com/scikit-learn/scikit-learn/issues/21755 */display: inline-block !important;position: relative;}#sk-container-id-9 div.sk-text-repr-fallback {display: none;}</style><div id=\"sk-container-id-9\" class=\"sk-top-container\"><div class=\"sk-text-repr-fallback\"><pre>Pipeline(steps=[(&#x27;columntransformer&#x27;,\n",
              "                 ColumnTransformer(transformers=[(&#x27;standardscaler&#x27;,\n",
              "                                                  StandardScaler(),\n",
              "                                                  [&#x27;Immigrants&#x27;, &#x27;emigration&#x27;,\n",
              "                                                   &#x27;total_deaths&#x27;, &#x27;Imports&#x27;]),\n",
              "                                                 (&#x27;onehotencoder&#x27;,\n",
              "                                                  OneHotEncoder(handle_unknown=&#x27;ignore&#x27;),\n",
              "                                                  [&#x27;geo&#x27;])])),\n",
              "                (&#x27;linearregression&#x27;, LinearRegression())])</pre><b>In a Jupyter environment, please rerun this cell to show the HTML representation or trust the notebook. <br />On GitHub, the HTML representation is unable to render, please try loading this page with nbviewer.org.</b></div><div class=\"sk-container\" hidden><div class=\"sk-item sk-dashed-wrapped\"><div class=\"sk-label-container\"><div class=\"sk-label sk-toggleable\"><input class=\"sk-toggleable__control sk-hidden--visually\" id=\"sk-estimator-id-41\" type=\"checkbox\" ><label for=\"sk-estimator-id-41\" class=\"sk-toggleable__label sk-toggleable__label-arrow\">Pipeline</label><div class=\"sk-toggleable__content\"><pre>Pipeline(steps=[(&#x27;columntransformer&#x27;,\n",
              "                 ColumnTransformer(transformers=[(&#x27;standardscaler&#x27;,\n",
              "                                                  StandardScaler(),\n",
              "                                                  [&#x27;Immigrants&#x27;, &#x27;emigration&#x27;,\n",
              "                                                   &#x27;total_deaths&#x27;, &#x27;Imports&#x27;]),\n",
              "                                                 (&#x27;onehotencoder&#x27;,\n",
              "                                                  OneHotEncoder(handle_unknown=&#x27;ignore&#x27;),\n",
              "                                                  [&#x27;geo&#x27;])])),\n",
              "                (&#x27;linearregression&#x27;, LinearRegression())])</pre></div></div></div><div class=\"sk-serial\"><div class=\"sk-item sk-dashed-wrapped\"><div class=\"sk-label-container\"><div class=\"sk-label sk-toggleable\"><input class=\"sk-toggleable__control sk-hidden--visually\" id=\"sk-estimator-id-42\" type=\"checkbox\" ><label for=\"sk-estimator-id-42\" class=\"sk-toggleable__label sk-toggleable__label-arrow\">columntransformer: ColumnTransformer</label><div class=\"sk-toggleable__content\"><pre>ColumnTransformer(transformers=[(&#x27;standardscaler&#x27;, StandardScaler(),\n",
              "                                 [&#x27;Immigrants&#x27;, &#x27;emigration&#x27;, &#x27;total_deaths&#x27;,\n",
              "                                  &#x27;Imports&#x27;]),\n",
              "                                (&#x27;onehotencoder&#x27;,\n",
              "                                 OneHotEncoder(handle_unknown=&#x27;ignore&#x27;),\n",
              "                                 [&#x27;geo&#x27;])])</pre></div></div></div><div class=\"sk-parallel\"><div class=\"sk-parallel-item\"><div class=\"sk-item\"><div class=\"sk-label-container\"><div class=\"sk-label sk-toggleable\"><input class=\"sk-toggleable__control sk-hidden--visually\" id=\"sk-estimator-id-43\" type=\"checkbox\" ><label for=\"sk-estimator-id-43\" class=\"sk-toggleable__label sk-toggleable__label-arrow\">standardscaler</label><div class=\"sk-toggleable__content\"><pre>[&#x27;Immigrants&#x27;, &#x27;emigration&#x27;, &#x27;total_deaths&#x27;, &#x27;Imports&#x27;]</pre></div></div></div><div class=\"sk-serial\"><div class=\"sk-item\"><div class=\"sk-estimator sk-toggleable\"><input class=\"sk-toggleable__control sk-hidden--visually\" id=\"sk-estimator-id-44\" type=\"checkbox\" ><label for=\"sk-estimator-id-44\" class=\"sk-toggleable__label sk-toggleable__label-arrow\">StandardScaler</label><div class=\"sk-toggleable__content\"><pre>StandardScaler()</pre></div></div></div></div></div></div><div class=\"sk-parallel-item\"><div class=\"sk-item\"><div class=\"sk-label-container\"><div class=\"sk-label sk-toggleable\"><input class=\"sk-toggleable__control sk-hidden--visually\" id=\"sk-estimator-id-45\" type=\"checkbox\" ><label for=\"sk-estimator-id-45\" class=\"sk-toggleable__label sk-toggleable__label-arrow\">onehotencoder</label><div class=\"sk-toggleable__content\"><pre>[&#x27;geo&#x27;]</pre></div></div></div><div class=\"sk-serial\"><div class=\"sk-item\"><div class=\"sk-estimator sk-toggleable\"><input class=\"sk-toggleable__control sk-hidden--visually\" id=\"sk-estimator-id-46\" type=\"checkbox\" ><label for=\"sk-estimator-id-46\" class=\"sk-toggleable__label sk-toggleable__label-arrow\">OneHotEncoder</label><div class=\"sk-toggleable__content\"><pre>OneHotEncoder(handle_unknown=&#x27;ignore&#x27;)</pre></div></div></div></div></div></div></div></div><div class=\"sk-item\"><div class=\"sk-estimator sk-toggleable\"><input class=\"sk-toggleable__control sk-hidden--visually\" id=\"sk-estimator-id-47\" type=\"checkbox\" ><label for=\"sk-estimator-id-47\" class=\"sk-toggleable__label sk-toggleable__label-arrow\">LinearRegression</label><div class=\"sk-toggleable__content\"><pre>LinearRegression()</pre></div></div></div></div></div></div></div>"
            ]
          },
          "metadata": {},
          "execution_count": 199
        }
      ]
    },
    {
      "cell_type": "code",
      "source": [
        "# cross validation scoring"
      ],
      "metadata": {
        "id": "8huow54I9P-7"
      },
      "execution_count": null,
      "outputs": []
    },
    {
      "cell_type": "code",
      "source": [
        "scores = -cross_val_score(pipeline,\n",
        "                         X_lin3_train,\n",
        "                         y_lin3_train,\n",
        "                         scoring=\"neg_root_mean_squared_error\",\n",
        "                         cv=10)\n",
        "scores.mean()"
      ],
      "metadata": {
        "colab": {
          "base_uri": "https://localhost:8080/"
        },
        "outputId": "d49a0630-7b4a-4836-d240-bd461c0b8c71",
        "id": "NyXnUimA9P-7"
      },
      "execution_count": 201,
      "outputs": [
        {
          "output_type": "execute_result",
          "data": {
            "text/plain": [
              "38021.17430563266"
            ]
          },
          "metadata": {},
          "execution_count": 201
        }
      ]
    },
    {
      "cell_type": "code",
      "source": [
        "# test scoring"
      ],
      "metadata": {
        "id": "2G5Hw2EP9P-8"
      },
      "execution_count": null,
      "outputs": []
    },
    {
      "cell_type": "code",
      "source": [
        "print(\"Train Score : \", pipeline.score(X_lin3_train, y_lin3_train),\" Test Score : \", pipeline.score(X_lin3_test, y_lin3_test))"
      ],
      "metadata": {
        "colab": {
          "base_uri": "https://localhost:8080/"
        },
        "outputId": "2f3b1222-f1d5-477b-a636-f3f35e4d644a",
        "id": "r1yldGrD9P-8"
      },
      "execution_count": 202,
      "outputs": [
        {
          "output_type": "stream",
          "name": "stdout",
          "text": [
            "Train Score :  0.9983561233574343  Test Score :  0.9975992775706017\n"
          ]
        }
      ]
    },
    {
      "cell_type": "code",
      "source": [
        "y_lin3_pred = pipeline.predict(X_lin3_test)"
      ],
      "metadata": {
        "id": "ITbXWH_R9P-8"
      },
      "execution_count": 205,
      "outputs": []
    },
    {
      "cell_type": "markdown",
      "source": [
        "RMSE"
      ],
      "metadata": {
        "id": "zO9YRZga9P-8"
      }
    },
    {
      "cell_type": "code",
      "source": [
        "from sklearn.metrics import mean_squared_error\n",
        "\n",
        "rmse = np.sqrt(mean_squared_error(y_lin3_test, y_lin3_pred))\n",
        "rmse"
      ],
      "metadata": {
        "colab": {
          "base_uri": "https://localhost:8080/"
        },
        "outputId": "71eebc56-4935-4e6b-cdcf-57a6f03fa41d",
        "id": "cfTyMUg19P-8"
      },
      "execution_count": 206,
      "outputs": [
        {
          "output_type": "execute_result",
          "data": {
            "text/plain": [
              "42190.426261967914"
            ]
          },
          "metadata": {},
          "execution_count": 206
        }
      ]
    },
    {
      "cell_type": "markdown",
      "source": [
        "Benchmark"
      ],
      "metadata": {
        "id": "_gbLUoVH9P-8"
      }
    },
    {
      "cell_type": "code",
      "source": [
        "from sklearn.dummy import DummyRegressor\n",
        "\n",
        "mean_model = DummyRegressor(strategy=\"mean\")\n",
        "\n",
        "-cross_val_score(mean_model, X=X_lin3_train, y=y_lin3_train, cv=10,\n",
        "                           scoring=\"neg_root_mean_squared_error\").mean()"
      ],
      "metadata": {
        "colab": {
          "base_uri": "https://localhost:8080/"
        },
        "outputId": "82cadb22-3690-4690-e584-a024cb8b4085",
        "id": "THd_QY0t9P-9"
      },
      "execution_count": 207,
      "outputs": [
        {
          "output_type": "execute_result",
          "data": {
            "text/plain": [
              "690927.3333981774"
            ]
          },
          "metadata": {},
          "execution_count": 207
        }
      ]
    },
    {
      "cell_type": "code",
      "source": [
        "y_lin3_test.std()"
      ],
      "metadata": {
        "colab": {
          "base_uri": "https://localhost:8080/"
        },
        "outputId": "65d0aef9-ff91-4009-bdb9-d4b259124f8a",
        "id": "Mx4SuzGG9P-9"
      },
      "execution_count": 224,
      "outputs": [
        {
          "output_type": "execute_result",
          "data": {
            "text/plain": [
              "867121.6148310832"
            ]
          },
          "metadata": {},
          "execution_count": 224
        }
      ]
    },
    {
      "cell_type": "markdown",
      "source": [
        "Based on these benchmarks, I'd say our model did a much better job!"
      ],
      "metadata": {
        "id": "Ip-sTD3r9P-9"
      }
    },
    {
      "cell_type": "markdown",
      "source": [
        "R^2"
      ],
      "metadata": {
        "id": "BGHI9SW19P-9"
      }
    },
    {
      "cell_type": "code",
      "source": [
        "r_squared = 1 - (((y_lin3_test - y_lin3_pred)**2).mean()) / ((y_lin3_test - y_lin3_pred.mean())**2).mean()\n",
        "r_squared"
      ],
      "metadata": {
        "colab": {
          "base_uri": "https://localhost:8080/"
        },
        "outputId": "3640acf0-2744-45f7-e42a-b70866b5f6a8",
        "id": "wdddGYVQ9P-9"
      },
      "execution_count": 209,
      "outputs": [
        {
          "output_type": "execute_result",
          "data": {
            "text/plain": [
              "0.9975993796502242"
            ]
          },
          "metadata": {},
          "execution_count": 209
        }
      ]
    },
    {
      "cell_type": "markdown",
      "source": [
        "That's a really good R^2 value.\n",
        "99.75% of the variability in GDP is explained by this model."
      ],
      "metadata": {
        "id": "a6LTzuf99P-9"
      }
    },
    {
      "cell_type": "markdown",
      "source": [
        "# Linear Regression No Transformation - Predicting for 2021\n",
        "Removing 2021 from the dataset and seeing how the model performs for an unknown year"
      ],
      "metadata": {
        "id": "KTg7ck6c-t69"
      }
    },
    {
      "cell_type": "code",
      "source": [
        "# train\n",
        "X_lin3 = X_reg[['geo', 'Immigrants', 'emigration', 'total_deaths', 'Imports', 'Year']]\n",
        "\n",
        "# concatenate X and y\n",
        "df_combined = pd.concat([X_lin3, pd.DataFrame(gdp)], axis=1)\n",
        "\n",
        "no_2021 = df_combined[df_combined[\"Year\"] != 2021]\n",
        "X_lin3_no_2021 = no_2021.drop(columns=[\"GDP\", \"Year\"])\n",
        "gdp_no_2021 = no_2021[\"GDP\"]\n",
        "\n",
        "yes_2021 = df_combined[df_combined[\"Year\"] == 2021]\n",
        "X_lin3_yes_2021 = yes_2021.drop(columns=[\"GDP\", \"Year\"])\n",
        "gdp_yes_2021 = yes_2021[\"GDP\"]"
      ],
      "metadata": {
        "id": "K9Qn-f3O-t69"
      },
      "execution_count": 225,
      "outputs": []
    },
    {
      "cell_type": "code",
      "source": [
        "from sklearn.preprocessing import StandardScaler, OneHotEncoder\n",
        "from sklearn.linear_model import LinearRegression\n",
        "from sklearn.pipeline import make_pipeline\n",
        "from sklearn.compose import make_column_transformer\n",
        "from sklearn.model_selection import cross_val_score\n",
        "\n",
        "ct = make_column_transformer(\n",
        "    (StandardScaler(), ['Immigrants', 'emigration', 'total_deaths', 'Imports']),\n",
        "    (OneHotEncoder(handle_unknown=\"ignore\"), ['geo']),\n",
        "    remainder=\"drop\"\n",
        ")\n",
        "\n",
        "pipeline = make_pipeline(\n",
        "    ct,\n",
        "    LinearRegression()\n",
        ")"
      ],
      "metadata": {
        "id": "eluc-mQh-t6-"
      },
      "execution_count": 226,
      "outputs": []
    },
    {
      "cell_type": "code",
      "source": [
        "pipeline.fit(X_lin3_no_2021, gdp_no_2021)"
      ],
      "metadata": {
        "colab": {
          "base_uri": "https://localhost:8080/",
          "height": 191
        },
        "outputId": "bada274d-14cb-48f9-bbea-82e8ba2ac6f5",
        "id": "FfAfYszz-t6-"
      },
      "execution_count": 227,
      "outputs": [
        {
          "output_type": "execute_result",
          "data": {
            "text/plain": [
              "Pipeline(steps=[('columntransformer',\n",
              "                 ColumnTransformer(transformers=[('standardscaler',\n",
              "                                                  StandardScaler(),\n",
              "                                                  ['Immigrants', 'emigration',\n",
              "                                                   'total_deaths', 'Imports']),\n",
              "                                                 ('onehotencoder',\n",
              "                                                  OneHotEncoder(handle_unknown='ignore'),\n",
              "                                                  ['geo'])])),\n",
              "                ('linearregression', LinearRegression())])"
            ],
            "text/html": [
              "<style>#sk-container-id-11 {color: black;background-color: white;}#sk-container-id-11 pre{padding: 0;}#sk-container-id-11 div.sk-toggleable {background-color: white;}#sk-container-id-11 label.sk-toggleable__label {cursor: pointer;display: block;width: 100%;margin-bottom: 0;padding: 0.3em;box-sizing: border-box;text-align: center;}#sk-container-id-11 label.sk-toggleable__label-arrow:before {content: \"▸\";float: left;margin-right: 0.25em;color: #696969;}#sk-container-id-11 label.sk-toggleable__label-arrow:hover:before {color: black;}#sk-container-id-11 div.sk-estimator:hover label.sk-toggleable__label-arrow:before {color: black;}#sk-container-id-11 div.sk-toggleable__content {max-height: 0;max-width: 0;overflow: hidden;text-align: left;background-color: #f0f8ff;}#sk-container-id-11 div.sk-toggleable__content pre {margin: 0.2em;color: black;border-radius: 0.25em;background-color: #f0f8ff;}#sk-container-id-11 input.sk-toggleable__control:checked~div.sk-toggleable__content {max-height: 200px;max-width: 100%;overflow: auto;}#sk-container-id-11 input.sk-toggleable__control:checked~label.sk-toggleable__label-arrow:before {content: \"▾\";}#sk-container-id-11 div.sk-estimator input.sk-toggleable__control:checked~label.sk-toggleable__label {background-color: #d4ebff;}#sk-container-id-11 div.sk-label input.sk-toggleable__control:checked~label.sk-toggleable__label {background-color: #d4ebff;}#sk-container-id-11 input.sk-hidden--visually {border: 0;clip: rect(1px 1px 1px 1px);clip: rect(1px, 1px, 1px, 1px);height: 1px;margin: -1px;overflow: hidden;padding: 0;position: absolute;width: 1px;}#sk-container-id-11 div.sk-estimator {font-family: monospace;background-color: #f0f8ff;border: 1px dotted black;border-radius: 0.25em;box-sizing: border-box;margin-bottom: 0.5em;}#sk-container-id-11 div.sk-estimator:hover {background-color: #d4ebff;}#sk-container-id-11 div.sk-parallel-item::after {content: \"\";width: 100%;border-bottom: 1px solid gray;flex-grow: 1;}#sk-container-id-11 div.sk-label:hover label.sk-toggleable__label {background-color: #d4ebff;}#sk-container-id-11 div.sk-serial::before {content: \"\";position: absolute;border-left: 1px solid gray;box-sizing: border-box;top: 0;bottom: 0;left: 50%;z-index: 0;}#sk-container-id-11 div.sk-serial {display: flex;flex-direction: column;align-items: center;background-color: white;padding-right: 0.2em;padding-left: 0.2em;position: relative;}#sk-container-id-11 div.sk-item {position: relative;z-index: 1;}#sk-container-id-11 div.sk-parallel {display: flex;align-items: stretch;justify-content: center;background-color: white;position: relative;}#sk-container-id-11 div.sk-item::before, #sk-container-id-11 div.sk-parallel-item::before {content: \"\";position: absolute;border-left: 1px solid gray;box-sizing: border-box;top: 0;bottom: 0;left: 50%;z-index: -1;}#sk-container-id-11 div.sk-parallel-item {display: flex;flex-direction: column;z-index: 1;position: relative;background-color: white;}#sk-container-id-11 div.sk-parallel-item:first-child::after {align-self: flex-end;width: 50%;}#sk-container-id-11 div.sk-parallel-item:last-child::after {align-self: flex-start;width: 50%;}#sk-container-id-11 div.sk-parallel-item:only-child::after {width: 0;}#sk-container-id-11 div.sk-dashed-wrapped {border: 1px dashed gray;margin: 0 0.4em 0.5em 0.4em;box-sizing: border-box;padding-bottom: 0.4em;background-color: white;}#sk-container-id-11 div.sk-label label {font-family: monospace;font-weight: bold;display: inline-block;line-height: 1.2em;}#sk-container-id-11 div.sk-label-container {text-align: center;}#sk-container-id-11 div.sk-container {/* jupyter's `normalize.less` sets `[hidden] { display: none; }` but bootstrap.min.css set `[hidden] { display: none !important; }` so we also need the `!important` here to be able to override the default hidden behavior on the sphinx rendered scikit-learn.org. See: https://github.com/scikit-learn/scikit-learn/issues/21755 */display: inline-block !important;position: relative;}#sk-container-id-11 div.sk-text-repr-fallback {display: none;}</style><div id=\"sk-container-id-11\" class=\"sk-top-container\"><div class=\"sk-text-repr-fallback\"><pre>Pipeline(steps=[(&#x27;columntransformer&#x27;,\n",
              "                 ColumnTransformer(transformers=[(&#x27;standardscaler&#x27;,\n",
              "                                                  StandardScaler(),\n",
              "                                                  [&#x27;Immigrants&#x27;, &#x27;emigration&#x27;,\n",
              "                                                   &#x27;total_deaths&#x27;, &#x27;Imports&#x27;]),\n",
              "                                                 (&#x27;onehotencoder&#x27;,\n",
              "                                                  OneHotEncoder(handle_unknown=&#x27;ignore&#x27;),\n",
              "                                                  [&#x27;geo&#x27;])])),\n",
              "                (&#x27;linearregression&#x27;, LinearRegression())])</pre><b>In a Jupyter environment, please rerun this cell to show the HTML representation or trust the notebook. <br />On GitHub, the HTML representation is unable to render, please try loading this page with nbviewer.org.</b></div><div class=\"sk-container\" hidden><div class=\"sk-item sk-dashed-wrapped\"><div class=\"sk-label-container\"><div class=\"sk-label sk-toggleable\"><input class=\"sk-toggleable__control sk-hidden--visually\" id=\"sk-estimator-id-55\" type=\"checkbox\" ><label for=\"sk-estimator-id-55\" class=\"sk-toggleable__label sk-toggleable__label-arrow\">Pipeline</label><div class=\"sk-toggleable__content\"><pre>Pipeline(steps=[(&#x27;columntransformer&#x27;,\n",
              "                 ColumnTransformer(transformers=[(&#x27;standardscaler&#x27;,\n",
              "                                                  StandardScaler(),\n",
              "                                                  [&#x27;Immigrants&#x27;, &#x27;emigration&#x27;,\n",
              "                                                   &#x27;total_deaths&#x27;, &#x27;Imports&#x27;]),\n",
              "                                                 (&#x27;onehotencoder&#x27;,\n",
              "                                                  OneHotEncoder(handle_unknown=&#x27;ignore&#x27;),\n",
              "                                                  [&#x27;geo&#x27;])])),\n",
              "                (&#x27;linearregression&#x27;, LinearRegression())])</pre></div></div></div><div class=\"sk-serial\"><div class=\"sk-item sk-dashed-wrapped\"><div class=\"sk-label-container\"><div class=\"sk-label sk-toggleable\"><input class=\"sk-toggleable__control sk-hidden--visually\" id=\"sk-estimator-id-56\" type=\"checkbox\" ><label for=\"sk-estimator-id-56\" class=\"sk-toggleable__label sk-toggleable__label-arrow\">columntransformer: ColumnTransformer</label><div class=\"sk-toggleable__content\"><pre>ColumnTransformer(transformers=[(&#x27;standardscaler&#x27;, StandardScaler(),\n",
              "                                 [&#x27;Immigrants&#x27;, &#x27;emigration&#x27;, &#x27;total_deaths&#x27;,\n",
              "                                  &#x27;Imports&#x27;]),\n",
              "                                (&#x27;onehotencoder&#x27;,\n",
              "                                 OneHotEncoder(handle_unknown=&#x27;ignore&#x27;),\n",
              "                                 [&#x27;geo&#x27;])])</pre></div></div></div><div class=\"sk-parallel\"><div class=\"sk-parallel-item\"><div class=\"sk-item\"><div class=\"sk-label-container\"><div class=\"sk-label sk-toggleable\"><input class=\"sk-toggleable__control sk-hidden--visually\" id=\"sk-estimator-id-57\" type=\"checkbox\" ><label for=\"sk-estimator-id-57\" class=\"sk-toggleable__label sk-toggleable__label-arrow\">standardscaler</label><div class=\"sk-toggleable__content\"><pre>[&#x27;Immigrants&#x27;, &#x27;emigration&#x27;, &#x27;total_deaths&#x27;, &#x27;Imports&#x27;]</pre></div></div></div><div class=\"sk-serial\"><div class=\"sk-item\"><div class=\"sk-estimator sk-toggleable\"><input class=\"sk-toggleable__control sk-hidden--visually\" id=\"sk-estimator-id-58\" type=\"checkbox\" ><label for=\"sk-estimator-id-58\" class=\"sk-toggleable__label sk-toggleable__label-arrow\">StandardScaler</label><div class=\"sk-toggleable__content\"><pre>StandardScaler()</pre></div></div></div></div></div></div><div class=\"sk-parallel-item\"><div class=\"sk-item\"><div class=\"sk-label-container\"><div class=\"sk-label sk-toggleable\"><input class=\"sk-toggleable__control sk-hidden--visually\" id=\"sk-estimator-id-59\" type=\"checkbox\" ><label for=\"sk-estimator-id-59\" class=\"sk-toggleable__label sk-toggleable__label-arrow\">onehotencoder</label><div class=\"sk-toggleable__content\"><pre>[&#x27;geo&#x27;]</pre></div></div></div><div class=\"sk-serial\"><div class=\"sk-item\"><div class=\"sk-estimator sk-toggleable\"><input class=\"sk-toggleable__control sk-hidden--visually\" id=\"sk-estimator-id-60\" type=\"checkbox\" ><label for=\"sk-estimator-id-60\" class=\"sk-toggleable__label sk-toggleable__label-arrow\">OneHotEncoder</label><div class=\"sk-toggleable__content\"><pre>OneHotEncoder(handle_unknown=&#x27;ignore&#x27;)</pre></div></div></div></div></div></div></div></div><div class=\"sk-item\"><div class=\"sk-estimator sk-toggleable\"><input class=\"sk-toggleable__control sk-hidden--visually\" id=\"sk-estimator-id-61\" type=\"checkbox\" ><label for=\"sk-estimator-id-61\" class=\"sk-toggleable__label sk-toggleable__label-arrow\">LinearRegression</label><div class=\"sk-toggleable__content\"><pre>LinearRegression()</pre></div></div></div></div></div></div></div>"
            ]
          },
          "metadata": {},
          "execution_count": 227
        }
      ]
    },
    {
      "cell_type": "code",
      "source": [
        "# cross validation scoring"
      ],
      "metadata": {
        "id": "vNzpYM1r-t6-"
      },
      "execution_count": null,
      "outputs": []
    },
    {
      "cell_type": "code",
      "source": [
        "scores = -cross_val_score(pipeline,\n",
        "                         X_lin3_no_2021,\n",
        "                         gdp_no_2021,\n",
        "                         scoring=\"neg_root_mean_squared_error\",\n",
        "                         cv=10)\n",
        "scores.mean()"
      ],
      "metadata": {
        "colab": {
          "base_uri": "https://localhost:8080/"
        },
        "outputId": "acde58f8-bf99-4e9d-c020-ff9b2d96a6e9",
        "id": "wqESCzu4-t6-"
      },
      "execution_count": 228,
      "outputs": [
        {
          "output_type": "execute_result",
          "data": {
            "text/plain": [
              "129483.09053418187"
            ]
          },
          "metadata": {},
          "execution_count": 228
        }
      ]
    },
    {
      "cell_type": "code",
      "source": [
        "# test scoring"
      ],
      "metadata": {
        "id": "NaeuZ7w3-t6_"
      },
      "execution_count": null,
      "outputs": []
    },
    {
      "cell_type": "code",
      "source": [
        "print(\"Train Score : \", pipeline.score(X_lin3_no_2021, gdp_no_2021),\" Test Score : \", pipeline.score(X_lin3_yes_2021, gdp_yes_2021))"
      ],
      "metadata": {
        "colab": {
          "base_uri": "https://localhost:8080/"
        },
        "outputId": "5670171b-5614-4e8a-8d8b-746ea9c4b552",
        "id": "tVsxQqlh-t6_"
      },
      "execution_count": 217,
      "outputs": [
        {
          "output_type": "stream",
          "name": "stdout",
          "text": [
            "Train Score :  0.9988080413836591  Test Score :  0.9918942551268459\n"
          ]
        }
      ]
    },
    {
      "cell_type": "code",
      "source": [
        "y_lin3_2021_pred = pipeline.predict(X_lin3_yes_2021)"
      ],
      "metadata": {
        "id": "bndzdOP8-t6_"
      },
      "execution_count": 218,
      "outputs": []
    },
    {
      "cell_type": "markdown",
      "source": [
        "RMSE"
      ],
      "metadata": {
        "id": "fUttRZzJ-t6_"
      }
    },
    {
      "cell_type": "code",
      "source": [
        "from sklearn.metrics import mean_squared_error\n",
        "\n",
        "rmse = np.sqrt(mean_squared_error(gdp_yes_2021, y_lin3_2021_pred))\n",
        "rmse"
      ],
      "metadata": {
        "colab": {
          "base_uri": "https://localhost:8080/"
        },
        "outputId": "92731166-969a-417d-976f-85462d037a11",
        "id": "IB_hGkwm-t6_"
      },
      "execution_count": 229,
      "outputs": [
        {
          "output_type": "execute_result",
          "data": {
            "text/plain": [
              "75970.98427215328"
            ]
          },
          "metadata": {},
          "execution_count": 229
        }
      ]
    },
    {
      "cell_type": "markdown",
      "source": [
        "Benchmark"
      ],
      "metadata": {
        "id": "qOnr8ju8-t6_"
      }
    },
    {
      "cell_type": "code",
      "source": [
        "gdp_yes_2021.std()"
      ],
      "metadata": {
        "colab": {
          "base_uri": "https://localhost:8080/"
        },
        "outputId": "c39a6f6f-9e57-4123-f5e3-149dd87831d0",
        "id": "rMnIZdgf-t7A"
      },
      "execution_count": 230,
      "outputs": [
        {
          "output_type": "execute_result",
          "data": {
            "text/plain": [
              "860533.8484067871"
            ]
          },
          "metadata": {},
          "execution_count": 230
        }
      ]
    },
    {
      "cell_type": "code",
      "source": [
        "from sklearn.dummy import DummyRegressor\n",
        "\n",
        "mean_model = DummyRegressor(strategy=\"mean\")\n",
        "\n",
        "-cross_val_score(mean_model, X=X_lin3_no_2021, y=gdp_no_2021, cv=10,\n",
        "                           scoring=\"neg_root_mean_squared_error\").mean()"
      ],
      "metadata": {
        "colab": {
          "base_uri": "https://localhost:8080/"
        },
        "id": "_Sr_EGehIV-1",
        "outputId": "14008350-f25e-43c3-a8d2-acee842a8353"
      },
      "execution_count": 232,
      "outputs": [
        {
          "output_type": "execute_result",
          "data": {
            "text/plain": [
              "659915.7065210016"
            ]
          },
          "metadata": {},
          "execution_count": 232
        }
      ]
    },
    {
      "cell_type": "markdown",
      "source": [
        "Based on this benchmark, I'd say our model did a much better job!"
      ],
      "metadata": {
        "id": "NF5eXAEb-t7A"
      }
    },
    {
      "cell_type": "markdown",
      "source": [
        "R^2"
      ],
      "metadata": {
        "id": "8EgnjfKS-t7A"
      }
    },
    {
      "cell_type": "code",
      "source": [
        "r_squared = 1 - (((gdp_yes_2021 - y_lin3_2021_pred)**2).mean()) / ((gdp_yes_2021 - y_lin3_2021_pred.mean())**2).mean()\n",
        "r_squared"
      ],
      "metadata": {
        "colab": {
          "base_uri": "https://localhost:8080/"
        },
        "outputId": "b9db5581-aa9c-4398-8ee1-abc9cd948ad3",
        "id": "wSypQA_--t7A"
      },
      "execution_count": 231,
      "outputs": [
        {
          "output_type": "execute_result",
          "data": {
            "text/plain": [
              "0.9919075657037448"
            ]
          },
          "metadata": {},
          "execution_count": 231
        }
      ]
    },
    {
      "cell_type": "markdown",
      "source": [
        "That's a really good R^2 value.\n",
        "99.2% of the variability in GDP is explained by this model."
      ],
      "metadata": {
        "id": "A5D5FTPZ-t7A"
      }
    },
    {
      "cell_type": "markdown",
      "source": [
        "# Ensemble\n",
        "Combine KNN and Linear Regression w/o Transformation"
      ],
      "metadata": {
        "id": "wxQ7jo4yGKnC"
      }
    },
    {
      "cell_type": "code",
      "source": [
        "# KNN pipeline\n",
        "from sklearn.preprocessing import StandardScaler, OneHotEncoder\n",
        "from sklearn.neighbors import KNeighborsRegressor\n",
        "from sklearn.pipeline import make_pipeline\n",
        "from sklearn.compose import make_column_transformer\n",
        "from sklearn.model_selection import cross_val_score\n",
        "\n",
        "k_ct = make_column_transformer(\n",
        "    (StandardScaler(), ['Year', 'Population', 'Imports']),\n",
        "    (OneHotEncoder(handle_unknown=\"ignore\"), ['geo']),\n",
        "    remainder=\"drop\"\n",
        ")\n",
        "\n",
        "k_pipeline = make_pipeline(\n",
        "    k_ct,\n",
        "    KNeighborsRegressor(n_neighbors=8)\n",
        ")"
      ],
      "metadata": {
        "id": "MCMPHBn6SkgZ"
      },
      "execution_count": 255,
      "outputs": []
    },
    {
      "cell_type": "code",
      "source": [
        "# Linear Regression pipeline\n",
        "from sklearn.preprocessing import StandardScaler, OneHotEncoder\n",
        "from sklearn.linear_model import LinearRegression\n",
        "from sklearn.pipeline import make_pipeline\n",
        "from sklearn.compose import make_column_transformer\n",
        "from sklearn.model_selection import cross_val_score\n",
        "\n",
        "l_ct = make_column_transformer(\n",
        "    (StandardScaler(), ['Immigrants', 'emigration', 'total_deaths', 'Imports']),\n",
        "    (OneHotEncoder(handle_unknown=\"ignore\"), ['geo']),\n",
        "    remainder=\"drop\"\n",
        ")\n",
        "\n",
        "l_pipeline = make_pipeline(\n",
        "    l_ct,\n",
        "    LinearRegression()\n",
        ")"
      ],
      "metadata": {
        "id": "Px3gNP3USnkX"
      },
      "execution_count": 256,
      "outputs": []
    },
    {
      "cell_type": "code",
      "source": [
        "X_train = X_reg[['Immigrants', 'emigration', 'total_deaths', 'Imports', 'geo', 'Year', 'Population']]\n",
        "y_train = gdp"
      ],
      "metadata": {
        "id": "qh-vBZIFUXR1"
      },
      "execution_count": 260,
      "outputs": []
    },
    {
      "cell_type": "code",
      "source": [
        "from sklearn.ensemble import StackingRegressor\n",
        "\n",
        "stack_model = StackingRegressor([\n",
        "    (\"knn_model\", k_pipeline),\n",
        "    (\"linear_model\", l_pipeline)],\n",
        "    final_estimator=LinearRegression()\n",
        ")\n",
        "stack_model.fit(X_train, y_train)"
      ],
      "metadata": {
        "colab": {
          "base_uri": "https://localhost:8080/",
          "height": 261
        },
        "id": "ibNJlB4KUOSk",
        "outputId": "49614803-117c-4f28-cdca-374c7b634d47"
      },
      "execution_count": 261,
      "outputs": [
        {
          "output_type": "execute_result",
          "data": {
            "text/plain": [
              "StackingRegressor(estimators=[('knn_model',\n",
              "                               Pipeline(steps=[('columntransformer',\n",
              "                                                ColumnTransformer(transformers=[('standardscaler',\n",
              "                                                                                 StandardScaler(),\n",
              "                                                                                 ['Year',\n",
              "                                                                                  'Population',\n",
              "                                                                                  'Imports']),\n",
              "                                                                                ('onehotencoder',\n",
              "                                                                                 OneHotEncoder(handle_unknown='ignore'),\n",
              "                                                                                 ['geo'])])),\n",
              "                                               ('kneighborsregressor',\n",
              "                                                KNeighborsRegressor(n_neighbors=8))])),\n",
              "                              ('linear_model',\n",
              "                               Pipeline(steps=[('columntransformer',\n",
              "                                                ColumnTransformer(transformers=[('standardscaler',\n",
              "                                                                                 StandardScaler(),\n",
              "                                                                                 ['Immigrants',\n",
              "                                                                                  'emigration',\n",
              "                                                                                  'total_deaths',\n",
              "                                                                                  'Imports']),\n",
              "                                                                                ('onehotencoder',\n",
              "                                                                                 OneHotEncoder(handle_unknown='ignore'),\n",
              "                                                                                 ['geo'])])),\n",
              "                                               ('linearregression',\n",
              "                                                LinearRegression())]))],\n",
              "                  final_estimator=LinearRegression())"
            ],
            "text/html": [
              "<style>#sk-container-id-15 {color: black;background-color: white;}#sk-container-id-15 pre{padding: 0;}#sk-container-id-15 div.sk-toggleable {background-color: white;}#sk-container-id-15 label.sk-toggleable__label {cursor: pointer;display: block;width: 100%;margin-bottom: 0;padding: 0.3em;box-sizing: border-box;text-align: center;}#sk-container-id-15 label.sk-toggleable__label-arrow:before {content: \"▸\";float: left;margin-right: 0.25em;color: #696969;}#sk-container-id-15 label.sk-toggleable__label-arrow:hover:before {color: black;}#sk-container-id-15 div.sk-estimator:hover label.sk-toggleable__label-arrow:before {color: black;}#sk-container-id-15 div.sk-toggleable__content {max-height: 0;max-width: 0;overflow: hidden;text-align: left;background-color: #f0f8ff;}#sk-container-id-15 div.sk-toggleable__content pre {margin: 0.2em;color: black;border-radius: 0.25em;background-color: #f0f8ff;}#sk-container-id-15 input.sk-toggleable__control:checked~div.sk-toggleable__content {max-height: 200px;max-width: 100%;overflow: auto;}#sk-container-id-15 input.sk-toggleable__control:checked~label.sk-toggleable__label-arrow:before {content: \"▾\";}#sk-container-id-15 div.sk-estimator input.sk-toggleable__control:checked~label.sk-toggleable__label {background-color: #d4ebff;}#sk-container-id-15 div.sk-label input.sk-toggleable__control:checked~label.sk-toggleable__label {background-color: #d4ebff;}#sk-container-id-15 input.sk-hidden--visually {border: 0;clip: rect(1px 1px 1px 1px);clip: rect(1px, 1px, 1px, 1px);height: 1px;margin: -1px;overflow: hidden;padding: 0;position: absolute;width: 1px;}#sk-container-id-15 div.sk-estimator {font-family: monospace;background-color: #f0f8ff;border: 1px dotted black;border-radius: 0.25em;box-sizing: border-box;margin-bottom: 0.5em;}#sk-container-id-15 div.sk-estimator:hover {background-color: #d4ebff;}#sk-container-id-15 div.sk-parallel-item::after {content: \"\";width: 100%;border-bottom: 1px solid gray;flex-grow: 1;}#sk-container-id-15 div.sk-label:hover label.sk-toggleable__label {background-color: #d4ebff;}#sk-container-id-15 div.sk-serial::before {content: \"\";position: absolute;border-left: 1px solid gray;box-sizing: border-box;top: 0;bottom: 0;left: 50%;z-index: 0;}#sk-container-id-15 div.sk-serial {display: flex;flex-direction: column;align-items: center;background-color: white;padding-right: 0.2em;padding-left: 0.2em;position: relative;}#sk-container-id-15 div.sk-item {position: relative;z-index: 1;}#sk-container-id-15 div.sk-parallel {display: flex;align-items: stretch;justify-content: center;background-color: white;position: relative;}#sk-container-id-15 div.sk-item::before, #sk-container-id-15 div.sk-parallel-item::before {content: \"\";position: absolute;border-left: 1px solid gray;box-sizing: border-box;top: 0;bottom: 0;left: 50%;z-index: -1;}#sk-container-id-15 div.sk-parallel-item {display: flex;flex-direction: column;z-index: 1;position: relative;background-color: white;}#sk-container-id-15 div.sk-parallel-item:first-child::after {align-self: flex-end;width: 50%;}#sk-container-id-15 div.sk-parallel-item:last-child::after {align-self: flex-start;width: 50%;}#sk-container-id-15 div.sk-parallel-item:only-child::after {width: 0;}#sk-container-id-15 div.sk-dashed-wrapped {border: 1px dashed gray;margin: 0 0.4em 0.5em 0.4em;box-sizing: border-box;padding-bottom: 0.4em;background-color: white;}#sk-container-id-15 div.sk-label label {font-family: monospace;font-weight: bold;display: inline-block;line-height: 1.2em;}#sk-container-id-15 div.sk-label-container {text-align: center;}#sk-container-id-15 div.sk-container {/* jupyter's `normalize.less` sets `[hidden] { display: none; }` but bootstrap.min.css set `[hidden] { display: none !important; }` so we also need the `!important` here to be able to override the default hidden behavior on the sphinx rendered scikit-learn.org. See: https://github.com/scikit-learn/scikit-learn/issues/21755 */display: inline-block !important;position: relative;}#sk-container-id-15 div.sk-text-repr-fallback {display: none;}</style><div id=\"sk-container-id-15\" class=\"sk-top-container\"><div class=\"sk-text-repr-fallback\"><pre>StackingRegressor(estimators=[(&#x27;knn_model&#x27;,\n",
              "                               Pipeline(steps=[(&#x27;columntransformer&#x27;,\n",
              "                                                ColumnTransformer(transformers=[(&#x27;standardscaler&#x27;,\n",
              "                                                                                 StandardScaler(),\n",
              "                                                                                 [&#x27;Year&#x27;,\n",
              "                                                                                  &#x27;Population&#x27;,\n",
              "                                                                                  &#x27;Imports&#x27;]),\n",
              "                                                                                (&#x27;onehotencoder&#x27;,\n",
              "                                                                                 OneHotEncoder(handle_unknown=&#x27;ignore&#x27;),\n",
              "                                                                                 [&#x27;geo&#x27;])])),\n",
              "                                               (&#x27;kneighborsregressor&#x27;,\n",
              "                                                KNeighborsRegressor(n_neighbors=8))])),\n",
              "                              (&#x27;linear_model&#x27;,\n",
              "                               Pipeline(steps=[(&#x27;columntransformer&#x27;,\n",
              "                                                ColumnTransformer(transformers=[(&#x27;standardscaler&#x27;,\n",
              "                                                                                 StandardScaler(),\n",
              "                                                                                 [&#x27;Immigrants&#x27;,\n",
              "                                                                                  &#x27;emigration&#x27;,\n",
              "                                                                                  &#x27;total_deaths&#x27;,\n",
              "                                                                                  &#x27;Imports&#x27;]),\n",
              "                                                                                (&#x27;onehotencoder&#x27;,\n",
              "                                                                                 OneHotEncoder(handle_unknown=&#x27;ignore&#x27;),\n",
              "                                                                                 [&#x27;geo&#x27;])])),\n",
              "                                               (&#x27;linearregression&#x27;,\n",
              "                                                LinearRegression())]))],\n",
              "                  final_estimator=LinearRegression())</pre><b>In a Jupyter environment, please rerun this cell to show the HTML representation or trust the notebook. <br />On GitHub, the HTML representation is unable to render, please try loading this page with nbviewer.org.</b></div><div class=\"sk-container\" hidden><div class=\"sk-item sk-dashed-wrapped\"><div class=\"sk-label-container\"><div class=\"sk-label sk-toggleable\"><input class=\"sk-toggleable__control sk-hidden--visually\" id=\"sk-estimator-id-75\" type=\"checkbox\" ><label for=\"sk-estimator-id-75\" class=\"sk-toggleable__label sk-toggleable__label-arrow\">StackingRegressor</label><div class=\"sk-toggleable__content\"><pre>StackingRegressor(estimators=[(&#x27;knn_model&#x27;,\n",
              "                               Pipeline(steps=[(&#x27;columntransformer&#x27;,\n",
              "                                                ColumnTransformer(transformers=[(&#x27;standardscaler&#x27;,\n",
              "                                                                                 StandardScaler(),\n",
              "                                                                                 [&#x27;Year&#x27;,\n",
              "                                                                                  &#x27;Population&#x27;,\n",
              "                                                                                  &#x27;Imports&#x27;]),\n",
              "                                                                                (&#x27;onehotencoder&#x27;,\n",
              "                                                                                 OneHotEncoder(handle_unknown=&#x27;ignore&#x27;),\n",
              "                                                                                 [&#x27;geo&#x27;])])),\n",
              "                                               (&#x27;kneighborsregressor&#x27;,\n",
              "                                                KNeighborsRegressor(n_neighbors=8))])),\n",
              "                              (&#x27;linear_model&#x27;,\n",
              "                               Pipeline(steps=[(&#x27;columntransformer&#x27;,\n",
              "                                                ColumnTransformer(transformers=[(&#x27;standardscaler&#x27;,\n",
              "                                                                                 StandardScaler(),\n",
              "                                                                                 [&#x27;Immigrants&#x27;,\n",
              "                                                                                  &#x27;emigration&#x27;,\n",
              "                                                                                  &#x27;total_deaths&#x27;,\n",
              "                                                                                  &#x27;Imports&#x27;]),\n",
              "                                                                                (&#x27;onehotencoder&#x27;,\n",
              "                                                                                 OneHotEncoder(handle_unknown=&#x27;ignore&#x27;),\n",
              "                                                                                 [&#x27;geo&#x27;])])),\n",
              "                                               (&#x27;linearregression&#x27;,\n",
              "                                                LinearRegression())]))],\n",
              "                  final_estimator=LinearRegression())</pre></div></div></div><div class=\"sk-serial\"><div class=\"sk-item\"><div class=\"sk-parallel\"><div class=\"sk-parallel-item\"><div class=\"sk-item\"><div class=\"sk-label-container\"><div class=\"sk-label sk-toggleable\"><label>knn_model</label></div></div><div class=\"sk-serial\"><div class=\"sk-item\"><div class=\"sk-serial\"><div class=\"sk-item sk-dashed-wrapped\"><div class=\"sk-label-container\"><div class=\"sk-label sk-toggleable\"><input class=\"sk-toggleable__control sk-hidden--visually\" id=\"sk-estimator-id-76\" type=\"checkbox\" ><label for=\"sk-estimator-id-76\" class=\"sk-toggleable__label sk-toggleable__label-arrow\">columntransformer: ColumnTransformer</label><div class=\"sk-toggleable__content\"><pre>ColumnTransformer(transformers=[(&#x27;standardscaler&#x27;, StandardScaler(),\n",
              "                                 [&#x27;Year&#x27;, &#x27;Population&#x27;, &#x27;Imports&#x27;]),\n",
              "                                (&#x27;onehotencoder&#x27;,\n",
              "                                 OneHotEncoder(handle_unknown=&#x27;ignore&#x27;),\n",
              "                                 [&#x27;geo&#x27;])])</pre></div></div></div><div class=\"sk-parallel\"><div class=\"sk-parallel-item\"><div class=\"sk-item\"><div class=\"sk-label-container\"><div class=\"sk-label sk-toggleable\"><input class=\"sk-toggleable__control sk-hidden--visually\" id=\"sk-estimator-id-77\" type=\"checkbox\" ><label for=\"sk-estimator-id-77\" class=\"sk-toggleable__label sk-toggleable__label-arrow\">standardscaler</label><div class=\"sk-toggleable__content\"><pre>[&#x27;Year&#x27;, &#x27;Population&#x27;, &#x27;Imports&#x27;]</pre></div></div></div><div class=\"sk-serial\"><div class=\"sk-item\"><div class=\"sk-estimator sk-toggleable\"><input class=\"sk-toggleable__control sk-hidden--visually\" id=\"sk-estimator-id-78\" type=\"checkbox\" ><label for=\"sk-estimator-id-78\" class=\"sk-toggleable__label sk-toggleable__label-arrow\">StandardScaler</label><div class=\"sk-toggleable__content\"><pre>StandardScaler()</pre></div></div></div></div></div></div><div class=\"sk-parallel-item\"><div class=\"sk-item\"><div class=\"sk-label-container\"><div class=\"sk-label sk-toggleable\"><input class=\"sk-toggleable__control sk-hidden--visually\" id=\"sk-estimator-id-79\" type=\"checkbox\" ><label for=\"sk-estimator-id-79\" class=\"sk-toggleable__label sk-toggleable__label-arrow\">onehotencoder</label><div class=\"sk-toggleable__content\"><pre>[&#x27;geo&#x27;]</pre></div></div></div><div class=\"sk-serial\"><div class=\"sk-item\"><div class=\"sk-estimator sk-toggleable\"><input class=\"sk-toggleable__control sk-hidden--visually\" id=\"sk-estimator-id-80\" type=\"checkbox\" ><label for=\"sk-estimator-id-80\" class=\"sk-toggleable__label sk-toggleable__label-arrow\">OneHotEncoder</label><div class=\"sk-toggleable__content\"><pre>OneHotEncoder(handle_unknown=&#x27;ignore&#x27;)</pre></div></div></div></div></div></div></div></div><div class=\"sk-item\"><div class=\"sk-estimator sk-toggleable\"><input class=\"sk-toggleable__control sk-hidden--visually\" id=\"sk-estimator-id-81\" type=\"checkbox\" ><label for=\"sk-estimator-id-81\" class=\"sk-toggleable__label sk-toggleable__label-arrow\">KNeighborsRegressor</label><div class=\"sk-toggleable__content\"><pre>KNeighborsRegressor(n_neighbors=8)</pre></div></div></div></div></div></div></div></div><div class=\"sk-parallel-item\"><div class=\"sk-item\"><div class=\"sk-label-container\"><div class=\"sk-label sk-toggleable\"><label>linear_model</label></div></div><div class=\"sk-serial\"><div class=\"sk-item\"><div class=\"sk-serial\"><div class=\"sk-item sk-dashed-wrapped\"><div class=\"sk-label-container\"><div class=\"sk-label sk-toggleable\"><input class=\"sk-toggleable__control sk-hidden--visually\" id=\"sk-estimator-id-82\" type=\"checkbox\" ><label for=\"sk-estimator-id-82\" class=\"sk-toggleable__label sk-toggleable__label-arrow\">columntransformer: ColumnTransformer</label><div class=\"sk-toggleable__content\"><pre>ColumnTransformer(transformers=[(&#x27;standardscaler&#x27;, StandardScaler(),\n",
              "                                 [&#x27;Immigrants&#x27;, &#x27;emigration&#x27;, &#x27;total_deaths&#x27;,\n",
              "                                  &#x27;Imports&#x27;]),\n",
              "                                (&#x27;onehotencoder&#x27;,\n",
              "                                 OneHotEncoder(handle_unknown=&#x27;ignore&#x27;),\n",
              "                                 [&#x27;geo&#x27;])])</pre></div></div></div><div class=\"sk-parallel\"><div class=\"sk-parallel-item\"><div class=\"sk-item\"><div class=\"sk-label-container\"><div class=\"sk-label sk-toggleable\"><input class=\"sk-toggleable__control sk-hidden--visually\" id=\"sk-estimator-id-83\" type=\"checkbox\" ><label for=\"sk-estimator-id-83\" class=\"sk-toggleable__label sk-toggleable__label-arrow\">standardscaler</label><div class=\"sk-toggleable__content\"><pre>[&#x27;Immigrants&#x27;, &#x27;emigration&#x27;, &#x27;total_deaths&#x27;, &#x27;Imports&#x27;]</pre></div></div></div><div class=\"sk-serial\"><div class=\"sk-item\"><div class=\"sk-estimator sk-toggleable\"><input class=\"sk-toggleable__control sk-hidden--visually\" id=\"sk-estimator-id-84\" type=\"checkbox\" ><label for=\"sk-estimator-id-84\" class=\"sk-toggleable__label sk-toggleable__label-arrow\">StandardScaler</label><div class=\"sk-toggleable__content\"><pre>StandardScaler()</pre></div></div></div></div></div></div><div class=\"sk-parallel-item\"><div class=\"sk-item\"><div class=\"sk-label-container\"><div class=\"sk-label sk-toggleable\"><input class=\"sk-toggleable__control sk-hidden--visually\" id=\"sk-estimator-id-85\" type=\"checkbox\" ><label for=\"sk-estimator-id-85\" class=\"sk-toggleable__label sk-toggleable__label-arrow\">onehotencoder</label><div class=\"sk-toggleable__content\"><pre>[&#x27;geo&#x27;]</pre></div></div></div><div class=\"sk-serial\"><div class=\"sk-item\"><div class=\"sk-estimator sk-toggleable\"><input class=\"sk-toggleable__control sk-hidden--visually\" id=\"sk-estimator-id-86\" type=\"checkbox\" ><label for=\"sk-estimator-id-86\" class=\"sk-toggleable__label sk-toggleable__label-arrow\">OneHotEncoder</label><div class=\"sk-toggleable__content\"><pre>OneHotEncoder(handle_unknown=&#x27;ignore&#x27;)</pre></div></div></div></div></div></div></div></div><div class=\"sk-item\"><div class=\"sk-estimator sk-toggleable\"><input class=\"sk-toggleable__control sk-hidden--visually\" id=\"sk-estimator-id-87\" type=\"checkbox\" ><label for=\"sk-estimator-id-87\" class=\"sk-toggleable__label sk-toggleable__label-arrow\">LinearRegression</label><div class=\"sk-toggleable__content\"><pre>LinearRegression()</pre></div></div></div></div></div></div></div></div></div></div><div class=\"sk-item\"><div class=\"sk-parallel\"><div class=\"sk-parallel-item\"><div class=\"sk-item\"><div class=\"sk-label-container\"><div class=\"sk-label sk-toggleable\"><label>final_estimator</label></div></div><div class=\"sk-serial\"><div class=\"sk-item\"><div class=\"sk-estimator sk-toggleable\"><input class=\"sk-toggleable__control sk-hidden--visually\" id=\"sk-estimator-id-88\" type=\"checkbox\" ><label for=\"sk-estimator-id-88\" class=\"sk-toggleable__label sk-toggleable__label-arrow\">LinearRegression</label><div class=\"sk-toggleable__content\"><pre>LinearRegression()</pre></div></div></div></div></div></div></div></div></div></div></div></div>"
            ]
          },
          "metadata": {},
          "execution_count": 261
        }
      ]
    },
    {
      "cell_type": "markdown",
      "source": [
        "## Testing Out the Model"
      ],
      "metadata": {
        "id": "AxAp7z_uU8pY"
      }
    },
    {
      "cell_type": "code",
      "source": [
        "from sklearn.model_selection import train_test_split\n",
        "\n",
        "# split into test and training\n",
        "X_ens_train, X_ens_test, y_ens_train, y_ens_test = train_test_split(X_train, y_train, test_size=0.25, random_state=0)"
      ],
      "metadata": {
        "id": "zQED30y0VJVr"
      },
      "execution_count": 262,
      "outputs": []
    },
    {
      "cell_type": "code",
      "source": [
        "stack_model.fit(X_ens_train, y_ens_train)"
      ],
      "metadata": {
        "colab": {
          "base_uri": "https://localhost:8080/",
          "height": 261
        },
        "outputId": "33e8fdd5-1581-47a9-cbde-3d46ce93f602",
        "id": "wkgJgKEWVJV1"
      },
      "execution_count": 263,
      "outputs": [
        {
          "output_type": "execute_result",
          "data": {
            "text/plain": [
              "StackingRegressor(estimators=[('knn_model',\n",
              "                               Pipeline(steps=[('columntransformer',\n",
              "                                                ColumnTransformer(transformers=[('standardscaler',\n",
              "                                                                                 StandardScaler(),\n",
              "                                                                                 ['Year',\n",
              "                                                                                  'Population',\n",
              "                                                                                  'Imports']),\n",
              "                                                                                ('onehotencoder',\n",
              "                                                                                 OneHotEncoder(handle_unknown='ignore'),\n",
              "                                                                                 ['geo'])])),\n",
              "                                               ('kneighborsregressor',\n",
              "                                                KNeighborsRegressor(n_neighbors=8))])),\n",
              "                              ('linear_model',\n",
              "                               Pipeline(steps=[('columntransformer',\n",
              "                                                ColumnTransformer(transformers=[('standardscaler',\n",
              "                                                                                 StandardScaler(),\n",
              "                                                                                 ['Immigrants',\n",
              "                                                                                  'emigration',\n",
              "                                                                                  'total_deaths',\n",
              "                                                                                  'Imports']),\n",
              "                                                                                ('onehotencoder',\n",
              "                                                                                 OneHotEncoder(handle_unknown='ignore'),\n",
              "                                                                                 ['geo'])])),\n",
              "                                               ('linearregression',\n",
              "                                                LinearRegression())]))],\n",
              "                  final_estimator=LinearRegression())"
            ],
            "text/html": [
              "<style>#sk-container-id-16 {color: black;background-color: white;}#sk-container-id-16 pre{padding: 0;}#sk-container-id-16 div.sk-toggleable {background-color: white;}#sk-container-id-16 label.sk-toggleable__label {cursor: pointer;display: block;width: 100%;margin-bottom: 0;padding: 0.3em;box-sizing: border-box;text-align: center;}#sk-container-id-16 label.sk-toggleable__label-arrow:before {content: \"▸\";float: left;margin-right: 0.25em;color: #696969;}#sk-container-id-16 label.sk-toggleable__label-arrow:hover:before {color: black;}#sk-container-id-16 div.sk-estimator:hover label.sk-toggleable__label-arrow:before {color: black;}#sk-container-id-16 div.sk-toggleable__content {max-height: 0;max-width: 0;overflow: hidden;text-align: left;background-color: #f0f8ff;}#sk-container-id-16 div.sk-toggleable__content pre {margin: 0.2em;color: black;border-radius: 0.25em;background-color: #f0f8ff;}#sk-container-id-16 input.sk-toggleable__control:checked~div.sk-toggleable__content {max-height: 200px;max-width: 100%;overflow: auto;}#sk-container-id-16 input.sk-toggleable__control:checked~label.sk-toggleable__label-arrow:before {content: \"▾\";}#sk-container-id-16 div.sk-estimator input.sk-toggleable__control:checked~label.sk-toggleable__label {background-color: #d4ebff;}#sk-container-id-16 div.sk-label input.sk-toggleable__control:checked~label.sk-toggleable__label {background-color: #d4ebff;}#sk-container-id-16 input.sk-hidden--visually {border: 0;clip: rect(1px 1px 1px 1px);clip: rect(1px, 1px, 1px, 1px);height: 1px;margin: -1px;overflow: hidden;padding: 0;position: absolute;width: 1px;}#sk-container-id-16 div.sk-estimator {font-family: monospace;background-color: #f0f8ff;border: 1px dotted black;border-radius: 0.25em;box-sizing: border-box;margin-bottom: 0.5em;}#sk-container-id-16 div.sk-estimator:hover {background-color: #d4ebff;}#sk-container-id-16 div.sk-parallel-item::after {content: \"\";width: 100%;border-bottom: 1px solid gray;flex-grow: 1;}#sk-container-id-16 div.sk-label:hover label.sk-toggleable__label {background-color: #d4ebff;}#sk-container-id-16 div.sk-serial::before {content: \"\";position: absolute;border-left: 1px solid gray;box-sizing: border-box;top: 0;bottom: 0;left: 50%;z-index: 0;}#sk-container-id-16 div.sk-serial {display: flex;flex-direction: column;align-items: center;background-color: white;padding-right: 0.2em;padding-left: 0.2em;position: relative;}#sk-container-id-16 div.sk-item {position: relative;z-index: 1;}#sk-container-id-16 div.sk-parallel {display: flex;align-items: stretch;justify-content: center;background-color: white;position: relative;}#sk-container-id-16 div.sk-item::before, #sk-container-id-16 div.sk-parallel-item::before {content: \"\";position: absolute;border-left: 1px solid gray;box-sizing: border-box;top: 0;bottom: 0;left: 50%;z-index: -1;}#sk-container-id-16 div.sk-parallel-item {display: flex;flex-direction: column;z-index: 1;position: relative;background-color: white;}#sk-container-id-16 div.sk-parallel-item:first-child::after {align-self: flex-end;width: 50%;}#sk-container-id-16 div.sk-parallel-item:last-child::after {align-self: flex-start;width: 50%;}#sk-container-id-16 div.sk-parallel-item:only-child::after {width: 0;}#sk-container-id-16 div.sk-dashed-wrapped {border: 1px dashed gray;margin: 0 0.4em 0.5em 0.4em;box-sizing: border-box;padding-bottom: 0.4em;background-color: white;}#sk-container-id-16 div.sk-label label {font-family: monospace;font-weight: bold;display: inline-block;line-height: 1.2em;}#sk-container-id-16 div.sk-label-container {text-align: center;}#sk-container-id-16 div.sk-container {/* jupyter's `normalize.less` sets `[hidden] { display: none; }` but bootstrap.min.css set `[hidden] { display: none !important; }` so we also need the `!important` here to be able to override the default hidden behavior on the sphinx rendered scikit-learn.org. See: https://github.com/scikit-learn/scikit-learn/issues/21755 */display: inline-block !important;position: relative;}#sk-container-id-16 div.sk-text-repr-fallback {display: none;}</style><div id=\"sk-container-id-16\" class=\"sk-top-container\"><div class=\"sk-text-repr-fallback\"><pre>StackingRegressor(estimators=[(&#x27;knn_model&#x27;,\n",
              "                               Pipeline(steps=[(&#x27;columntransformer&#x27;,\n",
              "                                                ColumnTransformer(transformers=[(&#x27;standardscaler&#x27;,\n",
              "                                                                                 StandardScaler(),\n",
              "                                                                                 [&#x27;Year&#x27;,\n",
              "                                                                                  &#x27;Population&#x27;,\n",
              "                                                                                  &#x27;Imports&#x27;]),\n",
              "                                                                                (&#x27;onehotencoder&#x27;,\n",
              "                                                                                 OneHotEncoder(handle_unknown=&#x27;ignore&#x27;),\n",
              "                                                                                 [&#x27;geo&#x27;])])),\n",
              "                                               (&#x27;kneighborsregressor&#x27;,\n",
              "                                                KNeighborsRegressor(n_neighbors=8))])),\n",
              "                              (&#x27;linear_model&#x27;,\n",
              "                               Pipeline(steps=[(&#x27;columntransformer&#x27;,\n",
              "                                                ColumnTransformer(transformers=[(&#x27;standardscaler&#x27;,\n",
              "                                                                                 StandardScaler(),\n",
              "                                                                                 [&#x27;Immigrants&#x27;,\n",
              "                                                                                  &#x27;emigration&#x27;,\n",
              "                                                                                  &#x27;total_deaths&#x27;,\n",
              "                                                                                  &#x27;Imports&#x27;]),\n",
              "                                                                                (&#x27;onehotencoder&#x27;,\n",
              "                                                                                 OneHotEncoder(handle_unknown=&#x27;ignore&#x27;),\n",
              "                                                                                 [&#x27;geo&#x27;])])),\n",
              "                                               (&#x27;linearregression&#x27;,\n",
              "                                                LinearRegression())]))],\n",
              "                  final_estimator=LinearRegression())</pre><b>In a Jupyter environment, please rerun this cell to show the HTML representation or trust the notebook. <br />On GitHub, the HTML representation is unable to render, please try loading this page with nbviewer.org.</b></div><div class=\"sk-container\" hidden><div class=\"sk-item sk-dashed-wrapped\"><div class=\"sk-label-container\"><div class=\"sk-label sk-toggleable\"><input class=\"sk-toggleable__control sk-hidden--visually\" id=\"sk-estimator-id-89\" type=\"checkbox\" ><label for=\"sk-estimator-id-89\" class=\"sk-toggleable__label sk-toggleable__label-arrow\">StackingRegressor</label><div class=\"sk-toggleable__content\"><pre>StackingRegressor(estimators=[(&#x27;knn_model&#x27;,\n",
              "                               Pipeline(steps=[(&#x27;columntransformer&#x27;,\n",
              "                                                ColumnTransformer(transformers=[(&#x27;standardscaler&#x27;,\n",
              "                                                                                 StandardScaler(),\n",
              "                                                                                 [&#x27;Year&#x27;,\n",
              "                                                                                  &#x27;Population&#x27;,\n",
              "                                                                                  &#x27;Imports&#x27;]),\n",
              "                                                                                (&#x27;onehotencoder&#x27;,\n",
              "                                                                                 OneHotEncoder(handle_unknown=&#x27;ignore&#x27;),\n",
              "                                                                                 [&#x27;geo&#x27;])])),\n",
              "                                               (&#x27;kneighborsregressor&#x27;,\n",
              "                                                KNeighborsRegressor(n_neighbors=8))])),\n",
              "                              (&#x27;linear_model&#x27;,\n",
              "                               Pipeline(steps=[(&#x27;columntransformer&#x27;,\n",
              "                                                ColumnTransformer(transformers=[(&#x27;standardscaler&#x27;,\n",
              "                                                                                 StandardScaler(),\n",
              "                                                                                 [&#x27;Immigrants&#x27;,\n",
              "                                                                                  &#x27;emigration&#x27;,\n",
              "                                                                                  &#x27;total_deaths&#x27;,\n",
              "                                                                                  &#x27;Imports&#x27;]),\n",
              "                                                                                (&#x27;onehotencoder&#x27;,\n",
              "                                                                                 OneHotEncoder(handle_unknown=&#x27;ignore&#x27;),\n",
              "                                                                                 [&#x27;geo&#x27;])])),\n",
              "                                               (&#x27;linearregression&#x27;,\n",
              "                                                LinearRegression())]))],\n",
              "                  final_estimator=LinearRegression())</pre></div></div></div><div class=\"sk-serial\"><div class=\"sk-item\"><div class=\"sk-parallel\"><div class=\"sk-parallel-item\"><div class=\"sk-item\"><div class=\"sk-label-container\"><div class=\"sk-label sk-toggleable\"><label>knn_model</label></div></div><div class=\"sk-serial\"><div class=\"sk-item\"><div class=\"sk-serial\"><div class=\"sk-item sk-dashed-wrapped\"><div class=\"sk-label-container\"><div class=\"sk-label sk-toggleable\"><input class=\"sk-toggleable__control sk-hidden--visually\" id=\"sk-estimator-id-90\" type=\"checkbox\" ><label for=\"sk-estimator-id-90\" class=\"sk-toggleable__label sk-toggleable__label-arrow\">columntransformer: ColumnTransformer</label><div class=\"sk-toggleable__content\"><pre>ColumnTransformer(transformers=[(&#x27;standardscaler&#x27;, StandardScaler(),\n",
              "                                 [&#x27;Year&#x27;, &#x27;Population&#x27;, &#x27;Imports&#x27;]),\n",
              "                                (&#x27;onehotencoder&#x27;,\n",
              "                                 OneHotEncoder(handle_unknown=&#x27;ignore&#x27;),\n",
              "                                 [&#x27;geo&#x27;])])</pre></div></div></div><div class=\"sk-parallel\"><div class=\"sk-parallel-item\"><div class=\"sk-item\"><div class=\"sk-label-container\"><div class=\"sk-label sk-toggleable\"><input class=\"sk-toggleable__control sk-hidden--visually\" id=\"sk-estimator-id-91\" type=\"checkbox\" ><label for=\"sk-estimator-id-91\" class=\"sk-toggleable__label sk-toggleable__label-arrow\">standardscaler</label><div class=\"sk-toggleable__content\"><pre>[&#x27;Year&#x27;, &#x27;Population&#x27;, &#x27;Imports&#x27;]</pre></div></div></div><div class=\"sk-serial\"><div class=\"sk-item\"><div class=\"sk-estimator sk-toggleable\"><input class=\"sk-toggleable__control sk-hidden--visually\" id=\"sk-estimator-id-92\" type=\"checkbox\" ><label for=\"sk-estimator-id-92\" class=\"sk-toggleable__label sk-toggleable__label-arrow\">StandardScaler</label><div class=\"sk-toggleable__content\"><pre>StandardScaler()</pre></div></div></div></div></div></div><div class=\"sk-parallel-item\"><div class=\"sk-item\"><div class=\"sk-label-container\"><div class=\"sk-label sk-toggleable\"><input class=\"sk-toggleable__control sk-hidden--visually\" id=\"sk-estimator-id-93\" type=\"checkbox\" ><label for=\"sk-estimator-id-93\" class=\"sk-toggleable__label sk-toggleable__label-arrow\">onehotencoder</label><div class=\"sk-toggleable__content\"><pre>[&#x27;geo&#x27;]</pre></div></div></div><div class=\"sk-serial\"><div class=\"sk-item\"><div class=\"sk-estimator sk-toggleable\"><input class=\"sk-toggleable__control sk-hidden--visually\" id=\"sk-estimator-id-94\" type=\"checkbox\" ><label for=\"sk-estimator-id-94\" class=\"sk-toggleable__label sk-toggleable__label-arrow\">OneHotEncoder</label><div class=\"sk-toggleable__content\"><pre>OneHotEncoder(handle_unknown=&#x27;ignore&#x27;)</pre></div></div></div></div></div></div></div></div><div class=\"sk-item\"><div class=\"sk-estimator sk-toggleable\"><input class=\"sk-toggleable__control sk-hidden--visually\" id=\"sk-estimator-id-95\" type=\"checkbox\" ><label for=\"sk-estimator-id-95\" class=\"sk-toggleable__label sk-toggleable__label-arrow\">KNeighborsRegressor</label><div class=\"sk-toggleable__content\"><pre>KNeighborsRegressor(n_neighbors=8)</pre></div></div></div></div></div></div></div></div><div class=\"sk-parallel-item\"><div class=\"sk-item\"><div class=\"sk-label-container\"><div class=\"sk-label sk-toggleable\"><label>linear_model</label></div></div><div class=\"sk-serial\"><div class=\"sk-item\"><div class=\"sk-serial\"><div class=\"sk-item sk-dashed-wrapped\"><div class=\"sk-label-container\"><div class=\"sk-label sk-toggleable\"><input class=\"sk-toggleable__control sk-hidden--visually\" id=\"sk-estimator-id-96\" type=\"checkbox\" ><label for=\"sk-estimator-id-96\" class=\"sk-toggleable__label sk-toggleable__label-arrow\">columntransformer: ColumnTransformer</label><div class=\"sk-toggleable__content\"><pre>ColumnTransformer(transformers=[(&#x27;standardscaler&#x27;, StandardScaler(),\n",
              "                                 [&#x27;Immigrants&#x27;, &#x27;emigration&#x27;, &#x27;total_deaths&#x27;,\n",
              "                                  &#x27;Imports&#x27;]),\n",
              "                                (&#x27;onehotencoder&#x27;,\n",
              "                                 OneHotEncoder(handle_unknown=&#x27;ignore&#x27;),\n",
              "                                 [&#x27;geo&#x27;])])</pre></div></div></div><div class=\"sk-parallel\"><div class=\"sk-parallel-item\"><div class=\"sk-item\"><div class=\"sk-label-container\"><div class=\"sk-label sk-toggleable\"><input class=\"sk-toggleable__control sk-hidden--visually\" id=\"sk-estimator-id-97\" type=\"checkbox\" ><label for=\"sk-estimator-id-97\" class=\"sk-toggleable__label sk-toggleable__label-arrow\">standardscaler</label><div class=\"sk-toggleable__content\"><pre>[&#x27;Immigrants&#x27;, &#x27;emigration&#x27;, &#x27;total_deaths&#x27;, &#x27;Imports&#x27;]</pre></div></div></div><div class=\"sk-serial\"><div class=\"sk-item\"><div class=\"sk-estimator sk-toggleable\"><input class=\"sk-toggleable__control sk-hidden--visually\" id=\"sk-estimator-id-98\" type=\"checkbox\" ><label for=\"sk-estimator-id-98\" class=\"sk-toggleable__label sk-toggleable__label-arrow\">StandardScaler</label><div class=\"sk-toggleable__content\"><pre>StandardScaler()</pre></div></div></div></div></div></div><div class=\"sk-parallel-item\"><div class=\"sk-item\"><div class=\"sk-label-container\"><div class=\"sk-label sk-toggleable\"><input class=\"sk-toggleable__control sk-hidden--visually\" id=\"sk-estimator-id-99\" type=\"checkbox\" ><label for=\"sk-estimator-id-99\" class=\"sk-toggleable__label sk-toggleable__label-arrow\">onehotencoder</label><div class=\"sk-toggleable__content\"><pre>[&#x27;geo&#x27;]</pre></div></div></div><div class=\"sk-serial\"><div class=\"sk-item\"><div class=\"sk-estimator sk-toggleable\"><input class=\"sk-toggleable__control sk-hidden--visually\" id=\"sk-estimator-id-100\" type=\"checkbox\" ><label for=\"sk-estimator-id-100\" class=\"sk-toggleable__label sk-toggleable__label-arrow\">OneHotEncoder</label><div class=\"sk-toggleable__content\"><pre>OneHotEncoder(handle_unknown=&#x27;ignore&#x27;)</pre></div></div></div></div></div></div></div></div><div class=\"sk-item\"><div class=\"sk-estimator sk-toggleable\"><input class=\"sk-toggleable__control sk-hidden--visually\" id=\"sk-estimator-id-101\" type=\"checkbox\" ><label for=\"sk-estimator-id-101\" class=\"sk-toggleable__label sk-toggleable__label-arrow\">LinearRegression</label><div class=\"sk-toggleable__content\"><pre>LinearRegression()</pre></div></div></div></div></div></div></div></div></div></div><div class=\"sk-item\"><div class=\"sk-parallel\"><div class=\"sk-parallel-item\"><div class=\"sk-item\"><div class=\"sk-label-container\"><div class=\"sk-label sk-toggleable\"><label>final_estimator</label></div></div><div class=\"sk-serial\"><div class=\"sk-item\"><div class=\"sk-estimator sk-toggleable\"><input class=\"sk-toggleable__control sk-hidden--visually\" id=\"sk-estimator-id-102\" type=\"checkbox\" ><label for=\"sk-estimator-id-102\" class=\"sk-toggleable__label sk-toggleable__label-arrow\">LinearRegression</label><div class=\"sk-toggleable__content\"><pre>LinearRegression()</pre></div></div></div></div></div></div></div></div></div></div></div></div>"
            ]
          },
          "metadata": {},
          "execution_count": 263
        }
      ]
    },
    {
      "cell_type": "code",
      "source": [
        "# cross validation scoring"
      ],
      "metadata": {
        "id": "3zWrd33CVJV1"
      },
      "execution_count": null,
      "outputs": []
    },
    {
      "cell_type": "code",
      "source": [
        "scores = -cross_val_score(stack_model,\n",
        "                         X_ens_train,\n",
        "                         y_ens_train,\n",
        "                         scoring=\"neg_root_mean_squared_error\",\n",
        "                         cv=10)\n",
        "scores.mean()"
      ],
      "metadata": {
        "colab": {
          "base_uri": "https://localhost:8080/"
        },
        "outputId": "f437bb18-d7a2-4f75-8add-a6d01f4101f2",
        "id": "gef-vqzNVJV1"
      },
      "execution_count": 264,
      "outputs": [
        {
          "output_type": "execute_result",
          "data": {
            "text/plain": [
              "39914.05547766272"
            ]
          },
          "metadata": {},
          "execution_count": 264
        }
      ]
    },
    {
      "cell_type": "code",
      "source": [
        "# test scoring"
      ],
      "metadata": {
        "id": "jhfwDEWBVJV1"
      },
      "execution_count": null,
      "outputs": []
    },
    {
      "cell_type": "code",
      "source": [
        "print(\"Train Score : \", stack_model.score(X_ens_train, y_ens_train),\" Test Score : \", stack_model.score(X_ens_test, y_ens_test))"
      ],
      "metadata": {
        "colab": {
          "base_uri": "https://localhost:8080/"
        },
        "outputId": "dfeee4da-e9a9-423b-c4c2-0bc08746eea9",
        "id": "yg7HOVLrVJV1"
      },
      "execution_count": 266,
      "outputs": [
        {
          "output_type": "stream",
          "name": "stdout",
          "text": [
            "Train Score :  0.9982782899929161  Test Score :  0.9975861888851629\n"
          ]
        }
      ]
    },
    {
      "cell_type": "code",
      "source": [
        "y_ens_pred = stack_model.predict(X_ens_test)"
      ],
      "metadata": {
        "id": "Q6VGBRtoVJV2"
      },
      "execution_count": 267,
      "outputs": []
    },
    {
      "cell_type": "markdown",
      "source": [
        "RMSE"
      ],
      "metadata": {
        "id": "7CI7P6sIVJV2"
      }
    },
    {
      "cell_type": "code",
      "source": [
        "from sklearn.metrics import mean_squared_error\n",
        "\n",
        "rmse = np.sqrt(mean_squared_error(y_ens_test, y_ens_pred))\n",
        "rmse"
      ],
      "metadata": {
        "colab": {
          "base_uri": "https://localhost:8080/"
        },
        "outputId": "5e0a1709-ce05-4823-83a7-3cbc7ad36e28",
        "id": "hweEujk_VJV2"
      },
      "execution_count": 268,
      "outputs": [
        {
          "output_type": "execute_result",
          "data": {
            "text/plain": [
              "42305.280563096756"
            ]
          },
          "metadata": {},
          "execution_count": 268
        }
      ]
    },
    {
      "cell_type": "markdown",
      "source": [
        "Benchmark"
      ],
      "metadata": {
        "id": "uNL4pSRNVJV2"
      }
    },
    {
      "cell_type": "code",
      "source": [
        "from sklearn.dummy import DummyRegressor\n",
        "\n",
        "mean_model = DummyRegressor(strategy=\"mean\")\n",
        "\n",
        "-cross_val_score(mean_model, X=X_ens_train, y=y_ens_train, cv=10,\n",
        "                           scoring=\"neg_root_mean_squared_error\").mean()"
      ],
      "metadata": {
        "colab": {
          "base_uri": "https://localhost:8080/"
        },
        "outputId": "f564a293-8c61-4ba3-819c-05ec2fe0dbe6",
        "id": "ZTO-KHocVJV2"
      },
      "execution_count": 269,
      "outputs": [
        {
          "output_type": "execute_result",
          "data": {
            "text/plain": [
              "690927.3333981774"
            ]
          },
          "metadata": {},
          "execution_count": 269
        }
      ]
    },
    {
      "cell_type": "code",
      "source": [
        "y_ens_test.std()"
      ],
      "metadata": {
        "colab": {
          "base_uri": "https://localhost:8080/"
        },
        "outputId": "5e1927f6-4135-4724-a1bc-c9b8d40769a2",
        "id": "pxIOIn3TVJV2"
      },
      "execution_count": 271,
      "outputs": [
        {
          "output_type": "execute_result",
          "data": {
            "text/plain": [
              "867121.6148310832"
            ]
          },
          "metadata": {},
          "execution_count": 271
        }
      ]
    },
    {
      "cell_type": "markdown",
      "source": [
        "Based on these benchmarks, I'd say our model did a much better job!"
      ],
      "metadata": {
        "id": "bm7UCMW_VJV2"
      }
    },
    {
      "cell_type": "markdown",
      "source": [
        "R^2"
      ],
      "metadata": {
        "id": "FF9vE7XMVJV3"
      }
    },
    {
      "cell_type": "code",
      "source": [
        "r_squared = 1 - (((y_ens_test - y_ens_pred)**2).mean()) / ((y_ens_test - y_ens_pred.mean())**2).mean()\n",
        "r_squared"
      ],
      "metadata": {
        "colab": {
          "base_uri": "https://localhost:8080/"
        },
        "outputId": "91cce32e-937f-431a-e383-e277b2f2d13b",
        "id": "K4Sc53mIVJV3"
      },
      "execution_count": 273,
      "outputs": [
        {
          "output_type": "execute_result",
          "data": {
            "text/plain": [
              "0.997586400245855"
            ]
          },
          "metadata": {},
          "execution_count": 273
        }
      ]
    },
    {
      "cell_type": "markdown",
      "source": [
        "That's a really good R^2 value.\n",
        "99.8% of the variability in GDP is explained by this model."
      ],
      "metadata": {
        "id": "ljSsdhijVJV3"
      }
    },
    {
      "cell_type": "markdown",
      "source": [
        "# Ensemble - Predicting for 2021\n",
        "Removing 2021 from the dataset and seeing how the model performs for an unknown year"
      ],
      "metadata": {
        "id": "CfqYWDkFXIRd"
      }
    },
    {
      "cell_type": "code",
      "source": [
        "X_ens = X_reg[['Immigrants', 'emigration', 'total_deaths', 'Imports', 'geo', 'Year', 'Population']]\n",
        "y_train = gdp\n",
        "\n",
        "# concatenate X and y\n",
        "df_combined = pd.concat([X_ens, pd.DataFrame(gdp)], axis=1)\n",
        "\n",
        "no_2021 = df_combined[df_combined[\"Year\"] != 2021]\n",
        "X_ens_no_2021 = no_2021.drop(columns=[\"GDP\"])\n",
        "gdp_no_2021 = no_2021[\"GDP\"]\n",
        "\n",
        "yes_2021 = df_combined[df_combined[\"Year\"] == 2021]\n",
        "X_ens_yes_2021 = yes_2021.drop(columns=[\"GDP\"])\n",
        "gdp_yes_2021 = yes_2021[\"GDP\"]"
      ],
      "metadata": {
        "id": "3lKagLL-XIRl"
      },
      "execution_count": 275,
      "outputs": []
    },
    {
      "cell_type": "code",
      "source": [
        "stack_model.fit(X_ens_no_2021, gdp_no_2021)"
      ],
      "metadata": {
        "colab": {
          "base_uri": "https://localhost:8080/",
          "height": 261
        },
        "outputId": "1f59ba0c-eb4a-47db-a6af-04c3cc7ed3d5",
        "id": "iCja5sUpXIRm"
      },
      "execution_count": 276,
      "outputs": [
        {
          "output_type": "execute_result",
          "data": {
            "text/plain": [
              "StackingRegressor(estimators=[('knn_model',\n",
              "                               Pipeline(steps=[('columntransformer',\n",
              "                                                ColumnTransformer(transformers=[('standardscaler',\n",
              "                                                                                 StandardScaler(),\n",
              "                                                                                 ['Year',\n",
              "                                                                                  'Population',\n",
              "                                                                                  'Imports']),\n",
              "                                                                                ('onehotencoder',\n",
              "                                                                                 OneHotEncoder(handle_unknown='ignore'),\n",
              "                                                                                 ['geo'])])),\n",
              "                                               ('kneighborsregressor',\n",
              "                                                KNeighborsRegressor(n_neighbors=8))])),\n",
              "                              ('linear_model',\n",
              "                               Pipeline(steps=[('columntransformer',\n",
              "                                                ColumnTransformer(transformers=[('standardscaler',\n",
              "                                                                                 StandardScaler(),\n",
              "                                                                                 ['Immigrants',\n",
              "                                                                                  'emigration',\n",
              "                                                                                  'total_deaths',\n",
              "                                                                                  'Imports']),\n",
              "                                                                                ('onehotencoder',\n",
              "                                                                                 OneHotEncoder(handle_unknown='ignore'),\n",
              "                                                                                 ['geo'])])),\n",
              "                                               ('linearregression',\n",
              "                                                LinearRegression())]))],\n",
              "                  final_estimator=LinearRegression())"
            ],
            "text/html": [
              "<style>#sk-container-id-17 {color: black;background-color: white;}#sk-container-id-17 pre{padding: 0;}#sk-container-id-17 div.sk-toggleable {background-color: white;}#sk-container-id-17 label.sk-toggleable__label {cursor: pointer;display: block;width: 100%;margin-bottom: 0;padding: 0.3em;box-sizing: border-box;text-align: center;}#sk-container-id-17 label.sk-toggleable__label-arrow:before {content: \"▸\";float: left;margin-right: 0.25em;color: #696969;}#sk-container-id-17 label.sk-toggleable__label-arrow:hover:before {color: black;}#sk-container-id-17 div.sk-estimator:hover label.sk-toggleable__label-arrow:before {color: black;}#sk-container-id-17 div.sk-toggleable__content {max-height: 0;max-width: 0;overflow: hidden;text-align: left;background-color: #f0f8ff;}#sk-container-id-17 div.sk-toggleable__content pre {margin: 0.2em;color: black;border-radius: 0.25em;background-color: #f0f8ff;}#sk-container-id-17 input.sk-toggleable__control:checked~div.sk-toggleable__content {max-height: 200px;max-width: 100%;overflow: auto;}#sk-container-id-17 input.sk-toggleable__control:checked~label.sk-toggleable__label-arrow:before {content: \"▾\";}#sk-container-id-17 div.sk-estimator input.sk-toggleable__control:checked~label.sk-toggleable__label {background-color: #d4ebff;}#sk-container-id-17 div.sk-label input.sk-toggleable__control:checked~label.sk-toggleable__label {background-color: #d4ebff;}#sk-container-id-17 input.sk-hidden--visually {border: 0;clip: rect(1px 1px 1px 1px);clip: rect(1px, 1px, 1px, 1px);height: 1px;margin: -1px;overflow: hidden;padding: 0;position: absolute;width: 1px;}#sk-container-id-17 div.sk-estimator {font-family: monospace;background-color: #f0f8ff;border: 1px dotted black;border-radius: 0.25em;box-sizing: border-box;margin-bottom: 0.5em;}#sk-container-id-17 div.sk-estimator:hover {background-color: #d4ebff;}#sk-container-id-17 div.sk-parallel-item::after {content: \"\";width: 100%;border-bottom: 1px solid gray;flex-grow: 1;}#sk-container-id-17 div.sk-label:hover label.sk-toggleable__label {background-color: #d4ebff;}#sk-container-id-17 div.sk-serial::before {content: \"\";position: absolute;border-left: 1px solid gray;box-sizing: border-box;top: 0;bottom: 0;left: 50%;z-index: 0;}#sk-container-id-17 div.sk-serial {display: flex;flex-direction: column;align-items: center;background-color: white;padding-right: 0.2em;padding-left: 0.2em;position: relative;}#sk-container-id-17 div.sk-item {position: relative;z-index: 1;}#sk-container-id-17 div.sk-parallel {display: flex;align-items: stretch;justify-content: center;background-color: white;position: relative;}#sk-container-id-17 div.sk-item::before, #sk-container-id-17 div.sk-parallel-item::before {content: \"\";position: absolute;border-left: 1px solid gray;box-sizing: border-box;top: 0;bottom: 0;left: 50%;z-index: -1;}#sk-container-id-17 div.sk-parallel-item {display: flex;flex-direction: column;z-index: 1;position: relative;background-color: white;}#sk-container-id-17 div.sk-parallel-item:first-child::after {align-self: flex-end;width: 50%;}#sk-container-id-17 div.sk-parallel-item:last-child::after {align-self: flex-start;width: 50%;}#sk-container-id-17 div.sk-parallel-item:only-child::after {width: 0;}#sk-container-id-17 div.sk-dashed-wrapped {border: 1px dashed gray;margin: 0 0.4em 0.5em 0.4em;box-sizing: border-box;padding-bottom: 0.4em;background-color: white;}#sk-container-id-17 div.sk-label label {font-family: monospace;font-weight: bold;display: inline-block;line-height: 1.2em;}#sk-container-id-17 div.sk-label-container {text-align: center;}#sk-container-id-17 div.sk-container {/* jupyter's `normalize.less` sets `[hidden] { display: none; }` but bootstrap.min.css set `[hidden] { display: none !important; }` so we also need the `!important` here to be able to override the default hidden behavior on the sphinx rendered scikit-learn.org. See: https://github.com/scikit-learn/scikit-learn/issues/21755 */display: inline-block !important;position: relative;}#sk-container-id-17 div.sk-text-repr-fallback {display: none;}</style><div id=\"sk-container-id-17\" class=\"sk-top-container\"><div class=\"sk-text-repr-fallback\"><pre>StackingRegressor(estimators=[(&#x27;knn_model&#x27;,\n",
              "                               Pipeline(steps=[(&#x27;columntransformer&#x27;,\n",
              "                                                ColumnTransformer(transformers=[(&#x27;standardscaler&#x27;,\n",
              "                                                                                 StandardScaler(),\n",
              "                                                                                 [&#x27;Year&#x27;,\n",
              "                                                                                  &#x27;Population&#x27;,\n",
              "                                                                                  &#x27;Imports&#x27;]),\n",
              "                                                                                (&#x27;onehotencoder&#x27;,\n",
              "                                                                                 OneHotEncoder(handle_unknown=&#x27;ignore&#x27;),\n",
              "                                                                                 [&#x27;geo&#x27;])])),\n",
              "                                               (&#x27;kneighborsregressor&#x27;,\n",
              "                                                KNeighborsRegressor(n_neighbors=8))])),\n",
              "                              (&#x27;linear_model&#x27;,\n",
              "                               Pipeline(steps=[(&#x27;columntransformer&#x27;,\n",
              "                                                ColumnTransformer(transformers=[(&#x27;standardscaler&#x27;,\n",
              "                                                                                 StandardScaler(),\n",
              "                                                                                 [&#x27;Immigrants&#x27;,\n",
              "                                                                                  &#x27;emigration&#x27;,\n",
              "                                                                                  &#x27;total_deaths&#x27;,\n",
              "                                                                                  &#x27;Imports&#x27;]),\n",
              "                                                                                (&#x27;onehotencoder&#x27;,\n",
              "                                                                                 OneHotEncoder(handle_unknown=&#x27;ignore&#x27;),\n",
              "                                                                                 [&#x27;geo&#x27;])])),\n",
              "                                               (&#x27;linearregression&#x27;,\n",
              "                                                LinearRegression())]))],\n",
              "                  final_estimator=LinearRegression())</pre><b>In a Jupyter environment, please rerun this cell to show the HTML representation or trust the notebook. <br />On GitHub, the HTML representation is unable to render, please try loading this page with nbviewer.org.</b></div><div class=\"sk-container\" hidden><div class=\"sk-item sk-dashed-wrapped\"><div class=\"sk-label-container\"><div class=\"sk-label sk-toggleable\"><input class=\"sk-toggleable__control sk-hidden--visually\" id=\"sk-estimator-id-103\" type=\"checkbox\" ><label for=\"sk-estimator-id-103\" class=\"sk-toggleable__label sk-toggleable__label-arrow\">StackingRegressor</label><div class=\"sk-toggleable__content\"><pre>StackingRegressor(estimators=[(&#x27;knn_model&#x27;,\n",
              "                               Pipeline(steps=[(&#x27;columntransformer&#x27;,\n",
              "                                                ColumnTransformer(transformers=[(&#x27;standardscaler&#x27;,\n",
              "                                                                                 StandardScaler(),\n",
              "                                                                                 [&#x27;Year&#x27;,\n",
              "                                                                                  &#x27;Population&#x27;,\n",
              "                                                                                  &#x27;Imports&#x27;]),\n",
              "                                                                                (&#x27;onehotencoder&#x27;,\n",
              "                                                                                 OneHotEncoder(handle_unknown=&#x27;ignore&#x27;),\n",
              "                                                                                 [&#x27;geo&#x27;])])),\n",
              "                                               (&#x27;kneighborsregressor&#x27;,\n",
              "                                                KNeighborsRegressor(n_neighbors=8))])),\n",
              "                              (&#x27;linear_model&#x27;,\n",
              "                               Pipeline(steps=[(&#x27;columntransformer&#x27;,\n",
              "                                                ColumnTransformer(transformers=[(&#x27;standardscaler&#x27;,\n",
              "                                                                                 StandardScaler(),\n",
              "                                                                                 [&#x27;Immigrants&#x27;,\n",
              "                                                                                  &#x27;emigration&#x27;,\n",
              "                                                                                  &#x27;total_deaths&#x27;,\n",
              "                                                                                  &#x27;Imports&#x27;]),\n",
              "                                                                                (&#x27;onehotencoder&#x27;,\n",
              "                                                                                 OneHotEncoder(handle_unknown=&#x27;ignore&#x27;),\n",
              "                                                                                 [&#x27;geo&#x27;])])),\n",
              "                                               (&#x27;linearregression&#x27;,\n",
              "                                                LinearRegression())]))],\n",
              "                  final_estimator=LinearRegression())</pre></div></div></div><div class=\"sk-serial\"><div class=\"sk-item\"><div class=\"sk-parallel\"><div class=\"sk-parallel-item\"><div class=\"sk-item\"><div class=\"sk-label-container\"><div class=\"sk-label sk-toggleable\"><label>knn_model</label></div></div><div class=\"sk-serial\"><div class=\"sk-item\"><div class=\"sk-serial\"><div class=\"sk-item sk-dashed-wrapped\"><div class=\"sk-label-container\"><div class=\"sk-label sk-toggleable\"><input class=\"sk-toggleable__control sk-hidden--visually\" id=\"sk-estimator-id-104\" type=\"checkbox\" ><label for=\"sk-estimator-id-104\" class=\"sk-toggleable__label sk-toggleable__label-arrow\">columntransformer: ColumnTransformer</label><div class=\"sk-toggleable__content\"><pre>ColumnTransformer(transformers=[(&#x27;standardscaler&#x27;, StandardScaler(),\n",
              "                                 [&#x27;Year&#x27;, &#x27;Population&#x27;, &#x27;Imports&#x27;]),\n",
              "                                (&#x27;onehotencoder&#x27;,\n",
              "                                 OneHotEncoder(handle_unknown=&#x27;ignore&#x27;),\n",
              "                                 [&#x27;geo&#x27;])])</pre></div></div></div><div class=\"sk-parallel\"><div class=\"sk-parallel-item\"><div class=\"sk-item\"><div class=\"sk-label-container\"><div class=\"sk-label sk-toggleable\"><input class=\"sk-toggleable__control sk-hidden--visually\" id=\"sk-estimator-id-105\" type=\"checkbox\" ><label for=\"sk-estimator-id-105\" class=\"sk-toggleable__label sk-toggleable__label-arrow\">standardscaler</label><div class=\"sk-toggleable__content\"><pre>[&#x27;Year&#x27;, &#x27;Population&#x27;, &#x27;Imports&#x27;]</pre></div></div></div><div class=\"sk-serial\"><div class=\"sk-item\"><div class=\"sk-estimator sk-toggleable\"><input class=\"sk-toggleable__control sk-hidden--visually\" id=\"sk-estimator-id-106\" type=\"checkbox\" ><label for=\"sk-estimator-id-106\" class=\"sk-toggleable__label sk-toggleable__label-arrow\">StandardScaler</label><div class=\"sk-toggleable__content\"><pre>StandardScaler()</pre></div></div></div></div></div></div><div class=\"sk-parallel-item\"><div class=\"sk-item\"><div class=\"sk-label-container\"><div class=\"sk-label sk-toggleable\"><input class=\"sk-toggleable__control sk-hidden--visually\" id=\"sk-estimator-id-107\" type=\"checkbox\" ><label for=\"sk-estimator-id-107\" class=\"sk-toggleable__label sk-toggleable__label-arrow\">onehotencoder</label><div class=\"sk-toggleable__content\"><pre>[&#x27;geo&#x27;]</pre></div></div></div><div class=\"sk-serial\"><div class=\"sk-item\"><div class=\"sk-estimator sk-toggleable\"><input class=\"sk-toggleable__control sk-hidden--visually\" id=\"sk-estimator-id-108\" type=\"checkbox\" ><label for=\"sk-estimator-id-108\" class=\"sk-toggleable__label sk-toggleable__label-arrow\">OneHotEncoder</label><div class=\"sk-toggleable__content\"><pre>OneHotEncoder(handle_unknown=&#x27;ignore&#x27;)</pre></div></div></div></div></div></div></div></div><div class=\"sk-item\"><div class=\"sk-estimator sk-toggleable\"><input class=\"sk-toggleable__control sk-hidden--visually\" id=\"sk-estimator-id-109\" type=\"checkbox\" ><label for=\"sk-estimator-id-109\" class=\"sk-toggleable__label sk-toggleable__label-arrow\">KNeighborsRegressor</label><div class=\"sk-toggleable__content\"><pre>KNeighborsRegressor(n_neighbors=8)</pre></div></div></div></div></div></div></div></div><div class=\"sk-parallel-item\"><div class=\"sk-item\"><div class=\"sk-label-container\"><div class=\"sk-label sk-toggleable\"><label>linear_model</label></div></div><div class=\"sk-serial\"><div class=\"sk-item\"><div class=\"sk-serial\"><div class=\"sk-item sk-dashed-wrapped\"><div class=\"sk-label-container\"><div class=\"sk-label sk-toggleable\"><input class=\"sk-toggleable__control sk-hidden--visually\" id=\"sk-estimator-id-110\" type=\"checkbox\" ><label for=\"sk-estimator-id-110\" class=\"sk-toggleable__label sk-toggleable__label-arrow\">columntransformer: ColumnTransformer</label><div class=\"sk-toggleable__content\"><pre>ColumnTransformer(transformers=[(&#x27;standardscaler&#x27;, StandardScaler(),\n",
              "                                 [&#x27;Immigrants&#x27;, &#x27;emigration&#x27;, &#x27;total_deaths&#x27;,\n",
              "                                  &#x27;Imports&#x27;]),\n",
              "                                (&#x27;onehotencoder&#x27;,\n",
              "                                 OneHotEncoder(handle_unknown=&#x27;ignore&#x27;),\n",
              "                                 [&#x27;geo&#x27;])])</pre></div></div></div><div class=\"sk-parallel\"><div class=\"sk-parallel-item\"><div class=\"sk-item\"><div class=\"sk-label-container\"><div class=\"sk-label sk-toggleable\"><input class=\"sk-toggleable__control sk-hidden--visually\" id=\"sk-estimator-id-111\" type=\"checkbox\" ><label for=\"sk-estimator-id-111\" class=\"sk-toggleable__label sk-toggleable__label-arrow\">standardscaler</label><div class=\"sk-toggleable__content\"><pre>[&#x27;Immigrants&#x27;, &#x27;emigration&#x27;, &#x27;total_deaths&#x27;, &#x27;Imports&#x27;]</pre></div></div></div><div class=\"sk-serial\"><div class=\"sk-item\"><div class=\"sk-estimator sk-toggleable\"><input class=\"sk-toggleable__control sk-hidden--visually\" id=\"sk-estimator-id-112\" type=\"checkbox\" ><label for=\"sk-estimator-id-112\" class=\"sk-toggleable__label sk-toggleable__label-arrow\">StandardScaler</label><div class=\"sk-toggleable__content\"><pre>StandardScaler()</pre></div></div></div></div></div></div><div class=\"sk-parallel-item\"><div class=\"sk-item\"><div class=\"sk-label-container\"><div class=\"sk-label sk-toggleable\"><input class=\"sk-toggleable__control sk-hidden--visually\" id=\"sk-estimator-id-113\" type=\"checkbox\" ><label for=\"sk-estimator-id-113\" class=\"sk-toggleable__label sk-toggleable__label-arrow\">onehotencoder</label><div class=\"sk-toggleable__content\"><pre>[&#x27;geo&#x27;]</pre></div></div></div><div class=\"sk-serial\"><div class=\"sk-item\"><div class=\"sk-estimator sk-toggleable\"><input class=\"sk-toggleable__control sk-hidden--visually\" id=\"sk-estimator-id-114\" type=\"checkbox\" ><label for=\"sk-estimator-id-114\" class=\"sk-toggleable__label sk-toggleable__label-arrow\">OneHotEncoder</label><div class=\"sk-toggleable__content\"><pre>OneHotEncoder(handle_unknown=&#x27;ignore&#x27;)</pre></div></div></div></div></div></div></div></div><div class=\"sk-item\"><div class=\"sk-estimator sk-toggleable\"><input class=\"sk-toggleable__control sk-hidden--visually\" id=\"sk-estimator-id-115\" type=\"checkbox\" ><label for=\"sk-estimator-id-115\" class=\"sk-toggleable__label sk-toggleable__label-arrow\">LinearRegression</label><div class=\"sk-toggleable__content\"><pre>LinearRegression()</pre></div></div></div></div></div></div></div></div></div></div><div class=\"sk-item\"><div class=\"sk-parallel\"><div class=\"sk-parallel-item\"><div class=\"sk-item\"><div class=\"sk-label-container\"><div class=\"sk-label sk-toggleable\"><label>final_estimator</label></div></div><div class=\"sk-serial\"><div class=\"sk-item\"><div class=\"sk-estimator sk-toggleable\"><input class=\"sk-toggleable__control sk-hidden--visually\" id=\"sk-estimator-id-116\" type=\"checkbox\" ><label for=\"sk-estimator-id-116\" class=\"sk-toggleable__label sk-toggleable__label-arrow\">LinearRegression</label><div class=\"sk-toggleable__content\"><pre>LinearRegression()</pre></div></div></div></div></div></div></div></div></div></div></div></div>"
            ]
          },
          "metadata": {},
          "execution_count": 276
        }
      ]
    },
    {
      "cell_type": "code",
      "source": [
        "# cross validation scoring"
      ],
      "metadata": {
        "id": "JBY8ext-XIRm"
      },
      "execution_count": null,
      "outputs": []
    },
    {
      "cell_type": "code",
      "source": [
        "scores = -cross_val_score(stack_model,\n",
        "                         X_ens_no_2021,\n",
        "                         gdp_no_2021,\n",
        "                         scoring=\"neg_root_mean_squared_error\",\n",
        "                         cv=10)\n",
        "scores.mean()"
      ],
      "metadata": {
        "colab": {
          "base_uri": "https://localhost:8080/"
        },
        "outputId": "fc3e101e-f885-429b-f82e-f3ed8e657564",
        "id": "Kp3LV0t4XIRn"
      },
      "execution_count": 277,
      "outputs": [
        {
          "output_type": "execute_result",
          "data": {
            "text/plain": [
              "183450.02876797522"
            ]
          },
          "metadata": {},
          "execution_count": 277
        }
      ]
    },
    {
      "cell_type": "code",
      "source": [
        "# test scoring"
      ],
      "metadata": {
        "id": "Nmh-B9LyXIRn"
      },
      "execution_count": null,
      "outputs": []
    },
    {
      "cell_type": "code",
      "source": [
        "print(\"Train Score : \", stack_model.score(X_ens_no_2021, gdp_no_2021),\" Test Score : \", stack_model.score(X_ens_yes_2021, gdp_yes_2021))"
      ],
      "metadata": {
        "colab": {
          "base_uri": "https://localhost:8080/"
        },
        "outputId": "05ad9c06-e5b4-4236-cc2b-fdb73e7fdcb2",
        "id": "00ip3DL8XIRn"
      },
      "execution_count": 280,
      "outputs": [
        {
          "output_type": "stream",
          "name": "stdout",
          "text": [
            "Train Score :  0.989778742246415  Test Score :  0.9896728805773415\n"
          ]
        }
      ]
    },
    {
      "cell_type": "code",
      "source": [
        "y_ens_2021_pred = stack_model.predict(X_ens_yes_2021)"
      ],
      "metadata": {
        "id": "0CQqspBpXIRo"
      },
      "execution_count": 281,
      "outputs": []
    },
    {
      "cell_type": "markdown",
      "source": [
        "RMSE"
      ],
      "metadata": {
        "id": "RR8VO46PXIRo"
      }
    },
    {
      "cell_type": "code",
      "source": [
        "from sklearn.metrics import mean_squared_error\n",
        "\n",
        "rmse = np.sqrt(mean_squared_error(gdp_yes_2021, y_ens_2021_pred))\n",
        "rmse"
      ],
      "metadata": {
        "colab": {
          "base_uri": "https://localhost:8080/"
        },
        "outputId": "64d637a1-14ab-40bc-cc1b-942f4d73d763",
        "id": "xwVMdH2VXIRo"
      },
      "execution_count": 282,
      "outputs": [
        {
          "output_type": "execute_result",
          "data": {
            "text/plain": [
              "85751.33452716541"
            ]
          },
          "metadata": {},
          "execution_count": 282
        }
      ]
    },
    {
      "cell_type": "markdown",
      "source": [
        "Benchmark"
      ],
      "metadata": {
        "id": "pnjWgGCMXIRo"
      }
    },
    {
      "cell_type": "code",
      "source": [
        "gdp_yes_2021.std()"
      ],
      "metadata": {
        "colab": {
          "base_uri": "https://localhost:8080/"
        },
        "outputId": "cb8b2054-c066-479f-b399-7845cbd0bd8d",
        "id": "RBY_LfMpXIRp"
      },
      "execution_count": 283,
      "outputs": [
        {
          "output_type": "execute_result",
          "data": {
            "text/plain": [
              "860533.8484067871"
            ]
          },
          "metadata": {},
          "execution_count": 283
        }
      ]
    },
    {
      "cell_type": "code",
      "source": [
        "from sklearn.dummy import DummyRegressor\n",
        "\n",
        "mean_model = DummyRegressor(strategy=\"mean\")\n",
        "\n",
        "-cross_val_score(mean_model, X=X_ens_no_2021, y=gdp_no_2021, cv=10,\n",
        "                           scoring=\"neg_root_mean_squared_error\").mean()"
      ],
      "metadata": {
        "colab": {
          "base_uri": "https://localhost:8080/"
        },
        "outputId": "b08cfa61-66c9-4940-c6d2-ab6bb8176730",
        "id": "CAUs3xxUXIRp"
      },
      "execution_count": 284,
      "outputs": [
        {
          "output_type": "execute_result",
          "data": {
            "text/plain": [
              "659915.7065210016"
            ]
          },
          "metadata": {},
          "execution_count": 284
        }
      ]
    },
    {
      "cell_type": "markdown",
      "source": [
        "Based on this benchmark, I'd say our model did a much better job!"
      ],
      "metadata": {
        "id": "2sDPwQf-XIRq"
      }
    },
    {
      "cell_type": "markdown",
      "source": [
        "R^2"
      ],
      "metadata": {
        "id": "084y5TyCXIRq"
      }
    },
    {
      "cell_type": "code",
      "source": [
        "r_squared = 1 - (((gdp_yes_2021 - y_ens_2021_pred)**2).mean()) / ((gdp_yes_2021 - y_ens_2021_pred.mean())**2).mean()\n",
        "r_squared"
      ],
      "metadata": {
        "colab": {
          "base_uri": "https://localhost:8080/"
        },
        "outputId": "5e7df156-10c7-41e4-843f-db931236a47c",
        "id": "J9FlrnG9XIRq"
      },
      "execution_count": 286,
      "outputs": [
        {
          "output_type": "execute_result",
          "data": {
            "text/plain": [
              "0.9896796766731947"
            ]
          },
          "metadata": {},
          "execution_count": 286
        }
      ]
    },
    {
      "cell_type": "markdown",
      "source": [
        "That's a really good R^2 value.\n",
        "98.968% of the variability in GDP is explained by this model."
      ],
      "metadata": {
        "id": "WKdA30UNXIRq"
      }
    },
    {
      "cell_type": "markdown",
      "source": [
        "# Time Series"
      ],
      "metadata": {
        "id": "BxWLMIs-mNdf"
      }
    },
    {
      "cell_type": "code",
      "source": [
        "df_eurostat_future = pd.read_csv(\"https://raw.githubusercontent.com/SDuncan5/Eurostat-Data/main/eurostat_time_series.csv\")\n",
        "df_eurostat_future = df_eurostat_future.drop(columns=[\"Unnamed: 0\"])"
      ],
      "metadata": {
        "id": "zKfe7oAKmPIC"
      },
      "execution_count": 301,
      "outputs": []
    },
    {
      "cell_type": "code",
      "source": [
        "df_eurostat_future[\"log(Immigrants)\"] = np.log(df_eurostat_future[\"Immigrants\"])\n",
        "df_eurostat_future[\"log(Population)\"] = np.log(df_eurostat_future[\"Population\"])\n",
        "df_eurostat_future[\"log(Emigrants)\"] = np.log(df_eurostat_future[\"emigration\"])\n",
        "df_eurostat_future[\"log(Unemployment)\"] = np.log(df_eurostat_future[\"unemployment\"]).fillna(0)\n",
        "df_eurostat_future[\"log(Deaths)\"] = np.log(df_eurostat_future[\"total_deaths\"])\n",
        "df_eurostat_future[\"log(Exports)\"] = np.log(df_eurostat_future[\"Exports\"])\n",
        "df_eurostat_future[\"log(Imports)\"] = np.log(df_eurostat_future[\"Imports\"])\n",
        "df_eurostat_future[\"log(GDP)\"] = np.log(df_eurostat_future[\"GDP\"])\n",
        "\n",
        "log_gdp = np.log(gdp)"
      ],
      "metadata": {
        "id": "TRE5uzbpn33R"
      },
      "execution_count": 314,
      "outputs": []
    },
    {
      "cell_type": "markdown",
      "source": [
        "## Comparing Transformed Linear Model to Time Series Data"
      ],
      "metadata": {
        "id": "ixOAKuUImtuT"
      }
    },
    {
      "cell_type": "code",
      "source": [
        "# train\n",
        "X_time_train = X_reg[['Year', 'CPI', 'log(Immigrants)', 'log(Population)', 'log(Unemployment)', 'log(Deaths)', 'log(Exports)']]\n",
        "y_time_train = log_gdp\n",
        "X_time_test = df_eurostat_future[['Year', 'CPI', 'log(Immigrants)', 'log(Population)', 'log(Unemployment)', 'log(Deaths)', 'log(Exports)']]\n",
        "y_time_test = df_eurostat_future[\"log(GDP)\"]\n",
        "# concatenate X and y\n",
        "#X_train_combined = pd.concat([X_time_train, pd.DataFrame(log_gdp)], axis=1)\n",
        "\n",
        "# no_2021 = df_combined[df_combined[\"Year\"] != 2021]\n",
        "# X_lin1_no_2021 = no_2021.drop(columns=[\"GDP\"])\n",
        "# log_gdp_no_2021 = no_2021[\"GDP\"]\n",
        "\n",
        "# yes_2021 = df_combined[df_combined[\"Year\"] == 2021]\n",
        "# X_lin1_yes_2021 = yes_2021.drop(columns=[\"GDP\"])\n",
        "# log_gdp_yes_2021 = yes_2021[\"GDP\"]"
      ],
      "metadata": {
        "id": "8_6_5T4Qo7y-"
      },
      "execution_count": 315,
      "outputs": []
    },
    {
      "cell_type": "code",
      "source": [
        "from sklearn.preprocessing import StandardScaler, OneHotEncoder\n",
        "from sklearn.linear_model import LinearRegression\n",
        "from sklearn.pipeline import make_pipeline\n",
        "from sklearn.compose import make_column_transformer\n",
        "from sklearn.model_selection import cross_val_score\n",
        "\n",
        "pipeline = make_pipeline(\n",
        "    StandardScaler(),\n",
        "    LinearRegression()\n",
        ")"
      ],
      "metadata": {
        "id": "3GyKs6u4o7zJ"
      },
      "execution_count": 316,
      "outputs": []
    },
    {
      "cell_type": "code",
      "source": [
        "pipeline.fit(X_time_train, y_time_train)"
      ],
      "metadata": {
        "colab": {
          "base_uri": "https://localhost:8080/",
          "height": 125
        },
        "outputId": "23f513f1-28dd-4c72-df69-94f8925b1894",
        "id": "eT5pU21jo7zJ"
      },
      "execution_count": 317,
      "outputs": [
        {
          "output_type": "execute_result",
          "data": {
            "text/plain": [
              "Pipeline(steps=[('standardscaler', StandardScaler()),\n",
              "                ('linearregression', LinearRegression())])"
            ],
            "text/html": [
              "<style>#sk-container-id-19 {color: black;background-color: white;}#sk-container-id-19 pre{padding: 0;}#sk-container-id-19 div.sk-toggleable {background-color: white;}#sk-container-id-19 label.sk-toggleable__label {cursor: pointer;display: block;width: 100%;margin-bottom: 0;padding: 0.3em;box-sizing: border-box;text-align: center;}#sk-container-id-19 label.sk-toggleable__label-arrow:before {content: \"▸\";float: left;margin-right: 0.25em;color: #696969;}#sk-container-id-19 label.sk-toggleable__label-arrow:hover:before {color: black;}#sk-container-id-19 div.sk-estimator:hover label.sk-toggleable__label-arrow:before {color: black;}#sk-container-id-19 div.sk-toggleable__content {max-height: 0;max-width: 0;overflow: hidden;text-align: left;background-color: #f0f8ff;}#sk-container-id-19 div.sk-toggleable__content pre {margin: 0.2em;color: black;border-radius: 0.25em;background-color: #f0f8ff;}#sk-container-id-19 input.sk-toggleable__control:checked~div.sk-toggleable__content {max-height: 200px;max-width: 100%;overflow: auto;}#sk-container-id-19 input.sk-toggleable__control:checked~label.sk-toggleable__label-arrow:before {content: \"▾\";}#sk-container-id-19 div.sk-estimator input.sk-toggleable__control:checked~label.sk-toggleable__label {background-color: #d4ebff;}#sk-container-id-19 div.sk-label input.sk-toggleable__control:checked~label.sk-toggleable__label {background-color: #d4ebff;}#sk-container-id-19 input.sk-hidden--visually {border: 0;clip: rect(1px 1px 1px 1px);clip: rect(1px, 1px, 1px, 1px);height: 1px;margin: -1px;overflow: hidden;padding: 0;position: absolute;width: 1px;}#sk-container-id-19 div.sk-estimator {font-family: monospace;background-color: #f0f8ff;border: 1px dotted black;border-radius: 0.25em;box-sizing: border-box;margin-bottom: 0.5em;}#sk-container-id-19 div.sk-estimator:hover {background-color: #d4ebff;}#sk-container-id-19 div.sk-parallel-item::after {content: \"\";width: 100%;border-bottom: 1px solid gray;flex-grow: 1;}#sk-container-id-19 div.sk-label:hover label.sk-toggleable__label {background-color: #d4ebff;}#sk-container-id-19 div.sk-serial::before {content: \"\";position: absolute;border-left: 1px solid gray;box-sizing: border-box;top: 0;bottom: 0;left: 50%;z-index: 0;}#sk-container-id-19 div.sk-serial {display: flex;flex-direction: column;align-items: center;background-color: white;padding-right: 0.2em;padding-left: 0.2em;position: relative;}#sk-container-id-19 div.sk-item {position: relative;z-index: 1;}#sk-container-id-19 div.sk-parallel {display: flex;align-items: stretch;justify-content: center;background-color: white;position: relative;}#sk-container-id-19 div.sk-item::before, #sk-container-id-19 div.sk-parallel-item::before {content: \"\";position: absolute;border-left: 1px solid gray;box-sizing: border-box;top: 0;bottom: 0;left: 50%;z-index: -1;}#sk-container-id-19 div.sk-parallel-item {display: flex;flex-direction: column;z-index: 1;position: relative;background-color: white;}#sk-container-id-19 div.sk-parallel-item:first-child::after {align-self: flex-end;width: 50%;}#sk-container-id-19 div.sk-parallel-item:last-child::after {align-self: flex-start;width: 50%;}#sk-container-id-19 div.sk-parallel-item:only-child::after {width: 0;}#sk-container-id-19 div.sk-dashed-wrapped {border: 1px dashed gray;margin: 0 0.4em 0.5em 0.4em;box-sizing: border-box;padding-bottom: 0.4em;background-color: white;}#sk-container-id-19 div.sk-label label {font-family: monospace;font-weight: bold;display: inline-block;line-height: 1.2em;}#sk-container-id-19 div.sk-label-container {text-align: center;}#sk-container-id-19 div.sk-container {/* jupyter's `normalize.less` sets `[hidden] { display: none; }` but bootstrap.min.css set `[hidden] { display: none !important; }` so we also need the `!important` here to be able to override the default hidden behavior on the sphinx rendered scikit-learn.org. See: https://github.com/scikit-learn/scikit-learn/issues/21755 */display: inline-block !important;position: relative;}#sk-container-id-19 div.sk-text-repr-fallback {display: none;}</style><div id=\"sk-container-id-19\" class=\"sk-top-container\"><div class=\"sk-text-repr-fallback\"><pre>Pipeline(steps=[(&#x27;standardscaler&#x27;, StandardScaler()),\n",
              "                (&#x27;linearregression&#x27;, LinearRegression())])</pre><b>In a Jupyter environment, please rerun this cell to show the HTML representation or trust the notebook. <br />On GitHub, the HTML representation is unable to render, please try loading this page with nbviewer.org.</b></div><div class=\"sk-container\" hidden><div class=\"sk-item sk-dashed-wrapped\"><div class=\"sk-label-container\"><div class=\"sk-label sk-toggleable\"><input class=\"sk-toggleable__control sk-hidden--visually\" id=\"sk-estimator-id-120\" type=\"checkbox\" ><label for=\"sk-estimator-id-120\" class=\"sk-toggleable__label sk-toggleable__label-arrow\">Pipeline</label><div class=\"sk-toggleable__content\"><pre>Pipeline(steps=[(&#x27;standardscaler&#x27;, StandardScaler()),\n",
              "                (&#x27;linearregression&#x27;, LinearRegression())])</pre></div></div></div><div class=\"sk-serial\"><div class=\"sk-item\"><div class=\"sk-estimator sk-toggleable\"><input class=\"sk-toggleable__control sk-hidden--visually\" id=\"sk-estimator-id-121\" type=\"checkbox\" ><label for=\"sk-estimator-id-121\" class=\"sk-toggleable__label sk-toggleable__label-arrow\">StandardScaler</label><div class=\"sk-toggleable__content\"><pre>StandardScaler()</pre></div></div></div><div class=\"sk-item\"><div class=\"sk-estimator sk-toggleable\"><input class=\"sk-toggleable__control sk-hidden--visually\" id=\"sk-estimator-id-122\" type=\"checkbox\" ><label for=\"sk-estimator-id-122\" class=\"sk-toggleable__label sk-toggleable__label-arrow\">LinearRegression</label><div class=\"sk-toggleable__content\"><pre>LinearRegression()</pre></div></div></div></div></div></div></div>"
            ]
          },
          "metadata": {},
          "execution_count": 317
        }
      ]
    },
    {
      "cell_type": "code",
      "source": [
        "# cross validation scoring"
      ],
      "metadata": {
        "id": "794ZwURto7zK"
      },
      "execution_count": null,
      "outputs": []
    },
    {
      "cell_type": "code",
      "source": [
        "scores = -cross_val_score(pipeline,\n",
        "                         X_time_train,\n",
        "                         y_time_train,\n",
        "                         scoring=\"neg_root_mean_squared_error\",\n",
        "                         cv=10)\n",
        "scores.mean()"
      ],
      "metadata": {
        "colab": {
          "base_uri": "https://localhost:8080/"
        },
        "outputId": "258b26c1-d64a-4594-dc71-4bca4bc57730",
        "id": "Y83UhJWlo7zK"
      },
      "execution_count": 318,
      "outputs": [
        {
          "output_type": "execute_result",
          "data": {
            "text/plain": [
              "0.3132950858973453"
            ]
          },
          "metadata": {},
          "execution_count": 318
        }
      ]
    },
    {
      "cell_type": "code",
      "source": [
        "# test scoring"
      ],
      "metadata": {
        "id": "kvny984po7zK"
      },
      "execution_count": null,
      "outputs": []
    },
    {
      "cell_type": "code",
      "source": [
        "print(\"Train Score : \", pipeline.score(X_time_train, y_time_train),\" Test Score : \", pipeline.score(X_time_test, y_time_test))"
      ],
      "metadata": {
        "colab": {
          "base_uri": "https://localhost:8080/"
        },
        "outputId": "d6a77917-6aa7-4f34-e15c-26e6cbc1db10",
        "id": "tAEshvTDo7zK"
      },
      "execution_count": 319,
      "outputs": [
        {
          "output_type": "stream",
          "name": "stdout",
          "text": [
            "Train Score :  0.9679465698710387  Test Score :  0.9695005058467016\n"
          ]
        }
      ]
    },
    {
      "cell_type": "code",
      "source": [
        "y_time_pred = pipeline.predict(X_time_test)"
      ],
      "metadata": {
        "id": "FWt_tdzZo7zK"
      },
      "execution_count": 320,
      "outputs": []
    },
    {
      "cell_type": "markdown",
      "source": [
        "RMSE"
      ],
      "metadata": {
        "id": "4WleBL2wo7zL"
      }
    },
    {
      "cell_type": "code",
      "source": [
        "from sklearn.metrics import mean_squared_error\n",
        "\n",
        "rmse = np.sqrt(mean_squared_error(y_time_test, y_time_pred))\n",
        "rmse"
      ],
      "metadata": {
        "colab": {
          "base_uri": "https://localhost:8080/"
        },
        "outputId": "fbf144e3-5ff3-4064-e8b0-cea3b3df6778",
        "id": "-PzTQrsHo7zL"
      },
      "execution_count": 321,
      "outputs": [
        {
          "output_type": "execute_result",
          "data": {
            "text/plain": [
              "0.251391018311425"
            ]
          },
          "metadata": {},
          "execution_count": 321
        }
      ]
    },
    {
      "cell_type": "markdown",
      "source": [
        "Benchmark"
      ],
      "metadata": {
        "id": "9DBkWZ7Ro7zL"
      }
    },
    {
      "cell_type": "code",
      "source": [
        "from sklearn.dummy import DummyRegressor\n",
        "\n",
        "mean_model = DummyRegressor(strategy=\"mean\")\n",
        "\n",
        "-cross_val_score(mean_model, X=X_time_train, y=y_time_train, cv=10,\n",
        "                           scoring=\"neg_root_mean_squared_error\").mean()"
      ],
      "metadata": {
        "colab": {
          "base_uri": "https://localhost:8080/"
        },
        "outputId": "edce0b69-03cf-441c-e9e6-1c8f8a99167d",
        "id": "tewcZLlHo7zL"
      },
      "execution_count": 323,
      "outputs": [
        {
          "output_type": "execute_result",
          "data": {
            "text/plain": [
              "1.485843915942742"
            ]
          },
          "metadata": {},
          "execution_count": 323
        }
      ]
    },
    {
      "cell_type": "code",
      "source": [
        "y_time_test.std()"
      ],
      "metadata": {
        "colab": {
          "base_uri": "https://localhost:8080/"
        },
        "outputId": "e19a7538-03ea-42fa-8fad-652afbde1f6b",
        "id": "JMDZKwnKo7zL"
      },
      "execution_count": 324,
      "outputs": [
        {
          "output_type": "execute_result",
          "data": {
            "text/plain": [
              "1.444108715440894"
            ]
          },
          "metadata": {},
          "execution_count": 324
        }
      ]
    },
    {
      "cell_type": "markdown",
      "source": [
        "Based on this benchmark, I'd say our model did a much better job!"
      ],
      "metadata": {
        "id": "hTH-LtO6o7zM"
      }
    },
    {
      "cell_type": "markdown",
      "source": [
        "R^2"
      ],
      "metadata": {
        "id": "xvNFfSCvo7zM"
      }
    },
    {
      "cell_type": "code",
      "source": [
        "r_squared = 1 - (((y_time_test - y_time_pred)**2).mean()) / ((y_time_test - y_time_pred.mean())**2).mean()\n",
        "r_squared"
      ],
      "metadata": {
        "colab": {
          "base_uri": "https://localhost:8080/"
        },
        "outputId": "0aa77474-ba22-424a-e79d-831376389944",
        "id": "jxSLuECqo7zM"
      },
      "execution_count": 325,
      "outputs": [
        {
          "output_type": "execute_result",
          "data": {
            "text/plain": [
              "0.9695592364290889"
            ]
          },
          "metadata": {},
          "execution_count": 325
        }
      ]
    },
    {
      "cell_type": "markdown",
      "source": [
        "That's a really good R^2 value.\n",
        "96.96% of the variability in GDP is explained by this model."
      ],
      "metadata": {
        "id": "cIONJa2ho7zM"
      }
    }
  ]
}